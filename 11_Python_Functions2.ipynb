{
  "nbformat": 4,
  "nbformat_minor": 0,
  "metadata": {
    "colab": {
      "name": "Untitled17.ipynb",
      "provenance": [],
      "authorship_tag": "ABX9TyMuEaU5tRAtg49WCspnIbwT",
      "include_colab_link": true
    },
    "kernelspec": {
      "name": "python3",
      "display_name": "Python 3"
    },
    "language_info": {
      "name": "python"
    }
  },
  "cells": [
    {
      "cell_type": "markdown",
      "metadata": {
        "id": "view-in-github",
        "colab_type": "text"
      },
      "source": [
        "<a href=\"https://colab.research.google.com/github/satyhim/Python_Basics/blob/main/11_Python_Functions2.ipynb\" target=\"_parent\"><img src=\"https://colab.research.google.com/assets/colab-badge.svg\" alt=\"Open In Colab\"/></a>"
      ]
    },
    {
      "cell_type": "markdown",
      "source": [
        "#Anonymous Functions:(Lambda Function)\n",
        "\n",
        "Sometimes we can declare a function without any name,such type of nameless functions are called anonymous functions or lambda functions.\n",
        "\n",
        "The main purpose of anonymous function is just for instant use(i.e for one time usage)\n",
        "\n",
        "We can define by using lambda keyword\n",
        "\n",
        "lambda n:n*n\n",
        "\n",
        "SyntaxoflambdaFunction:lambda argument_list:expression\n",
        "\n",
        "Note: By using Lambda Functions we can write very concise code so that readability of the program will be improved."
      ],
      "metadata": {
        "id": "XXbXzwTGhvAY"
      }
    },
    {
      "cell_type": "code",
      "source": [
        "'''Q) Write a Program to create a Lambda Function to find Square of\n",
        "  given Number?'''\n",
        "\n",
        "s= lambda n: n*n\n",
        "print(\"The Square of 4 is:\",s(4))\n",
        "print(\"The Square of 5 is:\",s(5))"
      ],
      "metadata": {
        "colab": {
          "base_uri": "https://localhost:8080/"
        },
        "id": "5Kafk64MhzbA",
        "outputId": "ad691a1e-e983-4bf7-d2b5-2d5a87ac5aa7"
      },
      "execution_count": 2,
      "outputs": [
        {
          "output_type": "stream",
          "name": "stdout",
          "text": [
            "The Square of 4 is: 16\n",
            "The Square of 5 is: 25\n"
          ]
        }
      ]
    },
    {
      "cell_type": "code",
      "source": [
        "'''Q) Lambda Function to find Sum of 2 given Numbers'''\n",
        "s=lambda a,b:a+b\n",
        "print(\"The Sum  of 10,20 is:\",s(10,20))\n",
        "print(\"The Sum of 100,200 is:\",s(100,200))"
      ],
      "metadata": {
        "colab": {
          "base_uri": "https://localhost:8080/"
        },
        "id": "QspjL1bViIYW",
        "outputId": "eac07d26-ab06-427e-82cd-61b82f7cb7c7"
      },
      "execution_count": 3,
      "outputs": [
        {
          "output_type": "stream",
          "name": "stdout",
          "text": [
            "The Sum  of 10,20 is: 30\n",
            "The Sum of 100,200 is: 300\n"
          ]
        }
      ]
    },
    {
      "cell_type": "code",
      "source": [
        "'''Q) Lambda Function to find biggest of given Values'''\n",
        "s=lambda a,b: a if a>b else b\n",
        "print(\"The Biggest of 10,20 is:\",s(10,20))\n",
        "print(\"The Biggest of 100,200is:\",s(100,200))"
      ],
      "metadata": {
        "colab": {
          "base_uri": "https://localhost:8080/"
        },
        "id": "J9stIzKciMv_",
        "outputId": "e5f45844-227c-47ff-82ef-ec3e577ba21e"
      },
      "execution_count": 4,
      "outputs": [
        {
          "output_type": "stream",
          "name": "stdout",
          "text": [
            "The Biggest of 10,20 is: 20\n",
            "The Biggest of 100,200is: 200\n"
          ]
        }
      ]
    },
    {
      "cell_type": "markdown",
      "source": [
        "Note: Lambda Function internally returns expression value and we are not required to write return statement explicitly.\n",
        "\n",
        "We can use lambda functions very commonly with filter(), map() and reduce() functions, because these functions expect function as argument."
      ],
      "metadata": {
        "id": "j7sK4s5oiO1O"
      }
    },
    {
      "cell_type": "markdown",
      "source": [
        "#filter() Function:\n",
        "\n",
        "We can use filter() function to filter values from the given sequence based on some condition.\n",
        "\n",
        "**syntax: filter(function,sequence)**\n",
        "\n",
        "Where Function Argument is responsible to perform conditional check Sequence can be List OR Tuple OR String."
      ],
      "metadata": {
        "id": "EJ7p6w8MiR-H"
      }
    },
    {
      "cell_type": "code",
      "source": [
        "\"\"\"Q) Program to filter only Even Numbers from the List by using\n",
        "  filter() Function?\"\"\"\n",
        "# Without Lambda Function:\n",
        "def isEven(x):\n",
        "    if x%2==0:\n",
        "       return True\n",
        "    else:\n",
        "       return False\n",
        "l=[0,5,10,15,20,25,30]\n",
        "l1=list(filter(isEven,l))\n",
        "print(l1) #[0,10,20,30]"
      ],
      "metadata": {
        "colab": {
          "base_uri": "https://localhost:8080/"
        },
        "id": "jQDgzEoZiW6e",
        "outputId": "b5917aba-dcc0-4bc7-cd54-9d0a51b7eb2e"
      },
      "execution_count": 5,
      "outputs": [
        {
          "output_type": "stream",
          "name": "stdout",
          "text": [
            "[0, 10, 20, 30]\n"
          ]
        }
      ]
    },
    {
      "cell_type": "code",
      "source": [
        "# With Lambda Function: Getting odd and even numbers\n",
        "\n",
        "l=[0,5,10,15,20,25,30]\n",
        "l1=list(filter(lambda x:x%2==0,l))\n",
        "print(l1) #[0,10,20,30]\n",
        "l2=list(filter(lambda x:x%2!=0,l))\n",
        "print(l2)#[5,15,25]"
      ],
      "metadata": {
        "colab": {
          "base_uri": "https://localhost:8080/"
        },
        "id": "DrmnwZ0YiYiw",
        "outputId": "276d17c8-5e85-4cb9-f6e7-6bc71fc0f604"
      },
      "execution_count": 6,
      "outputs": [
        {
          "output_type": "stream",
          "name": "stdout",
          "text": [
            "[0, 10, 20, 30]\n",
            "[5, 15, 25]\n"
          ]
        }
      ]
    },
    {
      "cell_type": "markdown",
      "source": [
        "#map() Function:\n",
        "\n",
        "For every element present in the given sequence,apply some functionality and generate new element with the required modification. For this requirement we should go for map() function.\n",
        "\n",
        "Eg: For every element present in the list perform double and generate new list of doubles.\n",
        "\n",
        "Syntax: map(function, sequence)\n",
        "\n",
        "The function can be applied on each element of sequence and generates new sequence."
      ],
      "metadata": {
        "id": "xZIeBMtMiaH2"
      }
    },
    {
      "cell_type": "code",
      "source": [
        "# Without Lambda\n",
        "l=[1,2,3,4,5]\n",
        "def doubleIt(x):\n",
        "    return 2*x\n",
        "l1=list(map(doubleIt,l))\n",
        "print(l1)#[2,4,6,8,10]"
      ],
      "metadata": {
        "colab": {
          "base_uri": "https://localhost:8080/"
        },
        "id": "LIuu72Atid-A",
        "outputId": "0867521e-482c-4a80-935d-9217dde50a41"
      },
      "execution_count": 7,
      "outputs": [
        {
          "output_type": "stream",
          "name": "stdout",
          "text": [
            "[2, 4, 6, 8, 10]\n"
          ]
        }
      ]
    },
    {
      "cell_type": "code",
      "source": [
        "# With Lambda\n",
        "l=[1,2,3,4,5]\n",
        "l1=list(map(lambda x:2*x,l))\n",
        "print(l1) #[2, 4, 6, 8, 10]"
      ],
      "metadata": {
        "colab": {
          "base_uri": "https://localhost:8080/"
        },
        "id": "glj0VwjQigim",
        "outputId": "155bf819-183a-4ff8-f340-ec794c13beed"
      },
      "execution_count": 8,
      "outputs": [
        {
          "output_type": "stream",
          "name": "stdout",
          "text": [
            "[2, 4, 6, 8, 10]\n"
          ]
        }
      ]
    },
    {
      "cell_type": "markdown",
      "source": [
        "#Homework\n",
        "\n",
        "Q. Find the square of given number in list using map and lambda function.\n",
        "\n",
        "l=[1004, 5, 987,5674]"
      ],
      "metadata": {
        "id": "6Bqp59fyiipY"
      }
    },
    {
      "cell_type": "markdown",
      "source": [
        "##reduce() Function:\n",
        "\n",
        "educe() function reduces sequence of elements into a single element by applying the specified function.\n",
        "\n",
        "syntax: reduce(function,sequence)\n",
        "\n",
        "reduce() function present in functools module and hence we should write import statement"
      ],
      "metadata": {
        "id": "7MtCoTa4iqfG"
      }
    },
    {
      "cell_type": "code",
      "source": [
        "from functools import*\n",
        "l=[10,20,30,40,50]\n",
        "result=reduce(lambda x,y:x+y,l)\n",
        "print(result)#150"
      ],
      "metadata": {
        "colab": {
          "base_uri": "https://localhost:8080/"
        },
        "id": "z4PUElpJiusW",
        "outputId": "cdf4122d-afbb-4b15-ac61-14ac1cdfea82"
      },
      "execution_count": 9,
      "outputs": [
        {
          "output_type": "stream",
          "name": "stdout",
          "text": [
            "150\n"
          ]
        }
      ]
    },
    {
      "cell_type": "code",
      "source": [
        "result=reduce(lambda x,y:x*y,l)\n",
        "print(result) #12000000"
      ],
      "metadata": {
        "colab": {
          "base_uri": "https://localhost:8080/"
        },
        "id": "89VVPkkDiwgP",
        "outputId": "b0636a85-410e-4b98-dd36-24ce9225c169"
      },
      "execution_count": 10,
      "outputs": [
        {
          "output_type": "stream",
          "name": "stdout",
          "text": [
            "12000000\n"
          ]
        }
      ]
    },
    {
      "cell_type": "markdown",
      "source": [
        "#Function Aliasing:\n",
        "\n",
        "For the existing function we can give another name, which is nothing but function aliasing."
      ],
      "metadata": {
        "id": "EHFQpjwXiyD2"
      }
    },
    {
      "cell_type": "code",
      "source": [
        "def wish(name):\n",
        "    print(\"Good Morning:\",name)\n",
        "greeting=wish\n",
        "print(id(wish))\n",
        "print(id(greeting))\n",
        "\n",
        "greeting('Akash')\n",
        "wish('Akash')\n",
        "\n",
        "'''In the above example only one function is available \n",
        "but we can call that function by using either wish name or greeting name.'''"
      ],
      "metadata": {
        "colab": {
          "base_uri": "https://localhost:8080/",
          "height": 105
        },
        "id": "JhHqtgL-i1WO",
        "outputId": "b01f0305-56f4-42ed-9b7f-efc10ad7d969"
      },
      "execution_count": 11,
      "outputs": [
        {
          "output_type": "stream",
          "name": "stdout",
          "text": [
            "140425794766608\n",
            "140425794766608\n",
            "Good Morning: Akash\n",
            "Good Morning: Akash\n"
          ]
        },
        {
          "output_type": "execute_result",
          "data": {
            "text/plain": [
              "'In the above example only one function is available \\nbut we can call that function by using either wish name or greeting name.'"
            ],
            "application/vnd.google.colaboratory.intrinsic+json": {
              "type": "string"
            }
          },
          "metadata": {},
          "execution_count": 11
        }
      ]
    }
  ]
}