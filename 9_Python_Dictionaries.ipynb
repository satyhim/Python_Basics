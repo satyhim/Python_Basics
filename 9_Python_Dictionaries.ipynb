{
  "nbformat": 4,
  "nbformat_minor": 0,
  "metadata": {
    "colab": {
      "name": "Copy of Untitled14.ipynb",
      "provenance": [],
      "collapsed_sections": [],
      "authorship_tag": "ABX9TyMP9R+GBL8gnd2zNe2EIAkf",
      "include_colab_link": true
    },
    "kernelspec": {
      "name": "python3",
      "display_name": "Python 3"
    },
    "language_info": {
      "name": "python"
    }
  },
  "cells": [
    {
      "cell_type": "markdown",
      "metadata": {
        "id": "view-in-github",
        "colab_type": "text"
      },
      "source": [
        "<a href=\"https://colab.research.google.com/github/satyhim/Python_Basics/blob/main/9_Python_Dictionaries.ipynb\" target=\"_parent\"><img src=\"https://colab.research.google.com/assets/colab-badge.svg\" alt=\"Open In Colab\"/></a>"
      ]
    },
    {
      "cell_type": "markdown",
      "source": [
        "#Dictionary Data Structure\n",
        "֍We can use List, Tuple and Set to represent a group of individual objects as a single entity\n",
        "\n",
        "֍ If we want to represent a group of objects as key-value pairs then we should go for Dictionary.\n",
        "\n",
        "rollno ---- name\n",
        "\n",
        "phone number -- address\n",
        "\n",
        "ipaddress --- domain name\n",
        "\n",
        "֍Duplicate keys are not allowed but values can be duplicated.\n",
        "\n",
        "֍Hetrogeneous objects are allowed for both key and values.\n",
        "\n",
        "֍Insertion order is not preserved.\n",
        "\n",
        "֍Dictionaries are mutable.\n",
        "\n",
        "֍Dictionaries are dynamic.\n",
        "\n",
        "֍Indexing and slicing concepts are not applicable.\n",
        "\n",
        "#How to create a Dictionary?"
      ],
      "metadata": {
        "id": "yF0KgJCI65eS"
      }
    },
    {
      "cell_type": "code",
      "source": [
        "# Creating a empty dictionary\n",
        "# Syntax: d={} OR d=dict()\n",
        "d={}\n",
        "d[100]=\"Manoj\"\n",
        "d[200]=\"Sandeep\"\n",
        "d[300]=\"Yogesh\"\n",
        "d[400]=\"Satish\"\n",
        "print(d)"
      ],
      "metadata": {
        "colab": {
          "base_uri": "https://localhost:8080/"
        },
        "id": "BDOXz8qN7A09",
        "outputId": "77db602a-842f-46d3-c8ba-40a271fe6ec1"
      },
      "execution_count": null,
      "outputs": [
        {
          "output_type": "stream",
          "name": "stdout",
          "text": [
            "{100: 'Manoj', 200: 'Sandeep', 300: 'Yogesh', 400: 'Satish'}\n"
          ]
        }
      ]
    },
    {
      "cell_type": "code",
      "source": [
        "# If we know the values, we can directly create dict as follow:\n",
        "d = {100: 'Manoj', 200: 'Sandeep', 300: 'Yogesh',400:'Satish'}\n",
        "print(d)"
      ],
      "metadata": {
        "colab": {
          "base_uri": "https://localhost:8080/"
        },
        "id": "_5z_GTWo7SbR",
        "outputId": "6f95a226-f3e1-47c0-ce12-b4f0e91b90b5"
      },
      "execution_count": null,
      "outputs": [
        {
          "output_type": "stream",
          "name": "stdout",
          "text": [
            "{100: 'Manoj', 200: 'Sandeep', 300: 'Yogesh', 400: 'Satish'}\n"
          ]
        }
      ]
    },
    {
      "cell_type": "markdown",
      "source": [
        "How to access data from the dictionary?"
      ],
      "metadata": {
        "id": "RRk9ZGsf7a2s"
      }
    },
    {
      "cell_type": "code",
      "source": [
        "# We can access data by using keys.\n",
        "d = {100: 'Manoj', 200: 'Sandeep', 300: 'Yogesh',400:'Satish'}\n",
        "d[400]"
      ],
      "metadata": {
        "colab": {
          "base_uri": "https://localhost:8080/",
          "height": 35
        },
        "id": "NoRSPWUh7cZM",
        "outputId": "3aadfdeb-f5f8-4481-8dcb-9d2d57e3b789"
      },
      "execution_count": null,
      "outputs": [
        {
          "output_type": "execute_result",
          "data": {
            "text/plain": [
              "'Satish'"
            ],
            "application/vnd.google.colaboratory.intrinsic+json": {
              "type": "string"
            }
          },
          "metadata": {},
          "execution_count": 4
        }
      ]
    },
    {
      "cell_type": "markdown",
      "source": [
        "#How to Update Dictionaries?\n",
        "֍ syntax: d[key] = value\n",
        "\n",
        "֍ If the key is not available then a new entry will be added to the dictionary with the specified key-value pair.\n",
        "\n",
        "֍If the key is already available then old value will be replaced with new value."
      ],
      "metadata": {
        "id": "kzf3YlR67jUj"
      }
    },
    {
      "cell_type": "code",
      "source": [
        "d={100:\"shriniwas\",200:\"sushil\",300:\"akash\"}\n",
        "print(d)\n",
        "d[400]=\"vinayak\"\n",
        "print(d)\n",
        "d[100]=\"amol\"\n",
        "print(d)\n",
        "d[400]=\"Satish\"\n",
        "print(d)"
      ],
      "metadata": {
        "colab": {
          "base_uri": "https://localhost:8080/"
        },
        "id": "Bm2O56ka7tQf",
        "outputId": "0bb7ec5f-32a7-4827-922e-50e456e2147c"
      },
      "execution_count": null,
      "outputs": [
        {
          "output_type": "stream",
          "name": "stdout",
          "text": [
            "{100: 'shriniwas', 200: 'sushil', 300: 'akash'}\n",
            "{100: 'shriniwas', 200: 'sushil', 300: 'akash', 400: 'vinayak'}\n",
            "{100: 'amol', 200: 'sushil', 300: 'akash', 400: 'vinayak'}\n",
            "{100: 'amol', 200: 'sushil', 300: 'akash', 400: 'Satish'}\n"
          ]
        }
      ]
    },
    {
      "cell_type": "markdown",
      "source": [
        "#How to Delete Elements from Dictionary?"
      ],
      "metadata": {
        "id": "JPWAe0r674qZ"
      }
    },
    {
      "cell_type": "code",
      "source": [
        "#1. del d[key]\n",
        "# It deletes entry associated with the specified key.\n",
        "#If the key is not available then we will get KeyError.\n",
        "d={100:\"apple\",200:\"ball\",300:\"cat\"}\n",
        "print(d)\n",
        "del d[100]\n",
        "print(d)\n",
        "del d[500]\n",
        "print(d)"
      ],
      "metadata": {
        "colab": {
          "base_uri": "https://localhost:8080/",
          "height": 252
        },
        "id": "yvAWtBGi77s7",
        "outputId": "96735468-aa6e-4134-bc42-e19ec96c171c"
      },
      "execution_count": null,
      "outputs": [
        {
          "output_type": "stream",
          "name": "stdout",
          "text": [
            "{100: 'apple', 200: 'ball', 300: 'cat'}\n",
            "{200: 'ball', 300: 'cat'}\n"
          ]
        },
        {
          "output_type": "error",
          "ename": "KeyError",
          "evalue": "ignored",
          "traceback": [
            "\u001b[0;31m---------------------------------------------------------------------------\u001b[0m",
            "\u001b[0;31mKeyError\u001b[0m                                  Traceback (most recent call last)",
            "\u001b[0;32m<ipython-input-8-04a3b04c131d>\u001b[0m in \u001b[0;36m<module>\u001b[0;34m()\u001b[0m\n\u001b[1;32m      6\u001b[0m \u001b[0;32mdel\u001b[0m \u001b[0md\u001b[0m\u001b[0;34m[\u001b[0m\u001b[0;36m100\u001b[0m\u001b[0;34m]\u001b[0m\u001b[0;34m\u001b[0m\u001b[0;34m\u001b[0m\u001b[0m\n\u001b[1;32m      7\u001b[0m \u001b[0mprint\u001b[0m\u001b[0;34m(\u001b[0m\u001b[0md\u001b[0m\u001b[0;34m)\u001b[0m\u001b[0;34m\u001b[0m\u001b[0;34m\u001b[0m\u001b[0m\n\u001b[0;32m----> 8\u001b[0;31m \u001b[0;32mdel\u001b[0m \u001b[0md\u001b[0m\u001b[0;34m[\u001b[0m\u001b[0;36m500\u001b[0m\u001b[0;34m]\u001b[0m\u001b[0;34m\u001b[0m\u001b[0;34m\u001b[0m\u001b[0m\n\u001b[0m\u001b[1;32m      9\u001b[0m \u001b[0mprint\u001b[0m\u001b[0;34m(\u001b[0m\u001b[0md\u001b[0m\u001b[0;34m)\u001b[0m\u001b[0;34m\u001b[0m\u001b[0;34m\u001b[0m\u001b[0m\n",
            "\u001b[0;31mKeyError\u001b[0m: 500"
          ]
        }
      ]
    },
    {
      "cell_type": "code",
      "source": [
        "# 2. clear(): To remove all entries from the dictionary\n",
        "d={100:\"apple\",200:\"ball\",300:\"cat\"}\n",
        "print(d)\n",
        "d.clear()\n",
        "print(d)"
      ],
      "metadata": {
        "colab": {
          "base_uri": "https://localhost:8080/"
        },
        "id": "SmoI5sh88R_m",
        "outputId": "b501a8f3-8ecc-4576-cfe2-90544569369e"
      },
      "execution_count": null,
      "outputs": [
        {
          "output_type": "stream",
          "name": "stdout",
          "text": [
            "{100: 'apple', 200: 'ball', 300: 'cat'}\n",
            "{}\n"
          ]
        }
      ]
    },
    {
      "cell_type": "code",
      "source": [
        "# 3. del(): To delete total dict.\n",
        "d={100:\"apple\",200:\"ball\",300:\"cat\"}\n",
        "print(d)\n",
        "del d\n",
        "print(d) # we have deleted the dict hence throwing error"
      ],
      "metadata": {
        "colab": {
          "base_uri": "https://localhost:8080/",
          "height": 217
        },
        "id": "9MimBLor8WF7",
        "outputId": "fb277119-cad3-48a2-da89-b8d8c6456e3d"
      },
      "execution_count": null,
      "outputs": [
        {
          "output_type": "stream",
          "name": "stdout",
          "text": [
            "{100: 'apple', 200: 'ball', 300: 'cat'}\n"
          ]
        },
        {
          "output_type": "error",
          "ename": "NameError",
          "evalue": "ignored",
          "traceback": [
            "\u001b[0;31m---------------------------------------------------------------------------\u001b[0m",
            "\u001b[0;31mNameError\u001b[0m                                 Traceback (most recent call last)",
            "\u001b[0;32m<ipython-input-10-d36d1a31891d>\u001b[0m in \u001b[0;36m<module>\u001b[0;34m()\u001b[0m\n\u001b[1;32m      3\u001b[0m \u001b[0mprint\u001b[0m\u001b[0;34m(\u001b[0m\u001b[0md\u001b[0m\u001b[0;34m)\u001b[0m\u001b[0;34m\u001b[0m\u001b[0;34m\u001b[0m\u001b[0m\n\u001b[1;32m      4\u001b[0m \u001b[0;32mdel\u001b[0m \u001b[0md\u001b[0m\u001b[0;34m\u001b[0m\u001b[0;34m\u001b[0m\u001b[0m\n\u001b[0;32m----> 5\u001b[0;31m \u001b[0mprint\u001b[0m\u001b[0;34m(\u001b[0m\u001b[0md\u001b[0m\u001b[0;34m)\u001b[0m \u001b[0;31m# we have deleted the dict hence throwing error\u001b[0m\u001b[0;34m\u001b[0m\u001b[0;34m\u001b[0m\u001b[0m\n\u001b[0m",
            "\u001b[0;31mNameError\u001b[0m: name 'd' is not defined"
          ]
        }
      ]
    },
    {
      "cell_type": "markdown",
      "source": [
        "#Important Functions of Dictionary:"
      ],
      "metadata": {
        "id": "P0sSBzjG8cFw"
      }
    },
    {
      "cell_type": "code",
      "source": [
        "#1. dict(): to create a dict.\n",
        "d=dict()\n",
        "type(d)"
      ],
      "metadata": {
        "colab": {
          "base_uri": "https://localhost:8080/"
        },
        "id": "GdAo4YK78ebQ",
        "outputId": "e9617e9f-dcb6-49a4-df7a-27c4cbf1bb37"
      },
      "execution_count": null,
      "outputs": [
        {
          "output_type": "execute_result",
          "data": {
            "text/plain": [
              "dict"
            ]
          },
          "metadata": {},
          "execution_count": 11
        }
      ]
    },
    {
      "cell_type": "code",
      "source": [
        "# How to add elements inside dict function\n",
        "d = dict([(100,\"apple\"),(200,\"ball\"),(300,\"cat\")])\n",
        "d"
      ],
      "metadata": {
        "colab": {
          "base_uri": "https://localhost:8080/"
        },
        "id": "rn-jJ9Nq8hRK",
        "outputId": "8d9f95d7-28d0-420d-88eb-3ed6a2607061"
      },
      "execution_count": null,
      "outputs": [
        {
          "output_type": "execute_result",
          "data": {
            "text/plain": [
              "{100: 'apple', 200: 'ball', 300: 'cat'}"
            ]
          },
          "metadata": {},
          "execution_count": 12
        }
      ]
    },
    {
      "cell_type": "code",
      "source": [
        "#2. len(): number of items in the dict\n",
        "len(d)"
      ],
      "metadata": {
        "colab": {
          "base_uri": "https://localhost:8080/"
        },
        "id": "QzrJ9lKv8l75",
        "outputId": "a3829274-acfe-4752-efe3-aeff2a006d77"
      },
      "execution_count": null,
      "outputs": [
        {
          "output_type": "execute_result",
          "data": {
            "text/plain": [
              "3"
            ]
          },
          "metadata": {},
          "execution_count": 13
        }
      ]
    },
    {
      "cell_type": "code",
      "source": [
        "#3. get(): to get the value associated with the key\n",
        "'''  Syntax: d.get(key)\n",
        " If the key is available then returns the corresponding value otherwise returns None.It\n",
        " wont raise any error.'''\n",
        "d.get(100)"
      ],
      "metadata": {
        "colab": {
          "base_uri": "https://localhost:8080/",
          "height": 35
        },
        "id": "Pq7WK-bb8suZ",
        "outputId": "e7ca3e1c-efb1-4aef-daf5-6e21ccb5f308"
      },
      "execution_count": null,
      "outputs": [
        {
          "output_type": "execute_result",
          "data": {
            "text/plain": [
              "'apple'"
            ],
            "application/vnd.google.colaboratory.intrinsic+json": {
              "type": "string"
            }
          },
          "metadata": {},
          "execution_count": 14
        }
      ]
    },
    {
      "cell_type": "markdown",
      "source": [
        "#Homework:\n",
        "#Other Important Functions of Disctionary:"
      ],
      "metadata": {
        "id": "EB5kqogl9WVl"
      }
    },
    {
      "cell_type": "markdown",
      "source": [
        "\n",
        "**@ copy()**\t: Returns a copy of the dictionary\n",
        "\n",
        "**@fromkeys()** :\tReturns a dictionary with the specified keys and value\n",
        "\n",
        "**@items()** :\tReturns a list containing a tuple for each key value pair\n",
        "\n",
        "**@keys()** :\tReturns a list containing the dictionary's keys\n",
        "\n",
        "**@pop()**\t: Removes the element with the specified key\n",
        "\n",
        "**@popitem()** :\tRemoves the last inserted key-value pair\n",
        "\n",
        "**@setdefault()** :\tReturns the value of the specified key. If the key does not exist: insert the key, with the specified value\n",
        "\n",
        "**@values()** :\tReturns a list of all the values in the dictionary"
      ],
      "metadata": {
        "id": "fnAgTXBv9iMh"
      }
    },
    {
      "cell_type": "code",
      "source": [
        "#Copy method: \n",
        "d = dict([(100,\"apple\"),(200,\"ball\"),(300,\"cat\")])\n",
        "e=d.copy()\n",
        "print(d)\n",
        "print(e)"
      ],
      "metadata": {
        "colab": {
          "base_uri": "https://localhost:8080/"
        },
        "id": "Vwcq7TDC-hQC",
        "outputId": "f2a5f14b-ff78-48a6-af8d-d1c69933c574"
      },
      "execution_count": 4,
      "outputs": [
        {
          "output_type": "stream",
          "name": "stdout",
          "text": [
            "{100: 'apple', 200: 'ball', 300: 'cat'}\n",
            "{100: 'apple', 200: 'ball', 300: 'cat'}\n"
          ]
        }
      ]
    },
    {
      "cell_type": "code",
      "source": [
        "#fromkeys method:\n",
        "x = ('key1', 'key2', 'key3')\n",
        "y=dict.fromkeys(x)\n",
        "print(y)"
      ],
      "metadata": {
        "colab": {
          "base_uri": "https://localhost:8080/"
        },
        "id": "eJfg1lcP_6o0",
        "outputId": "ac2c6d6c-005f-4a54-a22d-06d994689915"
      },
      "execution_count": 5,
      "outputs": [
        {
          "output_type": "stream",
          "name": "stdout",
          "text": [
            "{'key1': None, 'key2': None, 'key3': None}\n"
          ]
        }
      ]
    },
    {
      "cell_type": "code",
      "source": [
        "#keys method:\n",
        "d = dict([(100,\"apple\"),(200,\"ball\"),(300,\"cat\")])\n",
        "e=dict.keys(d)\n",
        "print(e)"
      ],
      "metadata": {
        "colab": {
          "base_uri": "https://localhost:8080/"
        },
        "id": "DcDylfJBAccK",
        "outputId": "285beb22-0960-4266-b359-abaa0a5bc117"
      },
      "execution_count": 6,
      "outputs": [
        {
          "output_type": "stream",
          "name": "stdout",
          "text": [
            "dict_keys([100, 200, 300])\n"
          ]
        }
      ]
    },
    {
      "cell_type": "code",
      "source": [
        "#pop method:\n",
        "d = dict([(100,\"apple\"),(200,\"ball\"),(300,\"cat\")])\n",
        "print(d)\n",
        "e=d.pop(100,\"apple\")\n",
        "print(e)"
      ],
      "metadata": {
        "colab": {
          "base_uri": "https://localhost:8080/"
        },
        "id": "ds3AmDhLAuE7",
        "outputId": "b6762875-0c7b-48a0-fb79-179c6fc5fdb6"
      },
      "execution_count": 22,
      "outputs": [
        {
          "output_type": "stream",
          "name": "stdout",
          "text": [
            "{100: 'apple', 200: 'ball', 300: 'cat'}\n",
            "apple\n"
          ]
        }
      ]
    },
    {
      "cell_type": "markdown",
      "source": [
        "#What is PEP?\n",
        "The PEP is an abbreviation form of Python Enterprise Proposal. Writing code with proper logic is a key factor of programming, but many other important factors can affect the code's quality. The developer's coding style makes the code much reliable, and every developer should keep in mind that Python strictly follows the way of order and format of the string.\n",
        "\n",
        "Adaptive a nice coding style makes the code more readable. The code becomes easy for end-user.\n",
        "\n",
        "**PEP 8** is a document that provides various guidelines to write the readable in Python. PEP 8 describes how the developer can write beautiful code. It was officially written in 2001 by Guido van Rossum, Barry Warsaw, and Nick Coghlan. The main aim of PEP is to enhance the readability and consistency of code."
      ],
      "metadata": {
        "id": "2eitb2CZEgRg"
      }
    },
    {
      "cell_type": "markdown",
      "source": [
        "#Why PEP 8 is Important?\n",
        "PEP 8 enhances the readability of the Python code, but why is readability so important? Let's understand this concept.\n",
        "\n",
        "Creator of Python, Guido van Rossum said, \"Code is much more often than it is written.\" The code can be written in a few minutes, a few hours, or a whole day but once we have written the code, we will never rewrite it again. But sometimes, we need to read the code again and again.\n",
        "\n",
        "At this point, we must have an idea of why we wrote the particular line in the code. The code should reflect the meaning of each line. That's why readability is so much important.\n",
        "\n",
        "We will describe few important guidelines for writing effective code that can be read by others as well.\n",
        "\n",
        "PEP 8 is a style guide for Python code. This document provides the coding conventions for writing code in Python. The coding conventions are about indentation, formatting, tabs, maximum line length, imports organization, line spacing etc\n",
        "\n",
        "#Naming Convention\n",
        "When we write the code, we need to assign name to many things such as variables, functions, classes, packages, and a lot more things. Selecting a proper name will save time and energy. When we look back to the file after sometime, we can easily recall what a certain variable, function, or class represents. Developers should avoid choosing inappropriate names.\n"
      ],
      "metadata": {
        "id": "kYiQfzkBE0aE"
      }
    },
    {
      "cell_type": "markdown",
      "source": [
        "#Important points while wrting any program:\n",
        "\n",
        "@ Use docstrings\n",
        "\n",
        "@ Wrap lines so that they don’t exceed 79 characters\n",
        "\n",
        "@ Use of regular and updated comments are valuable to both the coders and users\n",
        "\n",
        "@ Use of trailing commas\n",
        "\n",
        "@ Use Python’s default UTF-8 or ASCII encodings and not any fancy encodings\n",
        "\n",
        "@ Use spaces around operators and after commas, but not directly inside \n",
        "bracketing constructs\n",
        "\n",
        "@ Naming Conventions\n",
        "\n",
        "@ Name your classes and functions consistently\n",
        "\n"
      ],
      "metadata": {
        "id": "ZU6w9ov8F53v"
      }
    },
    {
      "cell_type": "code",
      "source": [
        ""
      ],
      "metadata": {
        "id": "JpkhahH5G_3P"
      },
      "execution_count": null,
      "outputs": []
    }
  ]
}