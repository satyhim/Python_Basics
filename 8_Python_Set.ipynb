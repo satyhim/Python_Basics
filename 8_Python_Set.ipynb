{
  "nbformat": 4,
  "nbformat_minor": 0,
  "metadata": {
    "colab": {
      "name": "Copy of Untitled13.ipynb",
      "provenance": [],
      "authorship_tag": "ABX9TyNnMSFtHBGGYl5uLQml9dUB",
      "include_colab_link": true
    },
    "kernelspec": {
      "name": "python3",
      "display_name": "Python 3"
    },
    "language_info": {
      "name": "python"
    }
  },
  "cells": [
    {
      "cell_type": "markdown",
      "metadata": {
        "id": "view-in-github",
        "colab_type": "text"
      },
      "source": [
        "<a href=\"https://colab.research.google.com/github/satyhim/Python_Basics/blob/main/8_Python_Set.ipynb\" target=\"_parent\"><img src=\"https://colab.research.google.com/assets/colab-badge.svg\" alt=\"Open In Colab\"/></a>"
      ]
    },
    {
      "cell_type": "markdown",
      "source": [
        "#SET - Data Structure\n",
        "@If we want to represent a group of unique values as a single entity then we\n",
        "should go for set.\n",
        "\n",
        "@Duplicates are not allowed.\n",
        "\n",
        "@Insertion order is not preserved.But we can sort the elements.\n",
        "\n",
        "@Indexing and slicing not allowed for the set.\n",
        "\n",
        "@Heterogeneous elements are allowed.\n",
        "\n",
        "@Set objects are mutable i.e once we creates set object we can perform any changes in that object based on our requirement.\n",
        "\n",
        "@We can represent set elements within curly braces and with comma seperation\n",
        "\n",
        "@We can apply mathematical operations like union, intersection, difference etc on set objects."
      ],
      "metadata": {
        "id": "HvTlY8KtaPLY"
      }
    },
    {
      "cell_type": "code",
      "source": [
        "s={10,20,30,40}\n",
        "print(s)\n",
        "print(type(s))"
      ],
      "metadata": {
        "colab": {
          "base_uri": "https://localhost:8080/"
        },
        "id": "aVNIWwHSamfM",
        "outputId": "6207284f-d83d-4f95-affa-ca83433a93fa"
      },
      "execution_count": null,
      "outputs": [
        {
          "output_type": "stream",
          "name": "stdout",
          "text": [
            "{40, 10, 20, 30}\n",
            "<class 'set'>\n"
          ]
        }
      ]
    },
    {
      "cell_type": "code",
      "source": [
        "s={1,2,3,4}\n",
        "print(s)\n",
        "print(type(s))"
      ],
      "metadata": {
        "colab": {
          "base_uri": "https://localhost:8080/"
        },
        "id": "q4BLa9dhawPa",
        "outputId": "792f2a3b-6587-41ee-bbe4-f26fc9000f6d"
      },
      "execution_count": null,
      "outputs": [
        {
          "output_type": "stream",
          "name": "stdout",
          "text": [
            "{1, 2, 3, 4}\n",
            "<class 'set'>\n"
          ]
        }
      ]
    },
    {
      "cell_type": "code",
      "source": [
        "s={5,4,3,2,1}\n",
        "print(s)\n",
        "print(type(s))"
      ],
      "metadata": {
        "colab": {
          "base_uri": "https://localhost:8080/"
        },
        "id": "i3wFqBe0a0d8",
        "outputId": "b8fea028-0019-469b-b80d-7d7bd4a891e1"
      },
      "execution_count": null,
      "outputs": [
        {
          "output_type": "stream",
          "name": "stdout",
          "text": [
            "{1, 2, 3, 4, 5}\n",
            "<class 'set'>\n"
          ]
        }
      ]
    },
    {
      "cell_type": "code",
      "source": [
        "#We can create set objects by using set() Function s = set(any sequence)\n",
        "l=[10,20,30,40,10,20,10]\n",
        "s=set(l)\n",
        "print(s)"
      ],
      "metadata": {
        "colab": {
          "base_uri": "https://localhost:8080/"
        },
        "id": "vpwhmxUUa5tE",
        "outputId": "0a28c863-f6ea-4c44-81b3-ac4087b4f9cd"
      },
      "execution_count": null,
      "outputs": [
        {
          "output_type": "stream",
          "name": "stdout",
          "text": [
            "{40, 10, 20, 30}\n"
          ]
        }
      ]
    },
    {
      "cell_type": "code",
      "source": [
        "l=[10,30,40,20]\n",
        "s=set(l)\n",
        "print(s)"
      ],
      "metadata": {
        "colab": {
          "base_uri": "https://localhost:8080/"
        },
        "id": "c6Zs8QXUbApU",
        "outputId": "418945d7-3d49-441b-a2d0-fcdbfda77d95"
      },
      "execution_count": null,
      "outputs": [
        {
          "output_type": "stream",
          "name": "stdout",
          "text": [
            "{40, 10, 20, 30}\n"
          ]
        }
      ]
    },
    {
      "cell_type": "code",
      "source": [
        "s=set(range(5))\n",
        "print(s)"
      ],
      "metadata": {
        "colab": {
          "base_uri": "https://localhost:8080/"
        },
        "id": "AgBUPY0NbN2F",
        "outputId": "c19b156d-4b9c-4f8b-a742-6c2dd2a79808"
      },
      "execution_count": null,
      "outputs": [
        {
          "output_type": "stream",
          "name": "stdout",
          "text": [
            "{0, 1, 2, 3, 4}\n"
          ]
        }
      ]
    },
    {
      "cell_type": "code",
      "source": [
        "s=set(range(2,5))\n",
        "print(s)"
      ],
      "metadata": {
        "colab": {
          "base_uri": "https://localhost:8080/"
        },
        "id": "JzgZFMBNbQeY",
        "outputId": "97620a2d-9fa7-4a3b-b961-35ea418272e1"
      },
      "execution_count": null,
      "outputs": [
        {
          "output_type": "stream",
          "name": "stdout",
          "text": [
            "{2, 3, 4}\n"
          ]
        }
      ]
    },
    {
      "cell_type": "code",
      "source": [
        "s=set(range(2,10,2))\n",
        "print(s)"
      ],
      "metadata": {
        "colab": {
          "base_uri": "https://localhost:8080/"
        },
        "id": "oDbfIQ9ibTiW",
        "outputId": "24e5224f-5eb5-44ae-fefa-6f065fcba314"
      },
      "execution_count": null,
      "outputs": [
        {
          "output_type": "stream",
          "name": "stdout",
          "text": [
            "{8, 2, 4, 6}\n"
          ]
        }
      ]
    },
    {
      "cell_type": "markdown",
      "source": [
        "#Important Functions of Set:\n"
      ],
      "metadata": {
        "id": "Jp-3Tw8wbZi9"
      }
    },
    {
      "cell_type": "code",
      "source": [
        "# 1) add(x): add item x to the set\n",
        "s={10,20,30}\n",
        "s.add(40);\n",
        "print(s)"
      ],
      "metadata": {
        "colab": {
          "base_uri": "https://localhost:8080/"
        },
        "id": "-6X7QR3gbbol",
        "outputId": "aac88a2b-ee90-42c1-c4b4-6d4e49fdba1a"
      },
      "execution_count": null,
      "outputs": [
        {
          "output_type": "stream",
          "name": "stdout",
          "text": [
            "{40, 10, 20, 30}\n"
          ]
        }
      ]
    },
    {
      "cell_type": "code",
      "source": [
        "# 2)  update(x,y,z): add multiple items to the set\n",
        "s={10,20,30}\n",
        "l=[40,50,60,10]\n",
        "s.update(l,range(5))\n",
        "print(s)"
      ],
      "metadata": {
        "colab": {
          "base_uri": "https://localhost:8080/"
        },
        "id": "HEnWO6J7bg5V",
        "outputId": "5cea76f4-e8a9-448b-ccd3-1a2dcdc6e541"
      },
      "execution_count": null,
      "outputs": [
        {
          "output_type": "stream",
          "name": "stdout",
          "text": [
            "{0, 1, 2, 3, 4, 40, 10, 50, 20, 60, 30}\n"
          ]
        }
      ]
    },
    {
      "cell_type": "markdown",
      "source": [
        "**Q) What is the difference between add() and update() Functions in Set?**\n",
        "\n",
        "We can use add() to add individual item to the Set,where as we can use update() function to add multiple items to Set.\n",
        "\n",
        "add() function can take only one argument where as update() function can take any number of arguments."
      ],
      "metadata": {
        "id": "mMMdDxWHbnY0"
      }
    },
    {
      "cell_type": "code",
      "source": [
        "#3. copy(): returns copy of the set(cloning)\n",
        "s={10,20,30}\n",
        "s1=s.copy()\n",
        "print(s1)"
      ],
      "metadata": {
        "colab": {
          "base_uri": "https://localhost:8080/"
        },
        "id": "RRtEwoDwbxsG",
        "outputId": "e0ca1321-1db3-4001-c10e-b7da4f460077"
      },
      "execution_count": null,
      "outputs": [
        {
          "output_type": "stream",
          "name": "stdout",
          "text": [
            "{10, 20, 30}\n"
          ]
        }
      ]
    },
    {
      "cell_type": "code",
      "source": [
        "s"
      ],
      "metadata": {
        "colab": {
          "base_uri": "https://localhost:8080/"
        },
        "id": "y4Jgisvcb12t",
        "outputId": "245f4356-f561-4750-e4f8-0d1410ad2385"
      },
      "execution_count": null,
      "outputs": [
        {
          "output_type": "execute_result",
          "data": {
            "text/plain": [
              "{10, 20, 30}"
            ]
          },
          "metadata": {},
          "execution_count": 12
        }
      ]
    },
    {
      "cell_type": "code",
      "source": [
        "s1"
      ],
      "metadata": {
        "colab": {
          "base_uri": "https://localhost:8080/"
        },
        "id": "CAe6nP7Ub30P",
        "outputId": "fa9c1a18-2d06-4e6f-8b8c-ae252f8355c7"
      },
      "execution_count": null,
      "outputs": [
        {
          "output_type": "execute_result",
          "data": {
            "text/plain": [
              "{10, 20, 30}"
            ]
          },
          "metadata": {},
          "execution_count": 13
        }
      ]
    },
    {
      "cell_type": "code",
      "source": [
        "#4. pop(): It removes and returns some random element from the set\n",
        "s={40,10,30,20}\n",
        "print(s)\n",
        "print(s.pop())\n",
        "print(s)"
      ],
      "metadata": {
        "colab": {
          "base_uri": "https://localhost:8080/"
        },
        "id": "RKntRJItb6QU",
        "outputId": "a03edb86-2856-4a4a-e4a9-e1cdc93ba568"
      },
      "execution_count": null,
      "outputs": [
        {
          "output_type": "stream",
          "name": "stdout",
          "text": [
            "{40, 10, 20, 30}\n",
            "40\n",
            "{10, 20, 30}\n"
          ]
        }
      ]
    },
    {
      "cell_type": "code",
      "source": [
        "#5. remove(x):removes specified item from the set\n",
        "s={40,10,30,20}\n",
        "s.remove(30)\n",
        "print(s)"
      ],
      "metadata": {
        "colab": {
          "base_uri": "https://localhost:8080/"
        },
        "id": "xSg6xRMocCck",
        "outputId": "b845ec74-30f7-4c1f-943d-120507c20dbd"
      },
      "execution_count": null,
      "outputs": [
        {
          "output_type": "stream",
          "name": "stdout",
          "text": [
            "{40, 10, 20}\n"
          ]
        }
      ]
    },
    {
      "cell_type": "code",
      "source": [
        "#6.  discard(): It removes specified element from the space\n",
        "# If specified error not present in the set then it will not throw error\n",
        "s={40,10,30,20}\n",
        "s.discard(30)\n",
        "print(s)"
      ],
      "metadata": {
        "colab": {
          "base_uri": "https://localhost:8080/"
        },
        "id": "4-t4wu11cFIN",
        "outputId": "23c0efbd-4534-4cfa-f891-65489d5618f1"
      },
      "execution_count": null,
      "outputs": [
        {
          "output_type": "stream",
          "name": "stdout",
          "text": [
            "{40, 10, 20}\n"
          ]
        }
      ]
    },
    {
      "cell_type": "markdown",
      "source": [
        "#Always use discard , dont use remove because discard will not give any error if the specified element is not present."
      ],
      "metadata": {
        "id": "ds9aiKWGcMwN"
      }
    },
    {
      "cell_type": "code",
      "source": [
        "#7. clear(): to remove all the elements from the set\n",
        "s={10,20,30}\n",
        "print(s)\n",
        "s.clear()\n",
        "print(s)"
      ],
      "metadata": {
        "colab": {
          "base_uri": "https://localhost:8080/"
        },
        "id": "GdcW-pMlcb5m",
        "outputId": "15542bec-5635-407c-ff43-ef7fa0e23e34"
      },
      "execution_count": null,
      "outputs": [
        {
          "output_type": "stream",
          "name": "stdout",
          "text": [
            "{10, 20, 30}\n",
            "set()\n"
          ]
        }
      ]
    },
    {
      "cell_type": "markdown",
      "source": [
        "#IMPORTANT CONCEPTS\n",
        "**Mathematical Operations on the Set:**\n",
        "\n",
        "1. union() = print(x.union(y))\n",
        "2. intersection() = print(x.intersection(y))\n",
        "3. difference = print(x.difference(y))\n",
        "4. symmetric_difference() = print(x.symmetric_difference(y))"
      ],
      "metadata": {
        "id": "rZsy3hcwcjnF"
      }
    },
    {
      "cell_type": "code",
      "source": [
        "#1. union(): \n",
        "# Syntax: x.union(y) OR x|y: Return all the elements present in both sets\n",
        "x={10,20,30,40}\n",
        "y={30,40,50,60}\n",
        "print(x.union(y))\n",
        "print (x|y)"
      ],
      "metadata": {
        "colab": {
          "base_uri": "https://localhost:8080/"
        },
        "id": "xaBiJ5jjco3N",
        "outputId": "7fecee35-e4ad-4135-818b-ca85d27903d8"
      },
      "execution_count": null,
      "outputs": [
        {
          "output_type": "stream",
          "name": "stdout",
          "text": [
            "{40, 10, 50, 20, 60, 30}\n",
            "{40, 10, 50, 20, 60, 30}\n"
          ]
        }
      ]
    },
    {
      "cell_type": "code",
      "source": [
        "# 2. intersection():\n",
        "#Syntax: x.intersection(y) or x&y\n",
        "#Returns common elements present in both x and y\n",
        "x={10,20,30,40}\n",
        "y={30,40,50,60}\n",
        "print(x.intersection(y))\n",
        "print(x&y)"
      ],
      "metadata": {
        "colab": {
          "base_uri": "https://localhost:8080/"
        },
        "id": "7hxXI_xac_Dc",
        "outputId": "b05289c5-0a7a-4841-9af6-89bae085a8ae"
      },
      "execution_count": null,
      "outputs": [
        {
          "output_type": "stream",
          "name": "stdout",
          "text": [
            "{40, 30}\n",
            "{40, 30}\n"
          ]
        }
      ]
    },
    {
      "cell_type": "code",
      "source": [
        "# 3. difference():\n",
        "# Syntax: x.difference(y) OR x-y.\n",
        "#Returns the elements present in x but not in y.\n",
        "x={10,20,30,40}\n",
        "y={30,40,50,60}\n",
        "print(x.difference(y))\n",
        "print(x-y)\n",
        "print(y-x)"
      ],
      "metadata": {
        "colab": {
          "base_uri": "https://localhost:8080/"
        },
        "id": "z-07CjYNdED6",
        "outputId": "12aa3c0b-2626-46c8-e9fc-e8623c16bb4c"
      },
      "execution_count": null,
      "outputs": [
        {
          "output_type": "stream",
          "name": "stdout",
          "text": [
            "{10, 20}\n",
            "{10, 20}\n",
            "{50, 60}\n"
          ]
        }
      ]
    },
    {
      "cell_type": "code",
      "source": [
        "#4. symmetric_difference():\n",
        "# x.symmetric_difference(y) OR x^y\n",
        "#Returns elements present in either x OR y but not in both.\n",
        "x={10,20,30,40}\n",
        "y={30,40,50,60}\n",
        "print(x.symmetric_difference(y))\n",
        "print(x^y)"
      ],
      "metadata": {
        "colab": {
          "base_uri": "https://localhost:8080/"
        },
        "id": "kNn9DS6wdNgV",
        "outputId": "dcb10f28-6572-4117-f73b-1595d2c310a2"
      },
      "execution_count": null,
      "outputs": [
        {
          "output_type": "stream",
          "name": "stdout",
          "text": [
            "{10, 50, 20, 60}\n",
            "{10, 50, 20, 60}\n"
          ]
        }
      ]
    },
    {
      "cell_type": "markdown",
      "source": [
        "#Membership Operators: (in, not in)"
      ],
      "metadata": {
        "id": "3OB87PuFdkTw"
      }
    },
    {
      "cell_type": "code",
      "source": [
        "s=set(\"python\")\n",
        "print(s)\n",
        "print('d'in s)\n",
        "print('p'in s)"
      ],
      "metadata": {
        "colab": {
          "base_uri": "https://localhost:8080/"
        },
        "id": "k9VVKrsPdna-",
        "outputId": "f6cdfe19-6932-4c72-e00b-571a19c0ad87"
      },
      "execution_count": null,
      "outputs": [
        {
          "output_type": "stream",
          "name": "stdout",
          "text": [
            "{'y', 'o', 'n', 'h', 't', 'p'}\n",
            "False\n",
            "True\n"
          ]
        }
      ]
    },
    {
      "cell_type": "markdown",
      "source": [
        "#Set Comprehension:"
      ],
      "metadata": {
        "id": "v6x2Ar8vdqoc"
      }
    },
    {
      "cell_type": "code",
      "source": [
        "#Set comprehension is possible.\n",
        "s = {x*x for x in range(5)}\n",
        "print(s)"
      ],
      "metadata": {
        "colab": {
          "base_uri": "https://localhost:8080/"
        },
        "id": "Qw38HM7-ds6F",
        "outputId": "f1f8c49f-e747-4f0c-f25d-576d66ea0b8b"
      },
      "execution_count": null,
      "outputs": [
        {
          "output_type": "stream",
          "name": "stdout",
          "text": [
            "{0, 1, 4, 9, 16}\n"
          ]
        }
      ]
    },
    {
      "cell_type": "markdown",
      "source": [
        "#Set Objects won't support indexing and slicing:"
      ],
      "metadata": {
        "id": "HIhj51SxdxmR"
      }
    },
    {
      "cell_type": "code",
      "source": [
        "s={10,20,30,40}\n",
        "print(s[0])# TypeError:'set'objectdoesnotsupportindexing\n",
        "print(s[1:3])# TypeError: 'set' object is not subscriptable"
      ],
      "metadata": {
        "colab": {
          "base_uri": "https://localhost:8080/",
          "height": 200
        },
        "id": "GRsJrOZRdzlP",
        "outputId": "11d3f9c4-7ddf-4999-db8c-b77b0de0acce"
      },
      "execution_count": null,
      "outputs": [
        {
          "output_type": "error",
          "ename": "TypeError",
          "evalue": "ignored",
          "traceback": [
            "\u001b[0;31m---------------------------------------------------------------------------\u001b[0m",
            "\u001b[0;31mTypeError\u001b[0m                                 Traceback (most recent call last)",
            "\u001b[0;32m<ipython-input-25-8176d88c9bbe>\u001b[0m in \u001b[0;36m<module>\u001b[0;34m()\u001b[0m\n\u001b[1;32m      1\u001b[0m \u001b[0ms\u001b[0m\u001b[0;34m=\u001b[0m\u001b[0;34m{\u001b[0m\u001b[0;36m10\u001b[0m\u001b[0;34m,\u001b[0m\u001b[0;36m20\u001b[0m\u001b[0;34m,\u001b[0m\u001b[0;36m30\u001b[0m\u001b[0;34m,\u001b[0m\u001b[0;36m40\u001b[0m\u001b[0;34m}\u001b[0m\u001b[0;34m\u001b[0m\u001b[0;34m\u001b[0m\u001b[0m\n\u001b[0;32m----> 2\u001b[0;31m \u001b[0mprint\u001b[0m\u001b[0;34m(\u001b[0m\u001b[0ms\u001b[0m\u001b[0;34m[\u001b[0m\u001b[0;36m0\u001b[0m\u001b[0;34m]\u001b[0m\u001b[0;34m)\u001b[0m\u001b[0;31m# TypeError:'set'objectdoesnotsupportindexing\u001b[0m\u001b[0;34m\u001b[0m\u001b[0;34m\u001b[0m\u001b[0m\n\u001b[0m\u001b[1;32m      3\u001b[0m \u001b[0mprint\u001b[0m\u001b[0;34m(\u001b[0m\u001b[0ms\u001b[0m\u001b[0;34m[\u001b[0m\u001b[0;36m1\u001b[0m\u001b[0;34m:\u001b[0m\u001b[0;36m3\u001b[0m\u001b[0;34m]\u001b[0m\u001b[0;34m)\u001b[0m\u001b[0;31m# TypeError: 'set' object is not subscriptable\u001b[0m\u001b[0;34m\u001b[0m\u001b[0;34m\u001b[0m\u001b[0m\n",
            "\u001b[0;31mTypeError\u001b[0m: 'set' object is not subscriptable"
          ]
        }
      ]
    },
    {
      "cell_type": "markdown",
      "source": [
        "#Homework\n",
        "\n",
        "**Q) Write a Program to eliminate Duplicates Present in the List?**"
      ],
      "metadata": {
        "id": "EFFWKAf_d1vQ"
      }
    },
    {
      "cell_type": "code",
      "source": [
        "s=[1,2,3,4,5,6,1,2,3,4,5,6,1,2,3,4,5,6]\n",
        "Final_List=[1,2]\n",
        "for i in s:\n",
        "  if i not in Final_List:\n",
        "    Final_List.append(i)\n",
        "print(Final_List)\n",
        "  "
      ],
      "metadata": {
        "colab": {
          "base_uri": "https://localhost:8080/"
        },
        "id": "ZqiQPTC3d55F",
        "outputId": "289a8a11-0a65-4958-9ad5-ed81c49e3152"
      },
      "execution_count": 15,
      "outputs": [
        {
          "output_type": "stream",
          "name": "stdout",
          "text": [
            "[1, 2, 3, 4, 5, 6]\n"
          ]
        }
      ]
    },
    {
      "cell_type": "code",
      "source": [
        ""
      ],
      "metadata": {
        "id": "wguqMFJWecsu"
      },
      "execution_count": null,
      "outputs": []
    },
    {
      "cell_type": "code",
      "source": [
        ""
      ],
      "metadata": {
        "id": "JSUlKXfsecj9"
      },
      "execution_count": null,
      "outputs": []
    },
    {
      "cell_type": "markdown",
      "source": [
        "**Q) Write a Program to Print different Vowels Present in the given Word?(Using intersection method)**"
      ],
      "metadata": {
        "id": "jgcxjR4BefFu"
      }
    },
    {
      "cell_type": "code",
      "source": [
        "vowels=['a','e','i','o','u']\n",
        "element=input(\"Enter any statement;\")\n",
        "data=set(element)\n",
        "result=data.intersection(vowels)\n",
        "print(\"vowels:\",result)"
      ],
      "metadata": {
        "id": "V9j4gJ_yefx2",
        "colab": {
          "base_uri": "https://localhost:8080/"
        },
        "outputId": "f706a248-c476-4faf-d6aa-8cb5199e902b"
      },
      "execution_count": 25,
      "outputs": [
        {
          "output_type": "stream",
          "name": "stdout",
          "text": [
            "Enter any statement;My village name is Himayatnagar\n",
            "vowels: {'e', 'a', 'i'}\n"
          ]
        }
      ]
    },
    {
      "cell_type": "markdown",
      "source": [
        "#UTF-8\n",
        "\n",
        "@UTF-8 (UCS Transformation Format 8) is the World Wide Web's most common character encoding. Each character is represented by one to four bytes. \n",
        "\n",
        "@UTF-8 is a variable-width character encoding standard that uses between one and four eight-bit bytes to represent all valid Unicode code points.\n",
        "\n",
        "@The Unicode Consortium develops the Unicode Standard. Their goal is to replace the existing character sets with its standard Unicode Transformation Format (UTF).\n",
        "\n",
        "@The Unicode Standard has become a success and is implemented in HTML, XML, Java, JavaScript, E-mail, ASP, PHP, etc. The Unicode standard is also supported in many operating systems and all modern browsers.\n",
        "\n",
        "@The Unicode Consortium cooperates with the leading standards development organizations, like ISO, W3C, and ECMA.\n",
        "\n",
        "@A character in UTF8 can be from 1 to 4 bytes long. UTF-8 can represent any character in the Unicode standard. UTF-8 is backwards compatible with ASCII. UTF-8 is the preferred encoding for e-mail and web pages\n",
        "\n",
        "@The Unicode Standard covers (almost) all the characters, punctuations, and symbols in the world.\n",
        "\n",
        "Unicode enables processing, storage, and transport of text independent of platform and language.\n",
        "\n",
        "The default character encoding in HTML-5 is UTF-8."
      ],
      "metadata": {
        "id": "AQyV1-KQlUvu"
      }
    },
    {
      "cell_type": "markdown",
      "source": [
        "**The Difference Between Unicode and UTF-8**\n",
        "Unicode is a character set. UTF-8 is encoding.\n",
        "\n",
        "Unicode is a list of characters with unique decimal numbers (code points). A = 65, B = 66, C = 67, ....\n",
        "\n",
        "This list of decimal numbers represent the string \"hello\": 104 101 108 108 111\n",
        "\n",
        "Encoding is how these numbers are translated into binary numbers to be stored in a computer:\n",
        "\n",
        "UTF-8 encoding will store \"hello\" like this (binary): 01101000 01100101 01101100 01101100  01101111"
      ],
      "metadata": {
        "id": "SRarhxUWmt6t"
      }
    }
  ]
}