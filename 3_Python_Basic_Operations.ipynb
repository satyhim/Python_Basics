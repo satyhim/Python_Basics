{
  "nbformat": 4,
  "nbformat_minor": 0,
  "metadata": {
    "colab": {
      "name": "Copy of Untitled5.ipynb",
      "provenance": [],
      "collapsed_sections": [],
      "authorship_tag": "ABX9TyPcssa0yqamvr9MbiPCxxmd",
      "include_colab_link": true
    },
    "kernelspec": {
      "name": "python3",
      "display_name": "Python 3"
    },
    "language_info": {
      "name": "python"
    }
  },
  "cells": [
    {
      "cell_type": "markdown",
      "metadata": {
        "id": "view-in-github",
        "colab_type": "text"
      },
      "source": [
        "<a href=\"https://colab.research.google.com/github/satyhim/Python_Basics/blob/main/Copy_of_Untitled5.ipynb\" target=\"_parent\"><img src=\"https://colab.research.google.com/assets/colab-badge.svg\" alt=\"Open In Colab\"/></a>"
      ]
    },
    {
      "cell_type": "code",
      "execution_count": null,
      "metadata": {
        "id": "jFZH0rW6g9kf"
      },
      "outputs": [],
      "source": [
        "#Python Basics : Session 3\n"
      ]
    },
    {
      "cell_type": "code",
      "source": [
        "# Operatiors"
      ],
      "metadata": {
        "id": "X0FmjZrOhF7r"
      },
      "execution_count": null,
      "outputs": []
    },
    {
      "cell_type": "code",
      "source": [
        "# 1) Arithmetic Operators\n",
        "\n",
        "# 2) Relational Operators OR Comparison Operators\n",
        "\n",
        "# 3) Logical operators\n",
        "\n",
        "# 4) Bitwise oeprators\n",
        "\n",
        "# 5) Assignment operators\n",
        "\n",
        "# 6) Special operators"
      ],
      "metadata": {
        "id": "WeFG1GhXhF5N"
      },
      "execution_count": null,
      "outputs": []
    },
    {
      "cell_type": "code",
      "source": [
        "# 1) Arithmetic Operators:\n",
        "\n",
        "# Addition: +\n",
        "\n",
        "#  Subtraction: -\n",
        "\n",
        "# Multiplication: *\n",
        "\n",
        "#  Division Operator: /\n",
        "\n",
        "#  Modulo Operator: %\n",
        "\n",
        "#  Floor Division Operator: //\n",
        "\n",
        "# Exponent Operator OR Power Operator: **"
      ],
      "metadata": {
        "id": "ofS7LjHnhF2j"
      },
      "execution_count": null,
      "outputs": []
    },
    {
      "cell_type": "code",
      "source": [
        "a=50\n",
        "b=5\n",
        "c=20\n",
        "print('a+b+c=',a+b+c)\n",
        "print('a-b-c=',a-b-c)\n",
        "print('a*b*c=',a*b*c)\n",
        "print('a/b=',a/b)\n",
        "print('a//b=',a//b)\n",
        "print('a%b=',a%b)\n",
        "print('a**b=',a**b)"
      ],
      "metadata": {
        "colab": {
          "base_uri": "https://localhost:8080/"
        },
        "id": "AYNoiAUQhFz_",
        "outputId": "01c47e17-78d5-4b8c-9c7b-c9cc69f66ba7"
      },
      "execution_count": null,
      "outputs": [
        {
          "output_type": "stream",
          "name": "stdout",
          "text": [
            "a+b+c= 75\n",
            "a-b-c= 25\n",
            "a*b*c= 5000\n",
            "a/b= 10.0\n",
            "a//b= 10\n",
            "a%b= 0\n",
            "a**b= 312500000\n"
          ]
        }
      ]
    },
    {
      "cell_type": "code",
      "source": [
        "#2) Relational Operators: >, >=, <, <="
      ],
      "metadata": {
        "id": "lOBw8ZOvhFxX"
      },
      "execution_count": null,
      "outputs": []
    },
    {
      "cell_type": "code",
      "source": [
        "a=50\n",
        "b=40\n",
        "print(\"a > b is \",a>b)\n",
        "print(\"a >= b is \",a>=b)\n",
        "print(\"a < b is \",a<b)\n",
        "print(\"a <= b is \",a<=b)"
      ],
      "metadata": {
        "colab": {
          "base_uri": "https://localhost:8080/"
        },
        "id": "WaffNK_xhFui",
        "outputId": "e15997a7-5cf9-4954-f759-7058e55dca28"
      },
      "execution_count": null,
      "outputs": [
        {
          "output_type": "stream",
          "name": "stdout",
          "text": [
            "a > b is  True\n",
            "a >= b is  True\n",
            "a < b is  False\n",
            "a <= b is  False\n"
          ]
        }
      ]
    },
    {
      "cell_type": "code",
      "source": [
        "#3) Equality Operators: ==, != (Equal to , not equal to)\n",
        "# We can apply these operators for any type even for incompatible types also.\n"
      ],
      "metadata": {
        "id": "BFSD7N1GhFrl"
      },
      "execution_count": null,
      "outputs": []
    },
    {
      "cell_type": "code",
      "source": [
        "30==40"
      ],
      "metadata": {
        "colab": {
          "base_uri": "https://localhost:8080/"
        },
        "id": "KfbdizT1hFoD",
        "outputId": "9dfc44d3-0add-47d1-a893-e8c7ea05b2b4"
      },
      "execution_count": null,
      "outputs": [
        {
          "output_type": "execute_result",
          "data": {
            "text/plain": [
              "False"
            ]
          },
          "metadata": {},
          "execution_count": 10
        }
      ]
    },
    {
      "cell_type": "code",
      "source": [
        "25==25"
      ],
      "metadata": {
        "colab": {
          "base_uri": "https://localhost:8080/"
        },
        "id": "aMBSOpgyhFk1",
        "outputId": "d50334ac-bd30-45f0-f2dd-72cf1a862e8d"
      },
      "execution_count": null,
      "outputs": [
        {
          "output_type": "execute_result",
          "data": {
            "text/plain": [
              "True"
            ]
          },
          "metadata": {},
          "execution_count": 11
        }
      ]
    },
    {
      "cell_type": "code",
      "source": [
        "50!=60"
      ],
      "metadata": {
        "colab": {
          "base_uri": "https://localhost:8080/"
        },
        "id": "-LpYmmZ_hFht",
        "outputId": "10975197-7d81-4256-b3c1-7a10fa98f689"
      },
      "execution_count": null,
      "outputs": [
        {
          "output_type": "execute_result",
          "data": {
            "text/plain": [
              "True"
            ]
          },
          "metadata": {},
          "execution_count": 12
        }
      ]
    },
    {
      "cell_type": "code",
      "source": [
        "60!=60"
      ],
      "metadata": {
        "colab": {
          "base_uri": "https://localhost:8080/"
        },
        "id": "Lz3vJaBfjMrA",
        "outputId": "947cee2f-395b-4441-b44e-c5d289894ef6"
      },
      "execution_count": null,
      "outputs": [
        {
          "output_type": "execute_result",
          "data": {
            "text/plain": [
              "False"
            ]
          },
          "metadata": {},
          "execution_count": 13
        }
      ]
    },
    {
      "cell_type": "code",
      "source": [
        "1==True"
      ],
      "metadata": {
        "colab": {
          "base_uri": "https://localhost:8080/"
        },
        "id": "0toLdp5ojMnr",
        "outputId": "1d540318-b22b-4980-e2e8-44e42b9ab167"
      },
      "execution_count": null,
      "outputs": [
        {
          "output_type": "execute_result",
          "data": {
            "text/plain": [
              "True"
            ]
          },
          "metadata": {},
          "execution_count": 14
        }
      ]
    },
    {
      "cell_type": "code",
      "source": [
        "0==False"
      ],
      "metadata": {
        "colab": {
          "base_uri": "https://localhost:8080/"
        },
        "id": "T-I-9JHXjMkO",
        "outputId": "2d6f666a-1c77-42e0-9663-6ae82f87ceb0"
      },
      "execution_count": null,
      "outputs": [
        {
          "output_type": "execute_result",
          "data": {
            "text/plain": [
              "True"
            ]
          },
          "metadata": {},
          "execution_count": 15
        }
      ]
    },
    {
      "cell_type": "code",
      "source": [
        "True==False"
      ],
      "metadata": {
        "colab": {
          "base_uri": "https://localhost:8080/"
        },
        "id": "EFD-b1YFjXrb",
        "outputId": "1463cdd3-b932-42a3-8550-ef04707570f8"
      },
      "execution_count": null,
      "outputs": [
        {
          "output_type": "execute_result",
          "data": {
            "text/plain": [
              "False"
            ]
          },
          "metadata": {},
          "execution_count": 16
        }
      ]
    },
    {
      "cell_type": "code",
      "source": [
        "False==False"
      ],
      "metadata": {
        "colab": {
          "base_uri": "https://localhost:8080/"
        },
        "id": "RokzJW4OjXo5",
        "outputId": "71887750-30f3-44a5-a8a5-8e94cb8fcad7"
      },
      "execution_count": null,
      "outputs": [
        {
          "output_type": "execute_result",
          "data": {
            "text/plain": [
              "True"
            ]
          },
          "metadata": {},
          "execution_count": 17
        }
      ]
    },
    {
      "cell_type": "code",
      "source": [
        "100==100==100!=99"
      ],
      "metadata": {
        "colab": {
          "base_uri": "https://localhost:8080/"
        },
        "id": "n18Ff1HNjXmQ",
        "outputId": "76c5b1ea-9512-4457-f0c4-019ecc89828b"
      },
      "execution_count": null,
      "outputs": [
        {
          "output_type": "execute_result",
          "data": {
            "text/plain": [
              "True"
            ]
          },
          "metadata": {},
          "execution_count": 18
        }
      ]
    },
    {
      "cell_type": "code",
      "source": [
        "50!=45!=40!=35==35"
      ],
      "metadata": {
        "colab": {
          "base_uri": "https://localhost:8080/"
        },
        "id": "5BZuKB01jXjV",
        "outputId": "f7fbe447-e755-42c1-c56d-fcf466472a85"
      },
      "execution_count": null,
      "outputs": [
        {
          "output_type": "execute_result",
          "data": {
            "text/plain": [
              "True"
            ]
          },
          "metadata": {},
          "execution_count": 19
        }
      ]
    },
    {
      "cell_type": "code",
      "source": [
        "#4) Logical Operators: and, or, not"
      ],
      "metadata": {
        "id": "oQJmAF18jjZj"
      },
      "execution_count": null,
      "outputs": []
    },
    {
      "cell_type": "code",
      "source": [
        "We can apply for all types.\n",
        "\n",
        "#For boolean Types Behaviour:\n",
        "\n",
        "and -> If both arguments are True then only result is True\n",
        "\n",
        "or -> If atleast one arugemnt is True then result is True\n",
        "\n",
        "not -> Complement\n",
        "\n",
        "True and False ==> False\n",
        "\n",
        "True or False ==> True\n",
        "\n",
        "not False ==> True"
      ],
      "metadata": {
        "id": "63fj_T38jjWt"
      },
      "execution_count": null,
      "outputs": []
    },
    {
      "cell_type": "code",
      "source": [
        "#For non-boolean Types Behaviour:\n",
        "\n",
        "0 means False\n",
        "\n",
        "non-zero means True\n",
        "\n",
        "empty string is always treated as False\n",
        "\n",
        "x and y:\n",
        "\n",
        "If x is evaluates to false return x otherwise return y\n",
        "\n"
      ],
      "metadata": {
        "id": "1-wHZflLjjTx"
      },
      "execution_count": null,
      "outputs": []
    },
    {
      "cell_type": "code",
      "source": [
        "#Eg:\n",
        "\n",
        "50 and 60\n",
        "\n",
        "0 and 40\n",
        "\n",
        "#If first argument is zero then result is zero otherwise result is y"
      ],
      "metadata": {
        "colab": {
          "base_uri": "https://localhost:8080/"
        },
        "id": "XmNZ1vcUkD_x",
        "outputId": "cd381be0-d8c1-4779-d572-4476deed42b8"
      },
      "execution_count": null,
      "outputs": [
        {
          "output_type": "execute_result",
          "data": {
            "text/plain": [
              "0"
            ]
          },
          "metadata": {},
          "execution_count": 22
        }
      ]
    },
    {
      "cell_type": "code",
      "source": [
        "# 5) Bitwise Operators: (&, |, ^, ~, <<, >>)\n",
        "\n",
        "# We can apply these operators bitwise.\n",
        "\n",
        "# These operators are applicable only for int and boolean types.\n",
        "\n",
        "# By mistake if we are trying to apply for any other type then we will get Error.\n",
        "\n",
        "# &, |, ^, ~, <<, >>\n",
        "\n",
        "# print(4&5) # Valid\n",
        "\n",
        "# print(10.5 & 5.6)\n",
        "\n",
        "# TypeError: unsupported operand type(s) for &: 'float' and 'float'\n",
        "\n",
        "# print(True & True) # Valid\n",
        "\n",
        "# & -> If both bits are 1 then only result is 1 otherwise result is 0\n",
        "\n",
        "# | -> If atleast one bit is 1 then result is 1 otherwise result is 0\n",
        "\n",
        "# ^ -> If bits are different then only result is 1 otherwise result is 0\n",
        "\n",
        "# ~ -> bitwise complement operator\n",
        "\n",
        "# 1 -> 0 & 0 -> 1\n",
        "\n",
        "# << -> Bitwise Left Shift\n",
        "\n",
        "# >> -> Bitwise Right Shift"
      ],
      "metadata": {
        "id": "8ilyhSYJkD9l"
      },
      "execution_count": null,
      "outputs": []
    },
    {
      "cell_type": "code",
      "source": [
        "#We can apply bitwise operators for boolean types also\n",
        "\n",
        "֍ print(True & False) # False\n",
        "\n",
        "֍ print(True | False) # True\n",
        "\n",
        "֍ print(True ^ False) # True\n",
        "\n",
        "֍ print(~True) # -2\n",
        "\n",
        "֍ print(True<<2) # 4\n",
        "\n",
        "֍ print(True>>2) # 0"
      ],
      "metadata": {
        "id": "abZObY2XkD7o"
      },
      "execution_count": null,
      "outputs": []
    },
    {
      "cell_type": "code",
      "source": [
        "# Complement Operator\n",
        "#Formula ~= -x-1"
      ],
      "metadata": {
        "id": "F1xHA35OkD4g"
      },
      "execution_count": null,
      "outputs": []
    },
    {
      "cell_type": "code",
      "source": [
        "# Left Shift\n",
        "a=20\n",
        "a<<2 # left shift by 2 bytes\n",
        "\n",
        "'''Steps:\n",
        "Binary representation of 20 = 0001 0100\n",
        "Left shift by 2 bytes will remove first two zero.\n",
        "It will become 0101 0000 (we are adding two zero at the right side)\n",
        "From left to right --> 2**0,2**1, 2**2, 2**3, 2**4, 2**5, 2**6, 2**7\n",
        "2**4 +2**6 =80'''"
      ],
      "metadata": {
        "colab": {
          "base_uri": "https://localhost:8080/",
          "height": 53
        },
        "id": "2l0lQvAKkD1l",
        "outputId": "631f8175-f223-4f1b-a725-15123a3f0078"
      },
      "execution_count": null,
      "outputs": [
        {
          "output_type": "execute_result",
          "data": {
            "text/plain": [
              "'Steps:\\nBinary representation of 20 = 0001 0100\\nLeft shift by 2 bytes will remove first two zero.\\nIt will become 0101 0000 (we are adding two zero at the right side)\\nFrom left to right --> 2**0,2**1, 2**2, 2**3, 2**4, 2**5, 2**6, 2**7\\n2**4 +2**6 =80'"
            ],
            "application/vnd.google.colaboratory.intrinsic+json": {
              "type": "string"
            }
          },
          "metadata": {},
          "execution_count": 24
        }
      ]
    },
    {
      "cell_type": "code",
      "source": [
        "# Bitwise \"and\" operator\n",
        "a=100\n",
        "b= 5\n",
        "a&b"
      ],
      "metadata": {
        "colab": {
          "base_uri": "https://localhost:8080/"
        },
        "id": "4A9HcIWOkDyz",
        "outputId": "cc2b58a2-2436-43e5-b38a-6ed293c82412"
      },
      "execution_count": null,
      "outputs": [
        {
          "output_type": "execute_result",
          "data": {
            "text/plain": [
              "4"
            ]
          },
          "metadata": {},
          "execution_count": 27
        }
      ]
    },
    {
      "cell_type": "code",
      "source": [
        "# bitwise or operator\n",
        "a=1000\n",
        "b=10\n",
        "a|b\n"
      ],
      "metadata": {
        "colab": {
          "base_uri": "https://localhost:8080/"
        },
        "id": "ubR50GLfkDv9",
        "outputId": "e4337701-b8d1-4568-9d9f-8d82af3368a4"
      },
      "execution_count": null,
      "outputs": [
        {
          "output_type": "execute_result",
          "data": {
            "text/plain": [
              "1002"
            ]
          },
          "metadata": {},
          "execution_count": 29
        }
      ]
    },
    {
      "cell_type": "code",
      "source": [
        "# bitwise XOR \"^\" Operator\n",
        "a=20\n",
        "b= 4\n",
        "a^b"
      ],
      "metadata": {
        "colab": {
          "base_uri": "https://localhost:8080/"
        },
        "id": "EXmClnCckDsy",
        "outputId": "d01aa1e9-9854-4ca5-8973-113fe5ecf2b5"
      },
      "execution_count": null,
      "outputs": [
        {
          "output_type": "execute_result",
          "data": {
            "text/plain": [
              "16"
            ]
          },
          "metadata": {},
          "execution_count": 30
        }
      ]
    },
    {
      "cell_type": "code",
      "source": [
        "# bitwise XOR \"^\" Operator\n",
        "a=50\n",
        "b= 5\n",
        "a^b"
      ],
      "metadata": {
        "colab": {
          "base_uri": "https://localhost:8080/"
        },
        "id": "mx6vsU5LHXMc",
        "outputId": "29d3fb3b-bca4-40db-f050-6dba7d2b3c70"
      },
      "execution_count": null,
      "outputs": [
        {
          "output_type": "execute_result",
          "data": {
            "text/plain": [
              "55"
            ]
          },
          "metadata": {},
          "execution_count": 31
        }
      ]
    },
    {
      "cell_type": "code",
      "source": [
        "# 7) Assignment Operators:\n",
        "\n",
        "֍ We can use assignment operator to assign value to the variable. Eg: x = 10\n",
        "\n",
        "֍ We can combine asignment operator with some other operator to form compound assignment operator.\n",
        "\n",
        "Eg: x += 10 -> x = x+10\n",
        "\n",
        "#The following is the list of all possible compound assignment operators in Python.\n",
        "\n",
        " +=\n",
        "\n",
        " -=\n",
        "\n",
        " *=\n",
        "\n",
        " /=\n",
        "\n",
        " %=\n",
        "\n",
        " //=\n",
        "\n",
        " **=\n",
        "\n",
        " &=\n",
        "\n",
        " |=\n",
        "\n",
        " ^=\n",
        "\n",
        " >>=\n",
        "\n",
        " <<="
      ],
      "metadata": {
        "id": "RHbv1fqcHdab"
      },
      "execution_count": null,
      "outputs": []
    },
    {
      "cell_type": "code",
      "source": [
        "x=100\n",
        "x+=200\n",
        "print(x) "
      ],
      "metadata": {
        "colab": {
          "base_uri": "https://localhost:8080/"
        },
        "id": "4ngE6GpiHdXj",
        "outputId": "c680bf7b-304b-489e-cfe3-ada1abaa2c49"
      },
      "execution_count": null,
      "outputs": [
        {
          "output_type": "stream",
          "name": "stdout",
          "text": [
            "300\n"
          ]
        }
      ]
    },
    {
      "cell_type": "code",
      "source": [
        "Y=500\n",
        "Y+=300\n",
        "print(Y)"
      ],
      "metadata": {
        "colab": {
          "base_uri": "https://localhost:8080/"
        },
        "id": "eE0gMrQ1HdUv",
        "outputId": "032676f6-6609-4eb1-b3f2-5024ea2fbef5"
      },
      "execution_count": null,
      "outputs": [
        {
          "output_type": "stream",
          "name": "stdout",
          "text": [
            "800\n"
          ]
        }
      ]
    },
    {
      "cell_type": "code",
      "source": [
        "# 8) Ternary Operator OR Conditional Operator\n",
        "\n",
        "# Syntax: x = firstValue if condition else secondValue\n",
        "\n",
        "# If condition is True then firstValue will be considered else secondValue will be considered."
      ],
      "metadata": {
        "id": "0H5cU2FvHdRT"
      },
      "execution_count": null,
      "outputs": []
    },
    {
      "cell_type": "code",
      "source": [
        "# Eg 1:\n",
        "\n",
        "a,b=10,20\n",
        "\n",
        "x=30 if a<b else 40\n",
        "print(x)"
      ],
      "metadata": {
        "colab": {
          "base_uri": "https://localhost:8080/"
        },
        "id": "yvxaqMHDHdOB",
        "outputId": "9c1d80e4-fd71-4cfd-cc43-cf8981d98edd"
      },
      "execution_count": null,
      "outputs": [
        {
          "output_type": "stream",
          "name": "stdout",
          "text": [
            "30\n"
          ]
        }
      ]
    },
    {
      "cell_type": "code",
      "source": [
        "a,b,c=2,4,6\n",
        "x=10 if a>b>c else 20\n",
        "print(x)"
      ],
      "metadata": {
        "colab": {
          "base_uri": "https://localhost:8080/"
        },
        "id": "laW6Iy9zHdCU",
        "outputId": "2ad3f3a3-a520-4f1f-d18d-d9b520b8a070"
      },
      "execution_count": null,
      "outputs": [
        {
          "output_type": "stream",
          "name": "stdout",
          "text": [
            "20\n"
          ]
        }
      ]
    },
    {
      "cell_type": "code",
      "source": [
        "# Program for Minimum of 3 Numbers\n",
        "a=int(input(\"Enter First Number:\"))\n",
        "b=int(input(\"Enter Second Number:\"))\n",
        "c=int(input(\"Enter Third Number:\"))\n",
        "min=a if a<b and a<c else b if b<c else c\n",
        "print(\"Minimum Value:\",min)"
      ],
      "metadata": {
        "colab": {
          "base_uri": "https://localhost:8080/"
        },
        "id": "7IurQa3aIimG",
        "outputId": "f41d55af-8f2f-4fa1-f46b-444821c2ce77"
      },
      "execution_count": null,
      "outputs": [
        {
          "output_type": "stream",
          "name": "stdout",
          "text": [
            "Enter First Number:20\n",
            "Enter Second Number:20\n",
            "Enter Third Number:2\n",
            "Minimum Value: 2\n"
          ]
        }
      ]
    },
    {
      "cell_type": "code",
      "source": [
        "# Homework:"
      ],
      "metadata": {
        "id": "TBsX8sY_PQRV"
      },
      "execution_count": null,
      "outputs": []
    },
    {
      "cell_type": "code",
      "source": [
        "# Program for Maximum of 3 Numbers\n",
        "x=int(input(\"Enter First Number:\"))\n",
        "y=int(input(\"Enter Second Number:\"))\n",
        "z=int(input(\"Enter Third Number:\"))\n",
        "max=x if x>y and x>z else y if y>z else z\n",
        "print(\"Maximum Value:\",max)"
      ],
      "metadata": {
        "colab": {
          "base_uri": "https://localhost:8080/"
        },
        "id": "k9VS5TylIijf",
        "outputId": "ad0ef947-63be-44e4-97a0-16bc77367370"
      },
      "execution_count": null,
      "outputs": [
        {
          "output_type": "stream",
          "name": "stdout",
          "text": [
            "Enter First Number:200\n",
            "Enter Second Number:50\n",
            "Enter Third Number:100\n",
            "Maximum Value: 200\n"
          ]
        }
      ]
    },
    {
      "cell_type": "code",
      "source": [
        "#Math Module"
      ],
      "metadata": {
        "id": "WbCVFD-IIigC"
      },
      "execution_count": 1,
      "outputs": []
    },
    {
      "cell_type": "code",
      "source": [
        "# Mathematical Functions (math Module)\n",
        "\n",
        "֍ A Module is collection of functions, variables and classes etc.\n",
        "\n",
        "֍ math is a module that contains several functions to perform mathematical operations.\n",
        "\n",
        "֍ If we want to use any module in Python, first we have to import that module. import math\n",
        "\n",
        "֍ Once we import a module then we can call any function of that module."
      ],
      "metadata": {
        "id": "jRHdsaH-IidK"
      },
      "execution_count": null,
      "outputs": []
    },
    {
      "cell_type": "code",
      "source": [
        "1) import math\n",
        "\n",
        "2) print(math.sqrt(16))\n",
        "\n",
        "3) print(math.pi)"
      ],
      "metadata": {
        "id": "Hhuf9cLRIiaC"
      },
      "execution_count": null,
      "outputs": []
    },
    {
      "cell_type": "code",
      "source": [
        "import math\n",
        "math.sqrt(25)"
      ],
      "metadata": {
        "id": "Z_KAOK3TIiXJ",
        "colab": {
          "base_uri": "https://localhost:8080/"
        },
        "outputId": "765e98dd-e452-4169-acfd-839100d6f363"
      },
      "execution_count": 2,
      "outputs": [
        {
          "output_type": "execute_result",
          "data": {
            "text/plain": [
              "5.0"
            ]
          },
          "metadata": {},
          "execution_count": 2
        }
      ]
    },
    {
      "cell_type": "code",
      "source": [
        "# Other important functions in math module\n",
        "from math import ceil, floor, factorial, trunc, gcd, sin,cos,tan\n",
        "\n",
        "print(ceil(10.55))\n",
        "print(floor(10.55))\n",
        "print(pow(10,20))\n",
        "print(factorial(5))\n",
        "print(trunc(10.55))\n",
        "print(gcd(10,20))\n",
        "print(sin(10))\n",
        "print(cos(10))\n",
        "print(tan(10))"
      ],
      "metadata": {
        "id": "phK8_HLHJuPx",
        "colab": {
          "base_uri": "https://localhost:8080/"
        },
        "outputId": "0c6d5391-bb5c-4813-9b05-59d5a16ade0a"
      },
      "execution_count": 3,
      "outputs": [
        {
          "output_type": "stream",
          "name": "stdout",
          "text": [
            "11\n",
            "10\n",
            "100000000000000000000\n",
            "120\n",
            "10\n",
            "10\n",
            "-0.5440211108893698\n",
            "-0.8390715290764524\n",
            "0.6483608274590866\n"
          ]
        }
      ]
    },
    {
      "cell_type": "code",
      "source": [
        "# Important variables\n",
        "'''pi = 3.14\n",
        "   inf = infinity\n",
        "   nan = not a number'''"
      ],
      "metadata": {
        "id": "ZTsZZ1USPBzx"
      },
      "execution_count": null,
      "outputs": []
    },
    {
      "cell_type": "code",
      "source": [
        "# Homework: Q) Write a Python Program to find Area of Circle"
      ],
      "metadata": {
        "id": "A7AyNVq3PBw6"
      },
      "execution_count": null,
      "outputs": []
    },
    {
      "cell_type": "code",
      "source": [
        "# Area of Circle\n",
        "PI = 3.14\n",
        "r = float(input(\"Enter the radius of a circle:\"))\n",
        "area = PI * r * r\n",
        "print(\"Area of a circle = %.2f\" %area)\n"
      ],
      "metadata": {
        "colab": {
          "base_uri": "https://localhost:8080/"
        },
        "id": "VNGgzJNZPBud",
        "outputId": "5f6f84d5-a6f7-4345-edd2-526eb9381b40"
      },
      "execution_count": 4,
      "outputs": [
        {
          "output_type": "stream",
          "name": "stdout",
          "text": [
            "Enter the radius of a circle:2\n",
            "Area of a circle = 12.56\n"
          ]
        }
      ]
    },
    {
      "cell_type": "code",
      "source": [
        ""
      ],
      "metadata": {
        "id": "7rz8wsmuPBpX"
      },
      "execution_count": null,
      "outputs": []
    },
    {
      "cell_type": "code",
      "source": [
        "#Output Statements:"
      ],
      "metadata": {
        "id": "14C26pGnQNmF"
      },
      "execution_count": null,
      "outputs": []
    },
    {
      "cell_type": "code",
      "source": [
        "#We can use escape characters\n",
        "print(\"Good \\n morning\")"
      ],
      "metadata": {
        "colab": {
          "base_uri": "https://localhost:8080/"
        },
        "id": "Q-QVDIVKQNjR",
        "outputId": "8ca2cf43-b235-493c-a1fa-ae81691b4c35"
      },
      "execution_count": 8,
      "outputs": [
        {
          "output_type": "stream",
          "name": "stdout",
          "text": [
            "Good \n",
            " morning\n"
          ]
        }
      ]
    },
    {
      "cell_type": "code",
      "source": [
        "#print with variable number of arguments\n",
        "a,b,c=110,220,330\n",
        "print(\"The Values are :\",a,b,c)"
      ],
      "metadata": {
        "colab": {
          "base_uri": "https://localhost:8080/"
        },
        "id": "wQ3oHmcWQNgp",
        "outputId": "be4f10b9-3ca0-4578-8122-e5632c79ca2b"
      },
      "execution_count": 7,
      "outputs": [
        {
          "output_type": "stream",
          "name": "stdout",
          "text": [
            "The Values are : 110 220 330\n"
          ]
        }
      ]
    },
    {
      "cell_type": "code",
      "source": [
        "# If we want output in the same line with space\n",
        "print(\"Hello\",end=' ')\n",
        "print(\"World\",end=' ')\n",
        "print(\"Welcome\")"
      ],
      "metadata": {
        "colab": {
          "base_uri": "https://localhost:8080/"
        },
        "id": "8qhUwwCMQqkg",
        "outputId": "fd44989c-62e2-427a-dc0a-a94fc15dae50"
      },
      "execution_count": 9,
      "outputs": [
        {
          "output_type": "stream",
          "name": "stdout",
          "text": [
            "Hello World Welcome\n"
          ]
        }
      ]
    },
    {
      "cell_type": "code",
      "source": [
        "'''1) %i == int\n",
        "   2) %d == int\n",
        "   3) %f == float\n",
        "   4) %s == String type'''\n",
        "\n",
        "a=10\n",
        "b=20\n",
        "c=30\n",
        "print(\"a value is %i\" %a)\n",
        "print(\"b value is %d and c value is %d\" %(b,c))"
      ],
      "metadata": {
        "colab": {
          "base_uri": "https://localhost:8080/"
        },
        "id": "gbvXYixMQqh0",
        "outputId": "9e8dc9f9-41a2-432b-b0cd-1d2c976b48c5"
      },
      "execution_count": 10,
      "outputs": [
        {
          "output_type": "stream",
          "name": "stdout",
          "text": [
            "a value is 10\n",
            "b value is 20 and c value is 30\n"
          ]
        }
      ]
    },
    {
      "cell_type": "code",
      "source": [
        "s=\"Students\"\n",
        "list1=[10,20,30,40]\n",
        "print(\"Hello %s,The List of Items are %s\" %(s,list1))"
      ],
      "metadata": {
        "colab": {
          "base_uri": "https://localhost:8080/"
        },
        "id": "01ChQ8PaQzT6",
        "outputId": "8e3f1673-d526-49cc-deb7-0a39035d1893"
      },
      "execution_count": 11,
      "outputs": [
        {
          "output_type": "stream",
          "name": "stdout",
          "text": [
            "Hello Students,The List of Items are [10, 20, 30, 40]\n"
          ]
        }
      ]
    },
    {
      "cell_type": "code",
      "source": [
        "s=\"Guys\"\n",
        "list1=[1,2,3,4]\n",
        "print(\"Hello %s,The List of Items are %s\" %(s,list1))"
      ],
      "metadata": {
        "colab": {
          "base_uri": "https://localhost:8080/"
        },
        "id": "0rJF9TZjQzPL",
        "outputId": "ba2780aa-057d-404e-d807-eb37313e1574"
      },
      "execution_count": 12,
      "outputs": [
        {
          "output_type": "stream",
          "name": "stdout",
          "text": [
            "Hello Guys,The List of Items are [1, 2, 3, 4]\n"
          ]
        }
      ]
    },
    {
      "cell_type": "code",
      "source": [
        ""
      ],
      "metadata": {
        "id": "cdqIsMYbQzMM"
      },
      "execution_count": null,
      "outputs": []
    },
    {
      "cell_type": "code",
      "source": [
        ""
      ],
      "metadata": {
        "id": "ZgxIHL0AQqew"
      },
      "execution_count": null,
      "outputs": []
    }
  ]
}
