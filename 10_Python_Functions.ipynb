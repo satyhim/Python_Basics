{
  "nbformat": 4,
  "nbformat_minor": 0,
  "metadata": {
    "colab": {
      "name": "Untitled15.ipynb",
      "provenance": [],
      "authorship_tag": "ABX9TyNGmW0IBfnuMqFMcp1eMJK+",
      "include_colab_link": true
    },
    "kernelspec": {
      "name": "python3",
      "display_name": "Python 3"
    },
    "language_info": {
      "name": "python"
    }
  },
  "cells": [
    {
      "cell_type": "markdown",
      "metadata": {
        "id": "view-in-github",
        "colab_type": "text"
      },
      "source": [
        "<a href=\"https://colab.research.google.com/github/satyhim/Python_Basics/blob/main/10_Python_Functions.ipynb\" target=\"_parent\"><img src=\"https://colab.research.google.com/assets/colab-badge.svg\" alt=\"Open In Colab\"/></a>"
      ]
    },
    {
      "cell_type": "markdown",
      "source": [
        "#Session10: Functions\n",
        "\n",
        "֍ If a group of statements is repeatedly required then it is not recommended to write these statements everytime seperately.We have to define these statements as a single unit and we can call that unit any number of times based on our requirement without rewriting. This unit is nothing but function.\n",
        "\n",
        "֍ The main advantage of functions is code Reusability.\n",
        "\n",
        "֍ Python supports two types of functions:\n",
        "\n",
        "Built-in function\n",
        "User defined function\n",
        "\n",
        "Built in Functions:\n",
        "\n",
        "The functions which are coming along with Python software automatically, are called built in functions or pre defined functions.\n",
        "\n",
        "e.g. id(), type(), input(),eval()\n",
        "\n",
        "User defined function:\n",
        "The functions which are developed by programmer explicitly according to business requirements, are called user defined functions.\n",
        "\n",
        "Syntax:\n",
        "\n",
        "def function_name(parameters):\n",
        "\n",
        "''' doc string'''\n",
        "\n",
        "python code\n",
        "\n",
        "return value"
      ],
      "metadata": {
        "id": "u7lklvYzhLzW"
      }
    },
    {
      "cell_type": "code",
      "source": [
        "def wish():\n",
        "  print(\"Hello Good Morning\")\n",
        "  wish()"
      ],
      "metadata": {
        "id": "ZMfz9fxXhcBd"
      },
      "execution_count": 1,
      "outputs": []
    },
    {
      "cell_type": "code",
      "source": [
        "def Myname():\n",
        "  print(\"satish\")\n",
        "  Myname"
      ],
      "metadata": {
        "id": "hMiW3pgfhsLD"
      },
      "execution_count": 4,
      "outputs": []
    },
    {
      "cell_type": "markdown",
      "source": [
        "#Parameters\n",
        "Parameters are inputs to the function. If a function contains parameters, then at the time of calling,compulsory we should provide values otherwise, we will get error.\n",
        "\n",
        "Eg: Write a function to take name of the student as input and print wish message by name."
      ],
      "metadata": {
        "id": "987cDQD1iD21"
      }
    },
    {
      "cell_type": "code",
      "source": [
        "def wish(name):\n",
        "  print(\"Hello\",name,\" Good Morning\")"
      ],
      "metadata": {
        "id": "Jss1UFXJiIJf"
      },
      "execution_count": 5,
      "outputs": []
    },
    {
      "cell_type": "code",
      "source": [
        "wish (\"satish\")"
      ],
      "metadata": {
        "colab": {
          "base_uri": "https://localhost:8080/"
        },
        "id": "3EsV4kDqiZY3",
        "outputId": "9921ffed-c28b-4f1b-939e-dae1b6b6eb9b"
      },
      "execution_count": 7,
      "outputs": [
        {
          "output_type": "stream",
          "name": "stdout",
          "text": [
            "Hello satish  Good Morning\n"
          ]
        }
      ]
    },
    {
      "cell_type": "code",
      "source": [
        "# Eg: Write a function to take number as input and print its square value\n",
        "def squareIt(number):\n",
        "  print(number*number)"
      ],
      "metadata": {
        "id": "37hwpKiMiveg"
      },
      "execution_count": 11,
      "outputs": []
    },
    {
      "cell_type": "code",
      "source": [
        "squareIt(10)"
      ],
      "metadata": {
        "colab": {
          "base_uri": "https://localhost:8080/"
        },
        "id": "8efM4Z75iz9S",
        "outputId": "ef3d2668-6283-484d-da79-1d6a09376747"
      },
      "execution_count": 12,
      "outputs": [
        {
          "output_type": "stream",
          "name": "stdout",
          "text": [
            "100\n"
          ]
        }
      ]
    },
    {
      "cell_type": "code",
      "source": [
        "def divide(number):\n",
        "  print(number/10)"
      ],
      "metadata": {
        "id": "7CjpaVfoi7OZ"
      },
      "execution_count": 13,
      "outputs": []
    },
    {
      "cell_type": "code",
      "source": [
        "divide(500)"
      ],
      "metadata": {
        "colab": {
          "base_uri": "https://localhost:8080/"
        },
        "id": "U6IAMgA3jDnr",
        "outputId": "26f1ccf0-f21e-4ef5-b367-f1fcc99ed855"
      },
      "execution_count": 17,
      "outputs": [
        {
          "output_type": "stream",
          "name": "stdout",
          "text": [
            "50.0\n"
          ]
        }
      ]
    },
    {
      "cell_type": "markdown",
      "source": [
        "#Return Statement:\n",
        "Function can take input values as parameters and executes business logic, and returns output to the caller with return statement.\n",
        "\n",
        "Q) Write a Function to accept 2 Numbers as Input and return Sum"
      ],
      "metadata": {
        "id": "bnq7jhmejaAy"
      }
    },
    {
      "cell_type": "code",
      "source": [
        "def add(x,y):\n",
        "  return x+y"
      ],
      "metadata": {
        "id": "lpuSkx3kjcdq"
      },
      "execution_count": 18,
      "outputs": []
    },
    {
      "cell_type": "code",
      "source": [
        "add(1254,365)"
      ],
      "metadata": {
        "colab": {
          "base_uri": "https://localhost:8080/"
        },
        "id": "UGv8ebMpjp7i",
        "outputId": "cecea37e-b1a3-4f77-fdb5-a32897289e89"
      },
      "execution_count": 19,
      "outputs": [
        {
          "output_type": "execute_result",
          "data": {
            "text/plain": [
              "1619"
            ]
          },
          "metadata": {},
          "execution_count": 19
        }
      ]
    },
    {
      "cell_type": "code",
      "source": [
        "\"\"\"Q) Write a Function to check whether the given Number is\n",
        "  Even OR Odd?\"\"\"\n",
        "\n",
        "def even_or_odd(number):\n",
        "   if number%2==0:\n",
        "     print(number,\"is Even Number\")\n",
        "   else:\n",
        "     print(number,\"is Odd Number\")"
      ],
      "metadata": {
        "id": "8TxTHZiej4Fr"
      },
      "execution_count": 20,
      "outputs": []
    },
    {
      "cell_type": "code",
      "source": [
        "even_or_odd(536847)"
      ],
      "metadata": {
        "colab": {
          "base_uri": "https://localhost:8080/"
        },
        "id": "tiYS08LNkCKT",
        "outputId": "f20b26d2-6de3-4322-b03f-f88147a2e1a1"
      },
      "execution_count": 21,
      "outputs": [
        {
          "output_type": "stream",
          "name": "stdout",
          "text": [
            "536847 is Odd Number\n"
          ]
        }
      ]
    },
    {
      "cell_type": "code",
      "source": [
        "even_or_odd(999)"
      ],
      "metadata": {
        "colab": {
          "base_uri": "https://localhost:8080/"
        },
        "id": "fAG0hYMNkJM0",
        "outputId": "28aaebc5-87d5-4e86-9bb9-246b96810726"
      },
      "execution_count": 22,
      "outputs": [
        {
          "output_type": "stream",
          "name": "stdout",
          "text": [
            "999 is Odd Number\n"
          ]
        }
      ]
    },
    {
      "cell_type": "code",
      "source": [
        "even_or_odd(126546)"
      ],
      "metadata": {
        "colab": {
          "base_uri": "https://localhost:8080/"
        },
        "id": "wKt5uzO6kNfk",
        "outputId": "6c6dfe5f-831a-4675-f7a8-90ce6dd25644"
      },
      "execution_count": 23,
      "outputs": [
        {
          "output_type": "stream",
          "name": "stdout",
          "text": [
            "126546 is Even Number\n"
          ]
        }
      ]
    },
    {
      "cell_type": "markdown",
      "source": [
        "\"Q) Write a Function to find Factorial of given Number?\""
      ],
      "metadata": {
        "id": "pb1jgj0_kUvc"
      }
    },
    {
      "cell_type": "code",
      "source": [
        "def factorial(number):\n",
        "    result=1\n",
        "    while number>=1:\n",
        "      result=result*number\n",
        "      number=number-1\n",
        "    return result"
      ],
      "metadata": {
        "id": "9FRuDQUzkYq1"
      },
      "execution_count": 24,
      "outputs": []
    },
    {
      "cell_type": "code",
      "source": [
        "factorial(12)"
      ],
      "metadata": {
        "colab": {
          "base_uri": "https://localhost:8080/"
        },
        "id": "4SijEP4JkkPD",
        "outputId": "640808b7-526a-4a7e-ae9f-0fa04393dc3e"
      },
      "execution_count": 25,
      "outputs": [
        {
          "output_type": "execute_result",
          "data": {
            "text/plain": [
              "479001600"
            ]
          },
          "metadata": {},
          "execution_count": 25
        }
      ]
    },
    {
      "cell_type": "code",
      "source": [
        "factorial(3)"
      ],
      "metadata": {
        "colab": {
          "base_uri": "https://localhost:8080/"
        },
        "id": "Ale2PKb3knTk",
        "outputId": "c22d9b9a-2a4b-419b-a472-cddeb274b1c1"
      },
      "execution_count": 27,
      "outputs": [
        {
          "output_type": "execute_result",
          "data": {
            "text/plain": [
              "6"
            ]
          },
          "metadata": {},
          "execution_count": 27
        }
      ]
    },
    {
      "cell_type": "code",
      "source": [
        "for i in range(1,4):\n",
        "   print(\"The Factorial of\",i,\"is :\",factorial(i))"
      ],
      "metadata": {
        "colab": {
          "base_uri": "https://localhost:8080/"
        },
        "id": "sRqN55HOksX3",
        "outputId": "65a37fbc-9b52-4758-e54e-093c0faa644f"
      },
      "execution_count": 29,
      "outputs": [
        {
          "output_type": "stream",
          "name": "stdout",
          "text": [
            "The Factorial of 1 is : 1\n",
            "The Factorial of 2 is : 2\n",
            "The Factorial of 3 is : 6\n"
          ]
        }
      ]
    },
    {
      "cell_type": "markdown",
      "source": [
        "#Returning Multiple Values from a Function:"
      ],
      "metadata": {
        "id": "x-lCBi_zk5Of"
      }
    },
    {
      "cell_type": "code",
      "source": [
        "def sum_sub(a,b):\n",
        "    sum=a+b\n",
        "    sub=a-b\n",
        "    return sum,sub"
      ],
      "metadata": {
        "id": "Oid5ZUYek7QU"
      },
      "execution_count": 30,
      "outputs": []
    },
    {
      "cell_type": "code",
      "source": [
        "sum_sub(20,30)"
      ],
      "metadata": {
        "colab": {
          "base_uri": "https://localhost:8080/"
        },
        "id": "QO89pcjGk-ck",
        "outputId": "87ca6dc9-46d5-4013-83dc-5e1e4ada64bf"
      },
      "execution_count": 31,
      "outputs": [
        {
          "output_type": "execute_result",
          "data": {
            "text/plain": [
              "(50, -10)"
            ]
          },
          "metadata": {},
          "execution_count": 31
        }
      ]
    },
    {
      "cell_type": "code",
      "source": [
        "sum_sub(8,7)"
      ],
      "metadata": {
        "colab": {
          "base_uri": "https://localhost:8080/"
        },
        "id": "6Sfv5m5blCh8",
        "outputId": "0d68592e-1ba3-40f6-a968-4d122ad2f342"
      },
      "execution_count": 32,
      "outputs": [
        {
          "output_type": "execute_result",
          "data": {
            "text/plain": [
              "(15, 1)"
            ]
          },
          "metadata": {},
          "execution_count": 32
        }
      ]
    },
    {
      "cell_type": "code",
      "source": [
        "x,y=sum_sub(100,50)\n",
        "print(\"The Sum is:\",x)\n",
        "print(\"The Subtraction is:\",y)"
      ],
      "metadata": {
        "colab": {
          "base_uri": "https://localhost:8080/"
        },
        "id": "WiHaDseclK4n",
        "outputId": "679d9a79-e6fe-4d0e-a72d-1498ab31bf6f"
      },
      "execution_count": 33,
      "outputs": [
        {
          "output_type": "stream",
          "name": "stdout",
          "text": [
            "The Sum is: 150\n",
            "The Subtraction is: 50\n"
          ]
        }
      ]
    },
    {
      "cell_type": "code",
      "source": [
        "sum_sub(100,50)"
      ],
      "metadata": {
        "colab": {
          "base_uri": "https://localhost:8080/"
        },
        "id": "pVaoUTuAlSG8",
        "outputId": "af82754d-09ef-4ede-b35a-45f927629abb"
      },
      "execution_count": 34,
      "outputs": [
        {
          "output_type": "execute_result",
          "data": {
            "text/plain": [
              "(150, 50)"
            ]
          },
          "metadata": {},
          "execution_count": 34
        }
      ]
    },
    {
      "cell_type": "markdown",
      "source": [
        "#Types of Arguments\n",
        "def f1(a,b):\n",
        "\n",
        "-\n",
        "\n",
        "-\n",
        "\n",
        "f1(10,20)\n",
        "\n",
        "a, b are formal arguments where as 10,20 are actual arguments.\n",
        "\n",
        "There are 4 types are actual arguments are allowed in Python.\n",
        "\n",
        "Positional Arguments\n",
        "Keyword Arguments\n",
        "Default Arguments\n",
        "Variable length arguments\n",
        "\n",
        "**1. Positional Arguments**\n",
        "\n",
        "These are the arguments passed to function in correct positional order.\n",
        "\n",
        "def sub(a, b):\n",
        "\n",
        "print(a-b)\n",
        "\n",
        "sub(100, 200)\n",
        "\n",
        "sub(200, 100)\n",
        "\n",
        "The number of arguments and position of arguments must be matched. If we change the order then result may be changed.\n",
        "\n",
        "**2. Keyword Arguments:**\n",
        "\n",
        "We can pass argument values by keyword i.e by parameter name."
      ],
      "metadata": {
        "id": "PJRaK2bplUN0"
      }
    },
    {
      "cell_type": "code",
      "source": [
        "def wish(name,msg,place,type_of_statement):\n",
        "    print(\"Hello\",name,msg,place,type_of_statement)"
      ],
      "metadata": {
        "id": "Z2M3zJnclY_l"
      },
      "execution_count": 42,
      "outputs": []
    },
    {
      "cell_type": "code",
      "source": [
        "wish(name=\"satish\",msg=\"are you from\",place=\"Pune\",type_of_statement=\"?\")"
      ],
      "metadata": {
        "colab": {
          "base_uri": "https://localhost:8080/"
        },
        "id": "rmjk0lWym_gT",
        "outputId": "364f7ba3-e513-4453-a806-4e5aedd02989"
      },
      "execution_count": 43,
      "outputs": [
        {
          "output_type": "stream",
          "name": "stdout",
          "text": [
            "Hello satish are you from Pune ?\n"
          ]
        }
      ]
    },
    {
      "cell_type": "code",
      "source": [
        "#position changed. Still working\n",
        "\n",
        "wish(type_of_statement=\"?\",msg=\"are you from\",name=\"satish\",place=\"Pune\")"
      ],
      "metadata": {
        "colab": {
          "base_uri": "https://localhost:8080/"
        },
        "id": "GOUMximwn4BT",
        "outputId": "fe8de272-537c-456e-b5eb-13632216d7bb"
      },
      "execution_count": 44,
      "outputs": [
        {
          "output_type": "stream",
          "name": "stdout",
          "text": [
            "Hello satish are you from Pune ?\n"
          ]
        }
      ]
    },
    {
      "cell_type": "markdown",
      "source": [
        "#3. Default Arguments:\n",
        "Sometimes we can provide default values for our positional arguments."
      ],
      "metadata": {
        "id": "XVqawSJwoWSS"
      }
    },
    {
      "cell_type": "code",
      "source": [
        "def wish(name=\"Guest\"):\n",
        "    print(\"Hello\",name,\"Good Morning\")"
      ],
      "metadata": {
        "id": "twqmXPT1obRE"
      },
      "execution_count": 45,
      "outputs": []
    },
    {
      "cell_type": "code",
      "source": [
        "wish(\"satish\")"
      ],
      "metadata": {
        "colab": {
          "base_uri": "https://localhost:8080/"
        },
        "id": "0gq_yHzzod8a",
        "outputId": "8b9ede92-3092-4d4b-f302-c470e7fed08c"
      },
      "execution_count": 46,
      "outputs": [
        {
          "output_type": "stream",
          "name": "stdout",
          "text": [
            "Hello satish Good Morning\n"
          ]
        }
      ]
    },
    {
      "cell_type": "code",
      "source": [
        "wish()"
      ],
      "metadata": {
        "colab": {
          "base_uri": "https://localhost:8080/"
        },
        "id": "s35c7XXMoh0T",
        "outputId": "a4302d61-81a2-49b4-d0a0-1ac244511164"
      },
      "execution_count": 47,
      "outputs": [
        {
          "output_type": "stream",
          "name": "stdout",
          "text": [
            "Hello Guest Good Morning\n"
          ]
        }
      ]
    },
    {
      "cell_type": "markdown",
      "source": [
        "#4. Variable Length Arguments:\n",
        "\n",
        "Sometimes we can pass variable number of arguments to our function, such type of arguments are called variable length arguments.\n",
        "\n",
        "We can declare a variable length argument with * symbol as follows\n",
        "\n",
        "def f1(*n):\n",
        "\n",
        "We can call this function by passing any number of arguments including zero number.\n",
        "\n",
        "Internally all these values represented in the form of tuple"
      ],
      "metadata": {
        "id": "4gfeZ_YSok1c"
      }
    },
    {
      "cell_type": "code",
      "source": [
        "def sum(*n):\n",
        "    total=0\n",
        "    for n1 in n:\n",
        "      total=total+n1\n",
        "    print(\"The Sum=\",total)"
      ],
      "metadata": {
        "id": "8cjcjKltou4K"
      },
      "execution_count": 49,
      "outputs": []
    },
    {
      "cell_type": "code",
      "source": [
        "sum(0)"
      ],
      "metadata": {
        "colab": {
          "base_uri": "https://localhost:8080/"
        },
        "id": "bHlGiX-oo2HD",
        "outputId": "ff09b5b7-8ed9-44ce-c44c-6ceb6a08998e"
      },
      "execution_count": 50,
      "outputs": [
        {
          "output_type": "stream",
          "name": "stdout",
          "text": [
            "The Sum= 0\n"
          ]
        }
      ]
    },
    {
      "cell_type": "code",
      "source": [
        "sum(30,40)"
      ],
      "metadata": {
        "colab": {
          "base_uri": "https://localhost:8080/"
        },
        "id": "4oTuxNt2o6WC",
        "outputId": "b77f16f0-bbd2-476b-d2ce-723dfbed6fd5"
      },
      "execution_count": 51,
      "outputs": [
        {
          "output_type": "stream",
          "name": "stdout",
          "text": [
            "The Sum= 70\n"
          ]
        }
      ]
    },
    {
      "cell_type": "code",
      "source": [
        "sum(65,84,62,75)"
      ],
      "metadata": {
        "colab": {
          "base_uri": "https://localhost:8080/"
        },
        "id": "1nUwN2Hdo88c",
        "outputId": "4fe2d3e9-0e63-412b-830c-e5f65974aa2f"
      },
      "execution_count": 52,
      "outputs": [
        {
          "output_type": "stream",
          "name": "stdout",
          "text": [
            "The Sum= 286\n"
          ]
        }
      ]
    },
    {
      "cell_type": "code",
      "source": [
        "# We can mix variable length arguments with positional arguments.\n",
        "\n",
        "def f1(n1,*s):\n",
        "    print(n1)\n",
        "    for s1 in s:\n",
        "      print(s1)"
      ],
      "metadata": {
        "id": "alUIm9CzpC5w"
      },
      "execution_count": 53,
      "outputs": []
    },
    {
      "cell_type": "code",
      "source": [
        "f1(1)"
      ],
      "metadata": {
        "colab": {
          "base_uri": "https://localhost:8080/"
        },
        "id": "6MRfZmwupNFa",
        "outputId": "c7111435-9f0b-458d-9f64-4412a03dd9aa"
      },
      "execution_count": 54,
      "outputs": [
        {
          "output_type": "stream",
          "name": "stdout",
          "text": [
            "1\n"
          ]
        }
      ]
    },
    {
      "cell_type": "code",
      "source": [
        "f1(5,2,7,4,9,8)"
      ],
      "metadata": {
        "colab": {
          "base_uri": "https://localhost:8080/"
        },
        "id": "lSumEIaLpPLz",
        "outputId": "07849f1b-27b0-42a7-baa6-63b2e5332fc2"
      },
      "execution_count": 55,
      "outputs": [
        {
          "output_type": "stream",
          "name": "stdout",
          "text": [
            "5\n",
            "2\n",
            "7\n",
            "4\n",
            "9\n",
            "8\n"
          ]
        }
      ]
    },
    {
      "cell_type": "code",
      "source": [
        "f1('a','g','sd','t','h',5,2,7,9,10,51,84)"
      ],
      "metadata": {
        "colab": {
          "base_uri": "https://localhost:8080/"
        },
        "id": "ABwZIMEspSAq",
        "outputId": "533b6fef-f139-471e-e38d-b858402f815c"
      },
      "execution_count": 57,
      "outputs": [
        {
          "output_type": "stream",
          "name": "stdout",
          "text": [
            "a\n",
            "g\n",
            "sd\n",
            "t\n",
            "h\n",
            "5\n",
            "2\n",
            "7\n",
            "9\n",
            "10\n",
            "51\n",
            "84\n"
          ]
        }
      ]
    },
    {
      "cell_type": "markdown",
      "source": [
        "**Note: After variable length argument,if we are taking any other arguments then we should provide values as keyword arguments.**"
      ],
      "metadata": {
        "id": "TrsW2vBdpoeT"
      }
    },
    {
      "cell_type": "code",
      "source": [
        "def f1(*s,n1):\n",
        "    for s1 in s:\n",
        "      print(s1)\n",
        "    print(n1)\n",
        "\n",
        "f1(\"A\",\"B\",n1=10)"
      ],
      "metadata": {
        "colab": {
          "base_uri": "https://localhost:8080/"
        },
        "id": "5EZkxLRGprOL",
        "outputId": "9110da2f-4e7c-4721-a9b7-844536400c8e"
      },
      "execution_count": 58,
      "outputs": [
        {
          "output_type": "stream",
          "name": "stdout",
          "text": [
            "A\n",
            "B\n",
            "10\n"
          ]
        }
      ]
    },
    {
      "cell_type": "markdown",
      "source": [
        "**Note: We can declare key word variable length arguments also.**\n",
        "\n",
        "We can call this function by passing any number of keyword arguments. Internally these keyword arguments will be stored inside a dictionary."
      ],
      "metadata": {
        "id": "P3fG9qvSp0jD"
      }
    },
    {
      "cell_type": "code",
      "source": [
        "def display(**kwargs):\n",
        "    for k,v in kwargs.items():\n",
        "       print(k,\"=\",v)"
      ],
      "metadata": {
        "id": "cXksZ1yRp4yq"
      },
      "execution_count": 59,
      "outputs": []
    },
    {
      "cell_type": "code",
      "source": [
        "display(n1=10,n2=20,n3=30)"
      ],
      "metadata": {
        "colab": {
          "base_uri": "https://localhost:8080/"
        },
        "id": "mUpq8_fEp_u6",
        "outputId": "13249e63-75cc-4938-bf78-d10864f94e03"
      },
      "execution_count": 60,
      "outputs": [
        {
          "output_type": "stream",
          "name": "stdout",
          "text": [
            "n1 = 10\n",
            "n2 = 20\n",
            "n3 = 30\n"
          ]
        }
      ]
    },
    {
      "cell_type": "code",
      "source": [
        "display(rno=100,name=\"Vinayak\",marks=70,subject=\"Java\")"
      ],
      "metadata": {
        "colab": {
          "base_uri": "https://localhost:8080/"
        },
        "id": "mBSonL9uqSwU",
        "outputId": "bd49f107-8c56-4a2f-fb3b-75e1a1325e6f"
      },
      "execution_count": 61,
      "outputs": [
        {
          "output_type": "stream",
          "name": "stdout",
          "text": [
            "rno = 100\n",
            "name = Vinayak\n",
            "marks = 70\n",
            "subject = Java\n"
          ]
        }
      ]
    },
    {
      "cell_type": "markdown",
      "source": [
        "**Note: Function vs Module vs Library**\n",
        "\n",
        "A group of lines with some name is called a function\n",
        "\n",
        "A group of functions saved to a file, is called Module\n",
        "\n",
        "A group of Modules is nothing but Library"
      ],
      "metadata": {
        "id": "VUZrp1-0qeIc"
      }
    },
    {
      "cell_type": "markdown",
      "source": [
        "#Types of Variables\n",
        "\n",
        "Python supports 2 types of variables.\n",
        "\n",
        "1} Global Variables\n",
        "2} Local Variables"
      ],
      "metadata": {
        "id": "CYZ5Ddruqk5X"
      }
    },
    {
      "cell_type": "code",
      "source": [
        "a=10 # global variable(defined outside the function)\n",
        "def f1():\n",
        "   print(a)\n",
        "\n",
        "def f2():\n",
        "    print(a)\n",
        "\n",
        "f1()\n",
        "f2()"
      ],
      "metadata": {
        "colab": {
          "base_uri": "https://localhost:8080/"
        },
        "id": "XZUgZQC4qrQg",
        "outputId": "5720ce16-4cb8-4630-bee4-effd4e53d5ab"
      },
      "execution_count": 62,
      "outputs": [
        {
          "output_type": "stream",
          "name": "stdout",
          "text": [
            "10\n",
            "10\n"
          ]
        }
      ]
    },
    {
      "cell_type": "code",
      "source": [
        "f1()"
      ],
      "metadata": {
        "colab": {
          "base_uri": "https://localhost:8080/"
        },
        "id": "zNQBJOpHqyQQ",
        "outputId": "e5b3a3e4-a30c-4cc5-bfb7-39966049e3c8"
      },
      "execution_count": 67,
      "outputs": [
        {
          "output_type": "stream",
          "name": "stdout",
          "text": [
            "10\n"
          ]
        }
      ]
    },
    {
      "cell_type": "markdown",
      "source": [
        "**Local Variables:**\n",
        "\n",
        "The variables which are declared inside a function are called local variables.\n",
        "\n",
        "Local variables are available only for the function in which we declared it."
      ],
      "metadata": {
        "id": "t4KWwWlNrHgO"
      }
    },
    {
      "cell_type": "code",
      "source": [
        "def f1():\n",
        "    a=10\n",
        "    print(a) # valid"
      ],
      "metadata": {
        "id": "WNpqhNK-rTWd"
      },
      "execution_count": 68,
      "outputs": []
    },
    {
      "cell_type": "code",
      "source": [
        "f1()"
      ],
      "metadata": {
        "colab": {
          "base_uri": "https://localhost:8080/"
        },
        "id": "FveIPNOfrVdl",
        "outputId": "c8f0b24f-5da6-4480-b306-71d080785643"
      },
      "execution_count": 69,
      "outputs": [
        {
          "output_type": "stream",
          "name": "stdout",
          "text": [
            "10\n"
          ]
        }
      ]
    },
    {
      "cell_type": "code",
      "source": [
        "# We didn't\n",
        "def f22():\n",
        "  print(b) #invalid\n",
        "\n",
        "f22()"
      ],
      "metadata": {
        "colab": {
          "base_uri": "https://localhost:8080/",
          "height": 322
        },
        "id": "StXG2MiYrZ5s",
        "outputId": "2fe648f8-adfa-4c07-bd46-a442320d916d"
      },
      "execution_count": 73,
      "outputs": [
        {
          "output_type": "error",
          "ename": "NameError",
          "evalue": "ignored",
          "traceback": [
            "\u001b[0;31m---------------------------------------------------------------------------\u001b[0m",
            "\u001b[0;31mNameError\u001b[0m                                 Traceback (most recent call last)",
            "\u001b[0;32m<ipython-input-73-a5b13df2b38b>\u001b[0m in \u001b[0;36m<module>\u001b[0;34m()\u001b[0m\n\u001b[1;32m      3\u001b[0m   \u001b[0mprint\u001b[0m\u001b[0;34m(\u001b[0m\u001b[0mb\u001b[0m\u001b[0;34m)\u001b[0m \u001b[0;31m#invalid\u001b[0m\u001b[0;34m\u001b[0m\u001b[0;34m\u001b[0m\u001b[0m\n\u001b[1;32m      4\u001b[0m \u001b[0;34m\u001b[0m\u001b[0m\n\u001b[0;32m----> 5\u001b[0;31m \u001b[0mf22\u001b[0m\u001b[0;34m(\u001b[0m\u001b[0;34m)\u001b[0m\u001b[0;34m\u001b[0m\u001b[0;34m\u001b[0m\u001b[0m\n\u001b[0m",
            "\u001b[0;32m<ipython-input-73-a5b13df2b38b>\u001b[0m in \u001b[0;36mf22\u001b[0;34m()\u001b[0m\n\u001b[1;32m      1\u001b[0m \u001b[0;31m# We didn't\u001b[0m\u001b[0;34m\u001b[0m\u001b[0;34m\u001b[0m\u001b[0;34m\u001b[0m\u001b[0m\n\u001b[1;32m      2\u001b[0m \u001b[0;32mdef\u001b[0m \u001b[0mf22\u001b[0m\u001b[0;34m(\u001b[0m\u001b[0;34m)\u001b[0m\u001b[0;34m:\u001b[0m\u001b[0;34m\u001b[0m\u001b[0;34m\u001b[0m\u001b[0m\n\u001b[0;32m----> 3\u001b[0;31m   \u001b[0mprint\u001b[0m\u001b[0;34m(\u001b[0m\u001b[0mb\u001b[0m\u001b[0;34m)\u001b[0m \u001b[0;31m#invalid\u001b[0m\u001b[0;34m\u001b[0m\u001b[0;34m\u001b[0m\u001b[0m\n\u001b[0m\u001b[1;32m      4\u001b[0m \u001b[0;34m\u001b[0m\u001b[0m\n\u001b[1;32m      5\u001b[0m \u001b[0mf22\u001b[0m\u001b[0;34m(\u001b[0m\u001b[0;34m)\u001b[0m\u001b[0;34m\u001b[0m\u001b[0;34m\u001b[0m\u001b[0m\n",
            "\u001b[0;31mNameError\u001b[0m: name 'b' is not defined"
          ]
        }
      ]
    },
    {
      "cell_type": "code",
      "source": [
        "def f22():\n",
        "  b=22\n",
        "  print(b)\n",
        "\n",
        "f22()"
      ],
      "metadata": {
        "colab": {
          "base_uri": "https://localhost:8080/"
        },
        "id": "F3iDIJpgrpy0",
        "outputId": "262bbf23-031e-4555-dbb2-a60c52015ddd"
      },
      "execution_count": 75,
      "outputs": [
        {
          "output_type": "stream",
          "name": "stdout",
          "text": [
            "22\n"
          ]
        }
      ]
    },
    {
      "cell_type": "markdown",
      "source": [
        "**Note: If global variable and local variable having the same name then we can access global variable inside a function as follows**"
      ],
      "metadata": {
        "id": "pcx8Zc1Br2zm"
      }
    },
    {
      "cell_type": "code",
      "source": [
        "a = 10#Global Variable\n",
        "def f1():\n",
        "    a=777 # Local Variable\n",
        "    print(a)\n",
        "    print(globals()['a'])\n",
        "f1()"
      ],
      "metadata": {
        "colab": {
          "base_uri": "https://localhost:8080/"
        },
        "id": "M8ZsNZbTrzSI",
        "outputId": "5775a442-a54e-487c-fa20-1943f157dff9"
      },
      "execution_count": 76,
      "outputs": [
        {
          "output_type": "stream",
          "name": "stdout",
          "text": [
            "777\n",
            "10\n"
          ]
        }
      ]
    },
    {
      "cell_type": "markdown",
      "source": [
        "#Recursive Function:\n",
        "\n",
        "A function that calls itself is known as Recursive Function.\n",
        "\n",
        "Main advantages of recursive functions are:\n",
        "\n",
        "We can reduce length of the code and improves readability.\n",
        "We can solve complex problems very easily.\n",
        "E.g.\n",
        "\n",
        "factorial(3) = 3 * factorial(2)\n",
        "\n",
        "= 3 2 factorial(1)\n",
        "\n",
        "=321*factorial(0)\n",
        "\n",
        "=321*1\n",
        "\n",
        "=6\n",
        "\n",
        "factorial(n) = n * factorial(n-1)"
      ],
      "metadata": {
        "id": "w0lOL4OwsMbm"
      }
    },
    {
      "cell_type": "markdown",
      "source": [
        "**Write a Python Function to find Factorial of given Number with Recursion **"
      ],
      "metadata": {
        "id": "I7aDBnocsby2"
      }
    },
    {
      "cell_type": "code",
      "source": [
        "def factorial(n):\n",
        "    if n==0:\n",
        "      result=1\n",
        "    else:\n",
        "      result=n*factorial(n-1)\n",
        "    return result\n",
        "print(\"Factorial of 4 is:\",factorial(4))\n",
        "print(\"Factorial of 5 is:\",factorial(5))"
      ],
      "metadata": {
        "colab": {
          "base_uri": "https://localhost:8080/"
        },
        "id": "VmmzmGdysi17",
        "outputId": "c1b64324-bf5a-4230-dcf2-71de17c37be3"
      },
      "execution_count": 77,
      "outputs": [
        {
          "output_type": "stream",
          "name": "stdout",
          "text": [
            "Factorial of 4 is: 24\n",
            "Factorial of 5 is: 120\n"
          ]
        }
      ]
    },
    {
      "cell_type": "code",
      "source": [
        "print(\"Factorial of 8 is:\",factorial(8))"
      ],
      "metadata": {
        "colab": {
          "base_uri": "https://localhost:8080/"
        },
        "id": "CT3sfybjtiXm",
        "outputId": "8053426d-987a-4d2a-ec78-af515ab0f332"
      },
      "execution_count": 78,
      "outputs": [
        {
          "output_type": "stream",
          "name": "stdout",
          "text": [
            "Factorial of 8 is: 40320\n"
          ]
        }
      ]
    }
  ]
}