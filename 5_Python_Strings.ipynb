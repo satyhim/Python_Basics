{
  "nbformat": 4,
  "nbformat_minor": 0,
  "metadata": {
    "colab": {
      "name": "Copy of Untitled9.ipynb",
      "provenance": [],
      "authorship_tag": "ABX9TyN2aGj8fZFamBUn04RDz91/",
      "include_colab_link": true
    },
    "kernelspec": {
      "name": "python3",
      "display_name": "Python 3"
    },
    "language_info": {
      "name": "python"
    }
  },
  "cells": [
    {
      "cell_type": "markdown",
      "metadata": {
        "id": "view-in-github",
        "colab_type": "text"
      },
      "source": [
        "<a href=\"https://colab.research.google.com/github/satyhim/Python_Basics/blob/main/Session4_Strings.ipynb\" target=\"_parent\"><img src=\"https://colab.research.google.com/assets/colab-badge.svg\" alt=\"Open In Colab\"/></a>"
      ]
    },
    {
      "cell_type": "markdown",
      "source": [
        "#String\n",
        "Any sequence of characters within either single quotes or double quotes is considered as a String.\n",
        "\n",
        "We can define multi-line String literals by using triple single or double quotes.\n",
        "\n",
        "We can also use triple quotes to use single quotes or double quotes as symbol inside String literal"
      ],
      "metadata": {
        "id": "IuW9L2nti91y"
      }
    },
    {
      "cell_type": "code",
      "source": [
        "s= 'data science'\n",
        "s = \"data\"\n",
        "a = ''' This is a \"data science\" course'''"
      ],
      "metadata": {
        "id": "K0crXiOZjI0M"
      },
      "execution_count": null,
      "outputs": []
    },
    {
      "cell_type": "markdown",
      "source": [
        "#How to access characters of a string?\n",
        "We can access characters of a string by using the following ways.\n",
        "\n",
        "By using index\n",
        "By using slice operator"
      ],
      "metadata": {
        "id": "Ze4zjAdXjR2W"
      }
    },
    {
      "cell_type": "code",
      "source": [
        "# 1. accessing characters by using index\n",
        "s= \"satish muttalwad\"\n",
        "s[0]\n"
      ],
      "metadata": {
        "colab": {
          "base_uri": "https://localhost:8080/",
          "height": 35
        },
        "id": "D05VDee3jZ62",
        "outputId": "362fc576-5360-442b-df8c-27df9f8081c8"
      },
      "execution_count": null,
      "outputs": [
        {
          "output_type": "execute_result",
          "data": {
            "text/plain": [
              "'s'"
            ],
            "application/vnd.google.colaboratory.intrinsic+json": {
              "type": "string"
            }
          },
          "metadata": {},
          "execution_count": 1
        }
      ]
    },
    {
      "cell_type": "code",
      "source": [
        "s[-2]"
      ],
      "metadata": {
        "colab": {
          "base_uri": "https://localhost:8080/",
          "height": 35
        },
        "id": "FIOYO-nYjlxr",
        "outputId": "e51826a8-0465-4279-948f-b079d3ab1f9b"
      },
      "execution_count": null,
      "outputs": [
        {
          "output_type": "execute_result",
          "data": {
            "text/plain": [
              "'a'"
            ],
            "application/vnd.google.colaboratory.intrinsic+json": {
              "type": "string"
            }
          },
          "metadata": {},
          "execution_count": 2
        }
      ]
    },
    {
      "cell_type": "code",
      "source": [
        "# 2. Accessing characters by using slice operator\n",
        "#  Syntax: s[begin index : end index : step]\n",
        "s=\"Learning Python is very very easy!!!\"\n",
        "s[1:7:1]"
      ],
      "metadata": {
        "colab": {
          "base_uri": "https://localhost:8080/",
          "height": 35
        },
        "id": "ZMg-syAmjrO5",
        "outputId": "4751c5ec-6386-4861-8051-d87e2cc5b468"
      },
      "execution_count": null,
      "outputs": [
        {
          "output_type": "execute_result",
          "data": {
            "text/plain": [
              "'earnin'"
            ],
            "application/vnd.google.colaboratory.intrinsic+json": {
              "type": "string"
            }
          },
          "metadata": {},
          "execution_count": 3
        }
      ]
    },
    {
      "cell_type": "code",
      "source": [
        "s[::]"
      ],
      "metadata": {
        "colab": {
          "base_uri": "https://localhost:8080/",
          "height": 35
        },
        "id": "qNhKACCPjvsx",
        "outputId": "0e90682a-a9bc-4a3f-89e4-e1a7fe574b9d"
      },
      "execution_count": null,
      "outputs": [
        {
          "output_type": "execute_result",
          "data": {
            "text/plain": [
              "'Learning Python is very very easy!!!'"
            ],
            "application/vnd.google.colaboratory.intrinsic+json": {
              "type": "string"
            }
          },
          "metadata": {},
          "execution_count": 4
        }
      ]
    },
    {
      "cell_type": "code",
      "source": [
        "s[:]"
      ],
      "metadata": {
        "colab": {
          "base_uri": "https://localhost:8080/",
          "height": 35
        },
        "id": "gUXT5824jyD7",
        "outputId": "cf2fde8c-9063-489a-98d2-0858d0f7c6c9"
      },
      "execution_count": null,
      "outputs": [
        {
          "output_type": "execute_result",
          "data": {
            "text/plain": [
              "'Learning Python is very very easy!!!'"
            ],
            "application/vnd.google.colaboratory.intrinsic+json": {
              "type": "string"
            }
          },
          "metadata": {},
          "execution_count": 5
        }
      ]
    },
    {
      "cell_type": "code",
      "source": [
        "s[:::]"
      ],
      "metadata": {
        "colab": {
          "base_uri": "https://localhost:8080/",
          "height": 130
        },
        "id": "dm6WtPqqj0YE",
        "outputId": "142e3d87-ebda-4965-9040-330a43114e65"
      },
      "execution_count": null,
      "outputs": [
        {
          "output_type": "error",
          "ename": "SyntaxError",
          "evalue": "ignored",
          "traceback": [
            "\u001b[0;36m  File \u001b[0;32m\"<ipython-input-6-17a07be6f944>\"\u001b[0;36m, line \u001b[0;32m1\u001b[0m\n\u001b[0;31m    s[:::]\u001b[0m\n\u001b[0m        ^\u001b[0m\n\u001b[0;31mSyntaxError\u001b[0m\u001b[0;31m:\u001b[0m invalid syntax\n"
          ]
        }
      ]
    },
    {
      "cell_type": "markdown",
      "source": [
        "#IMP: To reverse the complete word or sentence-"
      ],
      "metadata": {
        "id": "c6-2yHBvj58Q"
      }
    },
    {
      "cell_type": "code",
      "source": [
        "s[::-1]"
      ],
      "metadata": {
        "colab": {
          "base_uri": "https://localhost:8080/",
          "height": 35
        },
        "id": "dqJmqeDokAut",
        "outputId": "eb1c42ae-c52a-4469-fcf7-8e83d282fe5a"
      },
      "execution_count": null,
      "outputs": [
        {
          "output_type": "execute_result",
          "data": {
            "text/plain": [
              "'!!!ysae yrev yrev si nohtyP gninraeL'"
            ],
            "application/vnd.google.colaboratory.intrinsic+json": {
              "type": "string"
            }
          },
          "metadata": {},
          "execution_count": 7
        }
      ]
    },
    {
      "cell_type": "code",
      "source": [
        "# Note: Slice operator never raises IndexError\n",
        "s[100:3:-1]"
      ],
      "metadata": {
        "colab": {
          "base_uri": "https://localhost:8080/",
          "height": 35
        },
        "id": "hfFlVrThkHkl",
        "outputId": "18e31374-be85-4d11-e4b8-6e9a8e3c6600"
      },
      "execution_count": null,
      "outputs": [
        {
          "output_type": "execute_result",
          "data": {
            "text/plain": [
              "'!!!ysae yrev yrev si nohtyP gnin'"
            ],
            "application/vnd.google.colaboratory.intrinsic+json": {
              "type": "string"
            }
          },
          "metadata": {},
          "execution_count": 8
        }
      ]
    },
    {
      "cell_type": "markdown",
      "source": [
        "**len() in-built function**"
      ],
      "metadata": {
        "id": "36rGyR-akLq1"
      }
    },
    {
      "cell_type": "code",
      "source": [
        "len(s)"
      ],
      "metadata": {
        "colab": {
          "base_uri": "https://localhost:8080/"
        },
        "id": "T2zybaGOkNkQ",
        "outputId": "a8b49638-edd3-41a8-f50c-45f0bd4c7e9a"
      },
      "execution_count": null,
      "outputs": [
        {
          "output_type": "execute_result",
          "data": {
            "text/plain": [
              "36"
            ]
          },
          "metadata": {},
          "execution_count": 9
        }
      ]
    },
    {
      "cell_type": "markdown",
      "source": [
        "**Q)Write a Program to access each Character of String in Forward and Backward Direction by using while Loop?**"
      ],
      "metadata": {
        "id": "OZsVYdRHkUln"
      }
    },
    {
      "cell_type": "code",
      "source": [
        "s=\"Learning Python is very easy!!!\"\n",
        "n=len(s)\n",
        "i=0\n",
        "print(\"Forwarddirection\")\n",
        "while i<n:\n",
        "  print(s[i],end='')\n",
        "  i+=1\n",
        "\n",
        "print(\"Backwarddirection\")\n",
        "i=-1\n",
        "while i >= -n:\n",
        "  print(s[i],end='')\n",
        "  i = i-1"
      ],
      "metadata": {
        "colab": {
          "base_uri": "https://localhost:8080/"
        },
        "id": "DYYiy2uMkXIf",
        "outputId": "3811c2b1-ab98-4bd8-f7d7-e315f26b91ae"
      },
      "execution_count": null,
      "outputs": [
        {
          "output_type": "stream",
          "name": "stdout",
          "text": [
            "Forwarddirection\n",
            "Learning Python is very easy!!!Backwarddirection\n",
            "!!!ysae yrev si nohtyP gninraeL"
          ]
        }
      ]
    },
    {
      "cell_type": "markdown",
      "source": [
        "#Checking Membership:\n",
        "We can check whether the character or string is the member of another string or not by using in and not in operators."
      ],
      "metadata": {
        "id": "iWydFtQalABm"
      }
    },
    {
      "cell_type": "code",
      "source": [
        "s = \"data\"\n",
        "'a' in s"
      ],
      "metadata": {
        "id": "blwg4DjzlEd-",
        "colab": {
          "base_uri": "https://localhost:8080/"
        },
        "outputId": "72376a09-decd-4cff-a343-5ec3c67d1da1"
      },
      "execution_count": 1,
      "outputs": [
        {
          "output_type": "execute_result",
          "data": {
            "text/plain": [
              "True"
            ]
          },
          "metadata": {},
          "execution_count": 1
        }
      ]
    },
    {
      "cell_type": "markdown",
      "source": [
        "#Comparison of Strings\n",
        "We can use comparison operators (<, <=, >, >=) and equality operators (==, !=) for strings."
      ],
      "metadata": {
        "id": "fNbw3GDbGfZI"
      }
    },
    {
      "cell_type": "code",
      "source": [
        "s1=input(\"Enter First String:\")\n",
        "s2=input(\"Enter second String:\")\n",
        "if s1==s2:\n",
        "  print(\"Both Strings Are Equal\")\n",
        "elif s1<s2:\n",
        "  print(\"First string is less than second string\")\n",
        "else:\n",
        "  print(\"second string is greater than first string\")"
      ],
      "metadata": {
        "colab": {
          "base_uri": "https://localhost:8080/"
        },
        "id": "nSxY1qAxGlWa",
        "outputId": "9baa7214-6684-4e30-8531-1481240f5aa1"
      },
      "execution_count": 6,
      "outputs": [
        {
          "output_type": "stream",
          "name": "stdout",
          "text": [
            "Enter First String:door\n",
            "Enter second String:door\n",
            "Both Strings Are Equal\n"
          ]
        }
      ]
    },
    {
      "cell_type": "code",
      "source": [
        "s1=input(\"Enter First String:\")\n",
        "s2=input(\"Enter second String:\")\n",
        "if s1==s2:\n",
        "  print(\"Both Strings Are Equal\")\n",
        "elif s1<s2:\n",
        "  print(\"First string is less than second string\")\n",
        "else:\n",
        "  print(\"second string is greater than first string\")"
      ],
      "metadata": {
        "colab": {
          "base_uri": "https://localhost:8080/"
        },
        "id": "RUAdIK67IBXM",
        "outputId": "eb7cc8bf-93a2-44f9-de45-a65ccea08c91"
      },
      "execution_count": 7,
      "outputs": [
        {
          "output_type": "stream",
          "name": "stdout",
          "text": [
            "Enter First String:data\n",
            "Enter second String:science\n",
            "First string is less than second string\n"
          ]
        }
      ]
    },
    {
      "cell_type": "code",
      "source": [
        "s1=input(\"Enter First String:\")\n",
        "s2=input(\"Enter second String:\")\n",
        "if s1==s2:\n",
        "  print(\"Both Strings Are Equal\")\n",
        "elif s1<s2:\n",
        "  print(\"First string is less than second string\")\n",
        "else:\n",
        "  print(\"First string is greater than second string\")"
      ],
      "metadata": {
        "colab": {
          "base_uri": "https://localhost:8080/"
        },
        "id": "W9vfJwNFIJmF",
        "outputId": "0a494287-fd1b-489b-eb99-41e42f8bd96d"
      },
      "execution_count": 11,
      "outputs": [
        {
          "output_type": "stream",
          "name": "stdout",
          "text": [
            "Enter First String:laptop\n",
            "Enter second String:keys\n",
            "First string is greater than second string\n"
          ]
        }
      ]
    },
    {
      "cell_type": "markdown",
      "source": [
        "Code from assignment:"
      ],
      "metadata": {
        "id": "YW20Pe_gIouM"
      }
    },
    {
      "cell_type": "code",
      "source": [
        "s1=input(\"Enter first string:\")\n",
        "s2=input(\"Enter Second string:\")\n",
        "if s1==s2:\n",
        "  print(\"Both strings are equal\")\n",
        "elif s1<s2:\n",
        "  print(\"First String is less than Second String\")\n",
        "else:\n",
        "  print(\"First String is greater than Second String\")"
      ],
      "metadata": {
        "colab": {
          "base_uri": "https://localhost:8080/"
        },
        "id": "iDCb42nbIsk0",
        "outputId": "e9548a26-5269-496f-bb81-0cda1936cdff"
      },
      "execution_count": 9,
      "outputs": [
        {
          "output_type": "stream",
          "name": "stdout",
          "text": [
            "Enter first string:science\n",
            "Enter Second string:data\n",
            "First String is greater than Second String\n"
          ]
        }
      ]
    },
    {
      "cell_type": "markdown",
      "source": [
        "#Removing Spaces from the String:\n",
        "1)rstrip()-->To remove spaces at right hand side.\n",
        "\n",
        "2) lstrip()--> To remove spaces at left hand side.\n",
        "\n",
        "3) strip()-->To remove spaces both sides."
      ],
      "metadata": {
        "id": "aNgnK3ouJLtO"
      }
    },
    {
      "cell_type": "code",
      "source": [
        "city=input(\"Enter your city name:\")\n",
        "scity=city.strip()\n",
        "if scity==\"Hyderabad\":\n",
        "  print(\"Hello Hyderbadi\")\n",
        "elif scity==\"Pune\":\n",
        "  print(\"Hello Pune\")\n",
        "elif scity==\"Nanded\":\n",
        "  print(\"Hello Nanded\")\n",
        "else:\n",
        "  print(\"Your city name is invalid\")\n"
      ],
      "metadata": {
        "colab": {
          "base_uri": "https://localhost:8080/"
        },
        "id": "JQqy8-veJXi8",
        "outputId": "7f99a0d2-e54d-4b79-b022-86e05c7526ef"
      },
      "execution_count": 12,
      "outputs": [
        {
          "output_type": "stream",
          "name": "stdout",
          "text": [
            "Enter your city name:nanded\n",
            "Your city name is invalid\n"
          ]
        }
      ]
    },
    {
      "cell_type": "code",
      "source": [
        "city=input(\"Enter your city name:\")\n",
        "scity=city.strip()\n",
        "if scity==\"Hyderabad\":\n",
        "  print(\"Hello Hyderbadi\")\n",
        "elif scity==\"Pune\":\n",
        "  print(\"Hello Pune\")\n",
        "elif scity==\"Nanded\":\n",
        "  print(\"Hello Nanded\")\n",
        "else:\n",
        "  print(\"Your city name is invalid\")"
      ],
      "metadata": {
        "colab": {
          "base_uri": "https://localhost:8080/"
        },
        "id": "YvLekMvjKYsD",
        "outputId": "85da5798-ed78-4929-e94f-9c25698e066e"
      },
      "execution_count": 13,
      "outputs": [
        {
          "output_type": "stream",
          "name": "stdout",
          "text": [
            "Enter your city name:Nanded\n",
            "Hello Nanded\n"
          ]
        }
      ]
    },
    {
      "cell_type": "code",
      "source": [
        "s='  satish  '\n",
        "s.strip()"
      ],
      "metadata": {
        "colab": {
          "base_uri": "https://localhost:8080/",
          "height": 35
        },
        "id": "e-wfQ-UuKe4U",
        "outputId": "723abe7f-2e63-4ab4-a7fa-01fdec60f18b"
      },
      "execution_count": 14,
      "outputs": [
        {
          "output_type": "execute_result",
          "data": {
            "text/plain": [
              "'satish'"
            ],
            "application/vnd.google.colaboratory.intrinsic+json": {
              "type": "string"
            }
          },
          "metadata": {},
          "execution_count": 14
        }
      ]
    },
    {
      "cell_type": "markdown",
      "source": [
        "#Finding Substrings:\n",
        "We can use the following 4 methods\n",
        "\n",
        "For forward direction:\n",
        "\n",
        "1) find()\n",
        "\n",
        "2) index()\n",
        "\n",
        "For backward direction:\n",
        "\n",
        "1) rfind()\n",
        "\n",
        "2) rindex()\n"
      ],
      "metadata": {
        "id": "00zYt14dKoV0"
      }
    },
    {
      "cell_type": "code",
      "source": [
        "# 1) find(): Returns index of first occurrence of the given substring. If it is not available then we will get -1.\n",
        "s=\"data\"\n",
        "s.find(\"data\") "
      ],
      "metadata": {
        "colab": {
          "base_uri": "https://localhost:8080/"
        },
        "id": "GnflJIu9Kwkb",
        "outputId": "1c6149a2-7c42-4ea5-9aaf-21da30ac18c5"
      },
      "execution_count": 15,
      "outputs": [
        {
          "output_type": "execute_result",
          "data": {
            "text/plain": [
              "0"
            ]
          },
          "metadata": {},
          "execution_count": 15
        }
      ]
    },
    {
      "cell_type": "code",
      "source": [
        "s.find('a')"
      ],
      "metadata": {
        "colab": {
          "base_uri": "https://localhost:8080/"
        },
        "id": "s7HFOkf3K63z",
        "outputId": "fa149eae-bad5-4c5e-ade0-4588e753108f"
      },
      "execution_count": 17,
      "outputs": [
        {
          "output_type": "execute_result",
          "data": {
            "text/plain": [
              "1"
            ]
          },
          "metadata": {},
          "execution_count": 17
        }
      ]
    },
    {
      "cell_type": "code",
      "source": [
        "# syntax: s.find(substring,bEgin,end)\n",
        "s.find(\"a\",4,4)"
      ],
      "metadata": {
        "colab": {
          "base_uri": "https://localhost:8080/"
        },
        "id": "euK6Q0pnLCZ2",
        "outputId": "9caac300-cb95-4469-8691-1c5d3fa0d7dc"
      },
      "execution_count": 21,
      "outputs": [
        {
          "output_type": "execute_result",
          "data": {
            "text/plain": [
              "-1"
            ]
          },
          "metadata": {},
          "execution_count": 21
        }
      ]
    },
    {
      "cell_type": "markdown",
      "source": [
        "# 2)index()\n",
        "index() method is exactly same as find() method except that if the specified substring is not available then we will get ValueError."
      ],
      "metadata": {
        "id": "e9OU6fqGLebO"
      }
    },
    {
      "cell_type": "code",
      "source": [
        "# we will get a error if the substring is not available\n",
        "s.index('n')"
      ],
      "metadata": {
        "colab": {
          "base_uri": "https://localhost:8080/",
          "height": 182
        },
        "id": "bQYQXnjHLop2",
        "outputId": "a62c1e33-8941-44ca-c43f-aa409543a2ed"
      },
      "execution_count": 22,
      "outputs": [
        {
          "output_type": "error",
          "ename": "ValueError",
          "evalue": "ignored",
          "traceback": [
            "\u001b[0;31m---------------------------------------------------------------------------\u001b[0m",
            "\u001b[0;31mValueError\u001b[0m                                Traceback (most recent call last)",
            "\u001b[0;32m<ipython-input-22-54600f4212df>\u001b[0m in \u001b[0;36m<module>\u001b[0;34m()\u001b[0m\n\u001b[1;32m      1\u001b[0m \u001b[0;31m# we will get a error if the substring is not available\u001b[0m\u001b[0;34m\u001b[0m\u001b[0;34m\u001b[0m\u001b[0;34m\u001b[0m\u001b[0m\n\u001b[0;32m----> 2\u001b[0;31m \u001b[0ms\u001b[0m\u001b[0;34m.\u001b[0m\u001b[0mindex\u001b[0m\u001b[0;34m(\u001b[0m\u001b[0;34m'n'\u001b[0m\u001b[0;34m)\u001b[0m\u001b[0;34m\u001b[0m\u001b[0;34m\u001b[0m\u001b[0m\n\u001b[0m",
            "\u001b[0;31mValueError\u001b[0m: substring not found"
          ]
        }
      ]
    },
    {
      "cell_type": "code",
      "source": [
        "s.index('a')"
      ],
      "metadata": {
        "colab": {
          "base_uri": "https://localhost:8080/"
        },
        "id": "3sA4-WqULsvt",
        "outputId": "da144111-ba1e-4f89-a0e6-e344a38b8eda"
      },
      "execution_count": 24,
      "outputs": [
        {
          "output_type": "execute_result",
          "data": {
            "text/plain": [
              "1"
            ]
          },
          "metadata": {},
          "execution_count": 24
        }
      ]
    },
    {
      "cell_type": "markdown",
      "source": [
        "Q) Program to display all Positions of Substring in a given Main String"
      ],
      "metadata": {
        "id": "SdclW1-QLzOu"
      }
    },
    {
      "cell_type": "code",
      "source": [
        "s=input(\"Entermainstring:\")\n",
        "subs=input(\"Entersubstring:\")\n",
        "flag=False\n",
        "pos=-1\n",
        "n=len(s)\n",
        "while True:\n",
        "  pos=s.find(subs,pos+1,n)\n",
        "  if pos==-1:\n",
        "    break\n",
        "  print(\"Found at position\",pos)\n",
        "  flag=True\n",
        "if flag==False:\n",
        "  print(\"Not Found\")"
      ],
      "metadata": {
        "id": "u2l9aoLVMOD1",
        "outputId": "81915ab4-d116-4b5c-a5ea-31153a2ff403",
        "colab": {
          "base_uri": "https://localhost:8080/"
        }
      },
      "execution_count": 26,
      "outputs": [
        {
          "output_type": "stream",
          "name": "stdout",
          "text": [
            "Entermainstring:asdasdasdasd\n",
            "Entersubstring:s\n",
            "Found at position 1\n",
            "Found at position 4\n",
            "Found at position 7\n",
            "Found at position 10\n"
          ]
        }
      ]
    },
    {
      "cell_type": "code",
      "source": [
        "s=input(\"Entermainstring:\")\n",
        "subs=input(\"Entersubstring:\")\n",
        "flag=False\n",
        "pos=-1\n",
        "n=len(s)\n",
        "while True:\n",
        "  pos=s.find(subs,pos+1,n)\n",
        "  if pos==-1:\n",
        "    break\n",
        "  print(\"Found at position\",pos)\n",
        "  flag=True\n",
        "if flag==False:\n",
        "  print(\"Not Found\")"
      ],
      "metadata": {
        "id": "Pn1kwwx4NCto",
        "outputId": "6810f501-5dd9-45cd-95f6-4eb90dd03bff",
        "colab": {
          "base_uri": "https://localhost:8080/"
        }
      },
      "execution_count": 27,
      "outputs": [
        {
          "output_type": "stream",
          "name": "stdout",
          "text": [
            "Entermainstring:dfdfdf\n",
            "Entersubstring:g\n",
            "Not Found\n"
          ]
        }
      ]
    },
    {
      "cell_type": "markdown",
      "source": [
        "#Count substring in the given String:\n",
        "We can find the number of occurrences of substring present in the given string by using count() method.\n",
        "\n",
        "s.count(substring)-->It will search through out the string.\n",
        "\n",
        "s.count(substring, bEgin, end)-->It will search from bEgin index to end-1 index."
      ],
      "metadata": {
        "id": "BzVXpAz3NIp-"
      }
    },
    {
      "cell_type": "code",
      "source": [
        "s='adfadfadfadffff'\n",
        "s.count('f')"
      ],
      "metadata": {
        "id": "gMzsgvdkNSAm",
        "outputId": "879440e8-0f1a-4b44-9bf9-4b9eb0a9caa1",
        "colab": {
          "base_uri": "https://localhost:8080/"
        }
      },
      "execution_count": 28,
      "outputs": [
        {
          "output_type": "execute_result",
          "data": {
            "text/plain": [
              "7"
            ]
          },
          "metadata": {},
          "execution_count": 28
        }
      ]
    },
    {
      "cell_type": "markdown",
      "source": [
        "#Replacing a String with another String:\n",
        "s.replace(oldstring, newstring)\n",
        "\n",
        "Inside s, every occurrence of old String will be replaced with new String."
      ],
      "metadata": {
        "id": "_Zn-9smkNahH"
      }
    },
    {
      "cell_type": "code",
      "source": [
        "s=('Becoming a data scientist is not easy without Rajesh')\n",
        "s1=s.replace('not','')\n",
        "s2=s1.replace('easy','diffcult')\n",
        "print(s2)"
      ],
      "metadata": {
        "id": "wOlg50HjNjEu",
        "outputId": "a0b95a67-8f1f-41a9-dc74-41814d625e01",
        "colab": {
          "base_uri": "https://localhost:8080/"
        }
      },
      "execution_count": 34,
      "outputs": [
        {
          "output_type": "stream",
          "name": "stdout",
          "text": [
            "Becoming a data scientist is  diffcult without Rajesh\n"
          ]
        }
      ]
    },
    {
      "cell_type": "code",
      "source": [
        ""
      ],
      "metadata": {
        "id": "ZP_G_l_GOHTL"
      },
      "execution_count": null,
      "outputs": []
    },
    {
      "cell_type": "markdown",
      "source": [
        "#Splitting of Strings:\n",
        "We can split the given string according to specified seperator by using split() method.\n",
        "\n",
        "Syntax: l = s.split(seperator)"
      ],
      "metadata": {
        "id": "HM7nPwqlOnHJ"
      }
    },
    {
      "cell_type": "code",
      "source": [
        "s=\"22-02-2018\"\n",
        "l=s.split('-')\n",
        "for x in l:\n",
        "  print(x)"
      ],
      "metadata": {
        "id": "RGxZ1V6wOuPq",
        "outputId": "c9b04c64-a8b5-4124-8b1c-8f75fa6eb69f",
        "colab": {
          "base_uri": "https://localhost:8080/"
        }
      },
      "execution_count": 35,
      "outputs": [
        {
          "output_type": "stream",
          "name": "stdout",
          "text": [
            "22\n",
            "02\n",
            "2018\n"
          ]
        }
      ]
    },
    {
      "cell_type": "code",
      "source": [
        "l"
      ],
      "metadata": {
        "id": "VTszEit3O1PM",
        "outputId": "fa67bacb-009e-49b6-83a6-daa1669973b4",
        "colab": {
          "base_uri": "https://localhost:8080/"
        }
      },
      "execution_count": 36,
      "outputs": [
        {
          "output_type": "execute_result",
          "data": {
            "text/plain": [
              "['22', '02', '2018']"
            ]
          },
          "metadata": {},
          "execution_count": 36
        }
      ]
    },
    {
      "cell_type": "markdown",
      "source": [
        "#Joining Of Strings:\n",
        "s = seperator.join(group of strings)"
      ],
      "metadata": {
        "id": "2H76chY1O3vv"
      }
    },
    {
      "cell_type": "code",
      "source": [
        "list1= [\"data\",\"science\",\"ai\"]\n",
        "\"-\".join(list1)"
      ],
      "metadata": {
        "id": "Ab4OFgbtO9Hf",
        "outputId": "7dfe9df7-222e-472a-af4b-1f77976e1f33",
        "colab": {
          "base_uri": "https://localhost:8080/",
          "height": 35
        }
      },
      "execution_count": 37,
      "outputs": [
        {
          "output_type": "execute_result",
          "data": {
            "text/plain": [
              "'data-science-ai'"
            ],
            "application/vnd.google.colaboratory.intrinsic+json": {
              "type": "string"
            }
          },
          "metadata": {},
          "execution_count": 37
        }
      ]
    },
    {
      "cell_type": "markdown",
      "source": [
        "#Changing the case of a string:\n",
        "upper()-->To convert all characters to upper case.\n",
        "\n",
        "lower()-->To convert all characters to lower case.\n",
        "\n",
        "swapcase() --> Converts all lower case characters to upper case and all upper case characters to lower case\n",
        "\n",
        "title() --> To convert all character to title case. i.e first character in every word should be upper case and all remaining characters should be in lower case.\n",
        "\n",
        "capitalize() --> Only first character will be converted to upper case and all remaining characters can be converted to lower case."
      ],
      "metadata": {
        "id": "Sluw4qPdPCLc"
      }
    },
    {
      "cell_type": "code",
      "source": [
        "s='learning Python is very Easy'\n",
        "print(s.upper())\n",
        "print(s.lower())\n",
        "print(s.swapcase())\n",
        "print(s.title())\n",
        "print(s.capitalize())"
      ],
      "metadata": {
        "id": "QVMrBiFGPILC",
        "outputId": "434810f1-edd2-4628-fac3-49e781d70225",
        "colab": {
          "base_uri": "https://localhost:8080/"
        }
      },
      "execution_count": 38,
      "outputs": [
        {
          "output_type": "stream",
          "name": "stdout",
          "text": [
            "LEARNING PYTHON IS VERY EASY\n",
            "learning python is very easy\n",
            "LEARNING pYTHON IS VERY eASY\n",
            "Learning Python Is Very Easy\n",
            "Learning python is very easy\n"
          ]
        }
      ]
    },
    {
      "cell_type": "markdown",
      "source": [
        "#Checking Starting and Ending Part of the String:\n",
        "Python contains the following methods for this purpose.\n",
        "\n",
        "s.startswith(substring)\n",
        "\n",
        "s.endswith(substring)"
      ],
      "metadata": {
        "id": "UcG6Esq3TPaQ"
      }
    },
    {
      "cell_type": "code",
      "source": [
        "s='learningPythonisveryeasy'\n",
        "print(s.startswith('learning'))\n",
        "print(s.endswith('learning'))\n",
        "print(s.endswith('easy'))"
      ],
      "metadata": {
        "id": "5etyQjPBTTRt",
        "outputId": "eb26811a-913d-4cab-8e38-2b7ddf9b9aaf",
        "colab": {
          "base_uri": "https://localhost:8080/"
        }
      },
      "execution_count": 39,
      "outputs": [
        {
          "output_type": "stream",
          "name": "stdout",
          "text": [
            "True\n",
            "False\n",
            "True\n"
          ]
        }
      ]
    },
    {
      "cell_type": "markdown",
      "source": [
        "#To Check Type of Characters Present in a String:\n",
        "Python contains the following methods for this purpose.\n",
        "\n",
        "isalnum(): Returns True if all characters are alphanumeric( a to z , A to Z ,0 to9 ).\n",
        "\n",
        "isalpha(): Returns True if all characters are only alphabet symbols(a to z,A to Z)\n",
        "\n",
        "isdigit(): Returns True if all characters are digits only( 0 to 9)\n",
        "\n",
        "islower(): Returns True if all characters are lower case alphabet symbols\n",
        "\n",
        "isupper(): Returns True if all characters are upper case aplhabet symbols\n",
        "\n",
        "istitle(): Returns True if string is in title case\n",
        "\n",
        "isspace(): Returns True if string contains only spaces"
      ],
      "metadata": {
        "id": "A-u9-k3oTZi_"
      }
    },
    {
      "cell_type": "code",
      "source": [
        "print('pune412207'.isalnum())"
      ],
      "metadata": {
        "id": "maUwm7MtTipK",
        "outputId": "876848bd-8787-4984-d497-0a809f398899",
        "colab": {
          "base_uri": "https://localhost:8080/"
        }
      },
      "execution_count": 40,
      "outputs": [
        {
          "output_type": "stream",
          "name": "stdout",
          "text": [
            "True\n"
          ]
        }
      ]
    },
    {
      "cell_type": "code",
      "source": [
        "print('abcdef'.islower())"
      ],
      "metadata": {
        "id": "nQu7PJMHToL2",
        "outputId": "b456364c-088e-4dce-82c8-b8ab580cc763",
        "colab": {
          "base_uri": "https://localhost:8080/"
        }
      },
      "execution_count": 41,
      "outputs": [
        {
          "output_type": "stream",
          "name": "stdout",
          "text": [
            "True\n"
          ]
        }
      ]
    },
    {
      "cell_type": "code",
      "source": [
        "print('Learning Python Is Easy'.istitle())"
      ],
      "metadata": {
        "id": "JDTaDFCkT1_2",
        "outputId": "d897e6c6-3396-4189-8318-2608cb4a4874",
        "colab": {
          "base_uri": "https://localhost:8080/"
        }
      },
      "execution_count": 42,
      "outputs": [
        {
          "output_type": "stream",
          "name": "stdout",
          "text": [
            "True\n"
          ]
        }
      ]
    },
    {
      "cell_type": "markdown",
      "source": [
        "#Formatting the Strings:\n",
        "We can format the strings with variable values by using replacement operator {} and format() method."
      ],
      "metadata": {
        "id": "TOUiDH0nT5PH"
      }
    },
    {
      "cell_type": "code",
      "source": [
        "name='satish'\n",
        "salary=10000\n",
        "age=30\n",
        "print(\"{}'s salary is {} and his age is{}\".format(name,salary,age))\n",
        "print(\"{0}'s salary is {1} and his age is {2}\".format(name,salary,age))\n",
        "print(\"{x}'s salary is {y} and his age is {z}\".format(z=age,y=salary,x=name))"
      ],
      "metadata": {
        "id": "_HEP8oIcT88A",
        "outputId": "269219ba-d65c-47ac-8a91-73b6dcc7e3e6",
        "colab": {
          "base_uri": "https://localhost:8080/"
        }
      },
      "execution_count": 43,
      "outputs": [
        {
          "output_type": "stream",
          "name": "stdout",
          "text": [
            "satish's salary is 10000 and his age is30\n",
            "satish's salary is 10000 and his age is 30\n",
            "satish's salary is 10000 and his age is 30\n"
          ]
        }
      ]
    },
    {
      "cell_type": "markdown",
      "source": [
        "#Q1) Write a Program to Reverse the given String"
      ],
      "metadata": {
        "id": "-GtYEB7IULNC"
      }
    },
    {
      "cell_type": "code",
      "source": [
        "s=input(\"EnterSomeString:\")\n",
        "print(s[::-1])"
      ],
      "metadata": {
        "id": "ZRcAIboEUNFd",
        "outputId": "83717665-fc1a-47a6-d60f-dc854a31d874",
        "colab": {
          "base_uri": "https://localhost:8080/"
        }
      },
      "execution_count": 44,
      "outputs": [
        {
          "output_type": "stream",
          "name": "stdout",
          "text": [
            "EnterSomeString:wagholi\n",
            "ilohgaw\n"
          ]
        }
      ]
    },
    {
      "cell_type": "code",
      "source": [
        "s= 'satish'\n",
        "''.join(reversed(s))"
      ],
      "metadata": {
        "id": "OlZ_VjC1UTKu",
        "outputId": "11cfe169-b93b-4715-ebfb-3e0d3a460571",
        "colab": {
          "base_uri": "https://localhost:8080/",
          "height": 35
        }
      },
      "execution_count": 45,
      "outputs": [
        {
          "output_type": "execute_result",
          "data": {
            "text/plain": [
              "'hsitas'"
            ],
            "application/vnd.google.colaboratory.intrinsic+json": {
              "type": "string"
            }
          },
          "metadata": {},
          "execution_count": 45
        }
      ]
    },
    {
      "cell_type": "markdown",
      "source": [
        "#Q2) Program to Reverse Order of Words\n",
        "**Input**: Learning Python is very Easy\n",
        "\n",
        "**Output**: Easy Very is Python Learning"
      ],
      "metadata": {
        "id": "eBF2iAsSUZX4"
      }
    },
    {
      "cell_type": "code",
      "source": [
        "s='Learning Python is very Easy'\n",
        "l=s.split()\n",
        "l1=[]\n",
        "i=len(l)-1\n",
        "while i>=0:\n",
        "  l1.append(l[i])\n",
        "  i=i-1\n",
        "output=' '.join(l1)\n",
        "print(output)"
      ],
      "metadata": {
        "id": "U7-rxoAcUem-",
        "outputId": "ba4ad4f5-1861-4805-8b98-36567ddf4b88",
        "colab": {
          "base_uri": "https://localhost:8080/"
        }
      },
      "execution_count": 46,
      "outputs": [
        {
          "output_type": "stream",
          "name": "stdout",
          "text": [
            "Easy very is Python Learning\n"
          ]
        }
      ]
    },
    {
      "cell_type": "markdown",
      "source": [
        "#Q3) Write a Program to Remove Duplicate Characters from the given Input String?\n",
        "**Input**: ABCDABBCDABBBCCCDDEEEF\n",
        "\n",
        "**Output**: ABCDEF"
      ],
      "metadata": {
        "id": "XSwn8HcRUiL1"
      }
    },
    {
      "cell_type": "code",
      "source": [
        "s=input(\"EnterSomeString:\")\n",
        "l=[]\n",
        "for x in s:\n",
        "  if x not in l:\n",
        "     l.append(x)\n",
        "output=''.join(l)\n",
        "print(output)"
      ],
      "metadata": {
        "id": "mMZZomQxUmAG",
        "outputId": "625e6a3f-a4f0-4bfd-8ffb-f2147e3175fd",
        "colab": {
          "base_uri": "https://localhost:8080/"
        }
      },
      "execution_count": 48,
      "outputs": [
        {
          "output_type": "stream",
          "name": "stdout",
          "text": [
            "EnterSomeString:dhjgjghk\n",
            "dhjgk\n"
          ]
        }
      ]
    },
    {
      "cell_type": "markdown",
      "source": [
        "#Q4) Write a Program to find the Number of Occurrences of each Character present in the given String?\n",
        "**Input**: ABCABCABBCDE\n",
        "\n",
        "**Output**: A-3,B-4,C-3,D-1,E-1"
      ],
      "metadata": {
        "id": "EHUdWKOTUvou"
      }
    },
    {
      "cell_type": "code",
      "source": [
        "s=input(\"Enter Some String:\")\n",
        "d={}\n",
        "for x in s:\n",
        "  if x in d.keys():\n",
        "     d[x]=d[x]+1\n",
        "  else:\n",
        "     d[x]=1\n",
        "for k,v in d.items():\n",
        "   print(\"{} = {} Times\".format(k,v))"
      ],
      "metadata": {
        "id": "DWNvsI1bUyu3",
        "outputId": "fa06680e-04cf-492f-e57d-c615146653e8",
        "colab": {
          "base_uri": "https://localhost:8080/"
        }
      },
      "execution_count": 49,
      "outputs": [
        {
          "output_type": "stream",
          "name": "stdout",
          "text": [
            "Enter Some String:himayatnagar\n",
            "h = 1 Times\n",
            "i = 1 Times\n",
            "m = 1 Times\n",
            "a = 4 Times\n",
            "y = 1 Times\n",
            "t = 1 Times\n",
            "n = 1 Times\n",
            "g = 1 Times\n",
            "r = 1 Times\n"
          ]
        }
      ]
    },
    {
      "cell_type": "code",
      "source": [
        "s=\"aaasssddd\"\n",
        "d={}\n",
        "for x in s:\n",
        "  if x in d.keys():\n",
        "     d[x]=d[x]+1\n",
        "  else:\n",
        "     d[x]=1"
      ],
      "metadata": {
        "id": "U0PtKKwaU69_"
      },
      "execution_count": 50,
      "outputs": []
    },
    {
      "cell_type": "code",
      "source": [
        "d"
      ],
      "metadata": {
        "id": "D7hoqvFvU_A3",
        "outputId": "258692c2-d829-48fb-889b-3f6118118d31",
        "colab": {
          "base_uri": "https://localhost:8080/"
        }
      },
      "execution_count": 51,
      "outputs": [
        {
          "output_type": "execute_result",
          "data": {
            "text/plain": [
              "{'a': 3, 'd': 3, 's': 3}"
            ]
          },
          "metadata": {},
          "execution_count": 51
        }
      ]
    }
  ]
}
