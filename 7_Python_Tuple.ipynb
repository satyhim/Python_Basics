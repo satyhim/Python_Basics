{
  "nbformat": 4,
  "nbformat_minor": 0,
  "metadata": {
    "colab": {
      "name": "Copy of Untitled12.ipynb",
      "provenance": [],
      "collapsed_sections": [],
      "authorship_tag": "ABX9TyPLxV0J7VDA2lQQqWK3F4no",
      "include_colab_link": true
    },
    "kernelspec": {
      "name": "python3",
      "display_name": "Python 3"
    },
    "language_info": {
      "name": "python"
    }
  },
  "cells": [
    {
      "cell_type": "markdown",
      "metadata": {
        "id": "view-in-github",
        "colab_type": "text"
      },
      "source": [
        "<a href=\"https://colab.research.google.com/github/satyhim/Python_Basics/blob/main/7_Python_Tuple.ipynb\" target=\"_parent\"><img src=\"https://colab.research.google.com/assets/colab-badge.svg\" alt=\"Open In Colab\"/></a>"
      ]
    },
    {
      "cell_type": "markdown",
      "source": [
        "#Tuple\n",
        "Tuple is exactly same as List except that it is immutable. i.e once we creates Tuple object, we cannot perform any changes in that object. Hence Tuple is Read only version of List.\n",
        "\n",
        "If our data is fixed and never changes then we should go for Tuple.\n",
        "Insertion Order is preserved Duplicates are allowed Heterogeneous objects are allowed.\n",
        "\n",
        "We can preserve insertion order and we can differentiate duplicate objects by using index. Hence index will play very important role in Tuple also.\n",
        "\n",
        "Tuple support both +ve and -ve index. +ve index means forward direction (from left to right) and -ve index means backward direction (from right to left)\n",
        "We can represent Tuple elements within Parenthesis and with comma seperator."
      ],
      "metadata": {
        "id": "p5tXBKvfiJqP"
      }
    },
    {
      "cell_type": "code",
      "source": [
        "#parenthesis are optional\n",
        "t=10,20,30,40\n",
        "print(t)\n",
        "print(type(t))"
      ],
      "metadata": {
        "colab": {
          "base_uri": "https://localhost:8080/"
        },
        "id": "mDoR07gplWTl",
        "outputId": "4877c467-e1f5-4578-d85b-8d78d1704003"
      },
      "execution_count": null,
      "outputs": [
        {
          "output_type": "stream",
          "name": "stdout",
          "text": [
            "(10, 20, 30, 40)\n",
            "<class 'tuple'>\n"
          ]
        }
      ]
    },
    {
      "cell_type": "code",
      "source": [
        "#Accessing Elements of Tuple:\n",
        "We can access either by index or by slice operator"
      ],
      "metadata": {
        "id": "AcYEyUfhlgOV"
      },
      "execution_count": null,
      "outputs": []
    },
    {
      "cell_type": "code",
      "source": [
        "#By using Index:\n",
        "t=(10,20,30,40,50,60)\n",
        "print(t[1])\n",
        "print(t[-2])\n",
        "print(t[10])"
      ],
      "metadata": {
        "colab": {
          "base_uri": "https://localhost:8080/",
          "height": 234
        },
        "id": "xIv0hVnplnQ9",
        "outputId": "74e3988e-c92c-481a-8132-d6e54bfcda34"
      },
      "execution_count": null,
      "outputs": [
        {
          "output_type": "stream",
          "name": "stdout",
          "text": [
            "20\n",
            "50\n"
          ]
        },
        {
          "output_type": "error",
          "ename": "IndexError",
          "evalue": "ignored",
          "traceback": [
            "\u001b[0;31m---------------------------------------------------------------------------\u001b[0m",
            "\u001b[0;31mIndexError\u001b[0m                                Traceback (most recent call last)",
            "\u001b[0;32m<ipython-input-2-dc50ac4ddb51>\u001b[0m in \u001b[0;36m<module>\u001b[0;34m()\u001b[0m\n\u001b[1;32m      3\u001b[0m \u001b[0mprint\u001b[0m\u001b[0;34m(\u001b[0m\u001b[0mt\u001b[0m\u001b[0;34m[\u001b[0m\u001b[0;36m1\u001b[0m\u001b[0;34m]\u001b[0m\u001b[0;34m)\u001b[0m\u001b[0;34m\u001b[0m\u001b[0;34m\u001b[0m\u001b[0m\n\u001b[1;32m      4\u001b[0m \u001b[0mprint\u001b[0m\u001b[0;34m(\u001b[0m\u001b[0mt\u001b[0m\u001b[0;34m[\u001b[0m\u001b[0;34m-\u001b[0m\u001b[0;36m2\u001b[0m\u001b[0;34m]\u001b[0m\u001b[0;34m)\u001b[0m\u001b[0;34m\u001b[0m\u001b[0;34m\u001b[0m\u001b[0m\n\u001b[0;32m----> 5\u001b[0;31m \u001b[0mprint\u001b[0m\u001b[0;34m(\u001b[0m\u001b[0mt\u001b[0m\u001b[0;34m[\u001b[0m\u001b[0;36m10\u001b[0m\u001b[0;34m]\u001b[0m\u001b[0;34m)\u001b[0m\u001b[0;34m\u001b[0m\u001b[0;34m\u001b[0m\u001b[0m\n\u001b[0m",
            "\u001b[0;31mIndexError\u001b[0m: tuple index out of range"
          ]
        }
      ]
    },
    {
      "cell_type": "code",
      "source": [
        "# By using Slice Operator:\n",
        "t=(10,20,30,40,50,60)\n",
        "print(t[2:5])\n",
        "print(t[2:100])\n",
        "print(t[::2])"
      ],
      "metadata": {
        "colab": {
          "base_uri": "https://localhost:8080/"
        },
        "id": "saboYeDvltx2",
        "outputId": "69545d96-f3a5-4835-aacb-c225321f5465"
      },
      "execution_count": null,
      "outputs": [
        {
          "output_type": "stream",
          "name": "stdout",
          "text": [
            "(30, 40, 50)\n",
            "(30, 40, 50, 60)\n",
            "(10, 30, 50)\n"
          ]
        }
      ]
    },
    {
      "cell_type": "markdown",
      "source": [
        "#Tuple vs Immutability:\n",
        "Once we creates tuple, we cannot change its content. Hence tuple objects are immutable."
      ],
      "metadata": {
        "id": "KvNtuCpwl0uP"
      }
    },
    {
      "cell_type": "code",
      "source": [
        "t = (1,2,3)\n",
        "t[1]=0"
      ],
      "metadata": {
        "colab": {
          "base_uri": "https://localhost:8080/",
          "height": 182
        },
        "id": "EhxzWqZPl5du",
        "outputId": "70413e63-c406-4055-93e5-dfe65b846fe4"
      },
      "execution_count": null,
      "outputs": [
        {
          "output_type": "error",
          "ename": "TypeError",
          "evalue": "ignored",
          "traceback": [
            "\u001b[0;31m---------------------------------------------------------------------------\u001b[0m",
            "\u001b[0;31mTypeError\u001b[0m                                 Traceback (most recent call last)",
            "\u001b[0;32m<ipython-input-4-e11652e16d41>\u001b[0m in \u001b[0;36m<module>\u001b[0;34m()\u001b[0m\n\u001b[1;32m      1\u001b[0m \u001b[0mt\u001b[0m \u001b[0;34m=\u001b[0m \u001b[0;34m(\u001b[0m\u001b[0;36m1\u001b[0m\u001b[0;34m,\u001b[0m\u001b[0;36m2\u001b[0m\u001b[0;34m,\u001b[0m\u001b[0;36m3\u001b[0m\u001b[0;34m)\u001b[0m\u001b[0;34m\u001b[0m\u001b[0;34m\u001b[0m\u001b[0m\n\u001b[0;32m----> 2\u001b[0;31m \u001b[0mt\u001b[0m\u001b[0;34m[\u001b[0m\u001b[0;36m1\u001b[0m\u001b[0;34m]\u001b[0m\u001b[0;34m=\u001b[0m\u001b[0;36m0\u001b[0m\u001b[0;34m\u001b[0m\u001b[0;34m\u001b[0m\u001b[0m\n\u001b[0m",
            "\u001b[0;31mTypeError\u001b[0m: 'tuple' object does not support item assignment"
          ]
        }
      ]
    },
    {
      "cell_type": "markdown",
      "source": [
        "#Mathematical Operators for Tuple:\n",
        "We can apply + and * operators for tuple"
      ],
      "metadata": {
        "id": "_gqHl8ttl9Md"
      }
    },
    {
      "cell_type": "code",
      "source": [
        "# Concatenation Operator (+):\n",
        "t1=(10,20,30)\n",
        "t2=(40,50,60)\n",
        "t3=t1+t2\n",
        "print(t3)"
      ],
      "metadata": {
        "colab": {
          "base_uri": "https://localhost:8080/"
        },
        "id": "xTPZleH4mBE9",
        "outputId": "f42cfe02-e7de-4371-9237-21b10d690451"
      },
      "execution_count": null,
      "outputs": [
        {
          "output_type": "stream",
          "name": "stdout",
          "text": [
            "(10, 20, 30, 40, 50, 60)\n"
          ]
        }
      ]
    },
    {
      "cell_type": "code",
      "source": [
        "#Multiplication Operator OR Repetition Operator (*)\n",
        "\n",
        "t1=(10,20,30)\n",
        "t2=t1*3\n",
        "print(t2)"
      ],
      "metadata": {
        "colab": {
          "base_uri": "https://localhost:8080/"
        },
        "id": "KNH21b_OmHPO",
        "outputId": "d66c4c51-cdea-402e-ab8e-9d7c5924eaf2"
      },
      "execution_count": null,
      "outputs": [
        {
          "output_type": "stream",
          "name": "stdout",
          "text": [
            "(10, 20, 30, 10, 20, 30, 10, 20, 30)\n"
          ]
        }
      ]
    },
    {
      "cell_type": "markdown",
      "source": [
        "#Important Functions of Tuple:"
      ],
      "metadata": {
        "id": "VSAmH7DJmMg-"
      }
    },
    {
      "cell_type": "code",
      "source": [
        "#1. len():\n",
        "t= (1,2,3,4)\n",
        "len(t)"
      ],
      "metadata": {
        "colab": {
          "base_uri": "https://localhost:8080/"
        },
        "id": "gVj4LrxSmOsk",
        "outputId": "24db07bf-a52a-47f7-9e99-c65fb97a9d20"
      },
      "execution_count": null,
      "outputs": [
        {
          "output_type": "execute_result",
          "data": {
            "text/plain": [
              "4"
            ]
          },
          "metadata": {},
          "execution_count": 7
        }
      ]
    },
    {
      "cell_type": "code",
      "source": [
        "#2. count():To return number of occurrences of given element in the tuple\n",
        "t= (1,2,3,4,1,1)\n",
        "t.count(1)"
      ],
      "metadata": {
        "colab": {
          "base_uri": "https://localhost:8080/"
        },
        "id": "vaYN45EpmRBN",
        "outputId": "4397b487-c927-4049-fde4-d442ebbac5ef"
      },
      "execution_count": null,
      "outputs": [
        {
          "output_type": "execute_result",
          "data": {
            "text/plain": [
              "3"
            ]
          },
          "metadata": {},
          "execution_count": 8
        }
      ]
    },
    {
      "cell_type": "code",
      "source": [
        "# 3. index(): Returns index of first occurrence of the given element.\n",
        "# If the specified element is not available then we will get ValueError.\n",
        "t=(10,20,10,10,20)\n",
        "t.index(20)"
      ],
      "metadata": {
        "colab": {
          "base_uri": "https://localhost:8080/"
        },
        "id": "0-UntDPlmWDZ",
        "outputId": "8befef81-8fda-4335-dcf9-1b0a70c450a7"
      },
      "execution_count": null,
      "outputs": [
        {
          "output_type": "execute_result",
          "data": {
            "text/plain": [
              "1"
            ]
          },
          "metadata": {},
          "execution_count": 9
        }
      ]
    },
    {
      "cell_type": "code",
      "source": [
        "t.index(10)"
      ],
      "metadata": {
        "colab": {
          "base_uri": "https://localhost:8080/"
        },
        "id": "M_f6Z4x-makN",
        "outputId": "0b1019e0-c41c-41f9-967f-7fd343306481"
      },
      "execution_count": null,
      "outputs": [
        {
          "output_type": "execute_result",
          "data": {
            "text/plain": [
              "0"
            ]
          },
          "metadata": {},
          "execution_count": 10
        }
      ]
    },
    {
      "cell_type": "code",
      "source": [
        "# 4. sorted(): To sort elements based on default natural sorting order\n",
        "t=(10,20,10,10,20,40)\n",
        "t1 = sorted(t)\n",
        "print(t1)"
      ],
      "metadata": {
        "colab": {
          "base_uri": "https://localhost:8080/"
        },
        "id": "hESFI7FtmeA3",
        "outputId": "b06fc892-eb37-4868-a59d-b7672f6a5724"
      },
      "execution_count": null,
      "outputs": [
        {
          "output_type": "stream",
          "name": "stdout",
          "text": [
            "[10, 10, 10, 20, 20, 40]\n"
          ]
        }
      ]
    },
    {
      "cell_type": "code",
      "source": [
        "#We can sort according to reverse of default natural sorting order as follows\n",
        "t12 = sorted(t, reverse = True)\n",
        "print(t12)"
      ],
      "metadata": {
        "colab": {
          "base_uri": "https://localhost:8080/"
        },
        "id": "S5CGfREUmj2F",
        "outputId": "9a50893e-24e1-474b-f7bc-6c4900f3d661"
      },
      "execution_count": null,
      "outputs": [
        {
          "output_type": "stream",
          "name": "stdout",
          "text": [
            "[40, 20, 20, 10, 10, 10]\n"
          ]
        }
      ]
    },
    {
      "cell_type": "code",
      "source": [
        "# 5. min() and max() functions:\n",
        "#These functions return min and max values according to default natural sorting order.\n",
        "t=(10,20,30,10,10,20)\n",
        "print(min(t))\n",
        "print(max(t))"
      ],
      "metadata": {
        "colab": {
          "base_uri": "https://localhost:8080/"
        },
        "id": "a_rQn1ACmrue",
        "outputId": "6f8b4700-3de8-49e7-ba3a-04ae6baa10d4"
      },
      "execution_count": null,
      "outputs": [
        {
          "output_type": "stream",
          "name": "stdout",
          "text": [
            "10\n",
            "30\n"
          ]
        }
      ]
    },
    {
      "cell_type": "markdown",
      "source": [
        "#Q. What do you mean by packing and unpacking of tuple?(explain with the help of code)"
      ],
      "metadata": {
        "id": "6ENZ8IqBmxsG"
      }
    },
    {
      "cell_type": "markdown",
      "source": [
        "***Answer***:\n",
        "\n",
        "**Packing** = When we create a tuple, we normally assign values to it. This is called \"packing\" a tuple\n",
        "\n",
        "**Unpacking** = \n",
        "But, in Python, we are also allowed to extract the values back into variables. This is called \"unpacking\""
      ],
      "metadata": {
        "id": "YV0rYxRLm0L1"
      }
    },
    {
      "cell_type": "markdown",
      "source": [
        "**Packing and Unpacking a Tuple**: In Python, there is a very powerful tuple assignment feature that assigns the right-hand side of values into the left-hand side. In another way, it is called unpacking of a tuple of values into a variable. In packing, we put values into a new tuple while in unpacking we extract those values into a single variable."
      ],
      "metadata": {
        "id": "7Wr-TV9ZodRt"
      }
    },
    {
      "cell_type": "code",
      "source": [
        "# Packing of tuple Eg1:-\n",
        "fruits = (\"apple\", \"banana\", \"cherry\")\n",
        "print(fruits)"
      ],
      "metadata": {
        "colab": {
          "base_uri": "https://localhost:8080/"
        },
        "id": "VEP_is0in5vU",
        "outputId": "48dc677c-45b3-4bf6-a034-db508d4a2990"
      },
      "execution_count": null,
      "outputs": [
        {
          "output_type": "stream",
          "name": "stdout",
          "text": [
            "('apple', 'banana', 'cherry')\n"
          ]
        }
      ]
    },
    {
      "cell_type": "code",
      "source": [
        "# Packing of tuple Eg2:-\n",
        "a = (\"MNNIT Allahabad\", 5000, \"Engineering\") ## this lines PACKS values into variable a\n",
        "print(a)"
      ],
      "metadata": {
        "colab": {
          "base_uri": "https://localhost:8080/"
        },
        "id": "jmCYwMKyor6s",
        "outputId": "7886ce8f-582e-4485-f1f2-7cf83bfca144"
      },
      "execution_count": 1,
      "outputs": [
        {
          "output_type": "stream",
          "name": "stdout",
          "text": [
            "('MNNIT Allahabad', 5000, 'Engineering')\n"
          ]
        }
      ]
    },
    {
      "cell_type": "code",
      "source": [
        "(college, student, type_ofcollege) = a # this lines UNPACKS values of variable a\n",
        "print(college)\n",
        "print(student)\n",
        "print(type_ofcollege)"
      ],
      "metadata": {
        "colab": {
          "base_uri": "https://localhost:8080/"
        },
        "id": "OXij2kLYpBcO",
        "outputId": "7ff7b708-7152-4ac2-f88a-0149c60a9acd"
      },
      "execution_count": 3,
      "outputs": [
        {
          "output_type": "stream",
          "name": "stdout",
          "text": [
            "MNNIT Allahabad\n",
            "5000\n",
            "Engineering\n"
          ]
        }
      ]
    },
    {
      "cell_type": "code",
      "source": [
        "# Unpacking of tuple Eg2:-\n",
        "fruits = (\"apple\", \"banana\", \"cherry\")\n",
        "\n",
        "(green, yellow, red) = fruits\n",
        "\n",
        "print(green)\n",
        "print(yellow)\n",
        "print(red)"
      ],
      "metadata": {
        "colab": {
          "base_uri": "https://localhost:8080/"
        },
        "id": "9Lq3PaD_nZnI",
        "outputId": "9d24cebb-7d69-4f12-e40c-0dd681351fca"
      },
      "execution_count": null,
      "outputs": [
        {
          "output_type": "stream",
          "name": "stdout",
          "text": [
            "apple\n",
            "banana\n",
            "cherry\n"
          ]
        }
      ]
    },
    {
      "cell_type": "markdown",
      "source": [
        "#Tuple Comprehension:\n",
        "Tuple Comprehension is not supported by Python.\n",
        "\n",
        "t = ( x**2 for x in range(1,6))\n",
        "\n",
        "Here we are not getting tuple object and we are getting generator object.\n",
        "\n",
        "1) t= ( x**2 for x in range(1,6))\n",
        "\n",
        "2) print(type(t))\n",
        "\n",
        "3) for x in t:\n",
        "\n",
        "4) print(x)"
      ],
      "metadata": {
        "id": "LxBoMLh3pWyV"
      }
    },
    {
      "cell_type": "code",
      "source": [
        "t= ( x**2 for x in range(1,6))\n",
        "print(type(t))\n",
        "for x in t:\n",
        "  print(x)"
      ],
      "metadata": {
        "id": "FyKy42WFng4a",
        "colab": {
          "base_uri": "https://localhost:8080/"
        },
        "outputId": "d38e0d33-2b40-40d0-dda9-3897a64dc359"
      },
      "execution_count": 4,
      "outputs": [
        {
          "output_type": "stream",
          "name": "stdout",
          "text": [
            "<class 'generator'>\n",
            "1\n",
            "4\n",
            "9\n",
            "16\n",
            "25\n"
          ]
        }
      ]
    },
    {
      "cell_type": "markdown",
      "source": [
        "**Q.** Write a Program to take a Tuple of Numbers from the Keyboard and Print its Sum and Average?"
      ],
      "metadata": {
        "id": "f0_hH7bPplIb"
      }
    },
    {
      "cell_type": "code",
      "source": [
        "t=eval(input(\"EnterTupleofNumbers:\"))\n",
        "l=len(t)\n",
        "sum=0\n",
        "for x in t:\n",
        "  sum=sum+x\n",
        "print(\"TheSum=\",sum)\n",
        "print(\"TheAverage=\",sum/l)"
      ],
      "metadata": {
        "colab": {
          "base_uri": "https://localhost:8080/"
        },
        "id": "VqTljcWppqo1",
        "outputId": "742b8271-5225-4c34-c1d9-54609e226489"
      },
      "execution_count": 5,
      "outputs": [
        {
          "output_type": "stream",
          "name": "stdout",
          "text": [
            "EnterTupleofNumbers:5,6,7,8,9,10\n",
            "TheSum= 45\n",
            "TheAverage= 7.5\n"
          ]
        }
      ]
    }
  ]
}