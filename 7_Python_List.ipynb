{
  "nbformat": 4,
  "nbformat_minor": 0,
  "metadata": {
    "colab": {
      "name": "Untitled10.ipynb",
      "provenance": [],
      "authorship_tag": "ABX9TyPxbrFZ7T4cBmC+Tgre8wUS",
      "include_colab_link": true
    },
    "kernelspec": {
      "name": "python3",
      "display_name": "Python 3"
    },
    "language_info": {
      "name": "python"
    }
  },
  "cells": [
    {
      "cell_type": "markdown",
      "metadata": {
        "id": "view-in-github",
        "colab_type": "text"
      },
      "source": [
        "<a href=\"https://colab.research.google.com/github/satyhim/Python_Basics/blob/main/7_Python_List.ipynb\" target=\"_parent\"><img src=\"https://colab.research.google.com/assets/colab-badge.svg\" alt=\"Open In Colab\"/></a>"
      ]
    },
    {
      "cell_type": "markdown",
      "source": [
        "#List\n",
        "֍ If we want to represent a group of individual objects as a single entity where insertion order needs to be preserved and duplicates are allowed, then we should go for List.\n",
        "\n",
        "֍ heterogeneous objects are allowed.\n",
        "\n",
        "֍ List is dynamic because based on our requirement we can increase the size and decrease the size.\n",
        "\n",
        "֍ In List the elements will be placed within square brackets and with comma seperator.\n",
        "\n",
        "֍ We can differentiate duplicate elements by using index and we can preserve insertion order by using index. Hence index will play very important role.\n",
        "\n",
        "֍ Python supports both positive and negative indexes. +ve index means from left to right where as negative index means right to left.\n",
        "\n",
        "֍ Listobjectsaremutable.i.ewecanchangethecontent."
      ],
      "metadata": {
        "id": "fvBRnPj6w_BD"
      }
    },
    {
      "cell_type": "code",
      "source": [
        "# Create a empty list\n",
        "x=[]\n",
        "print(x)\n",
        "print(type(x))"
      ],
      "metadata": {
        "colab": {
          "base_uri": "https://localhost:8080/"
        },
        "id": "CINdWB-IxCeY",
        "outputId": "d652c057-1df4-4b97-885f-e2074f5e5d88"
      },
      "execution_count": 1,
      "outputs": [
        {
          "output_type": "stream",
          "name": "stdout",
          "text": [
            "[]\n",
            "<class 'list'>\n"
          ]
        }
      ]
    },
    {
      "cell_type": "code",
      "source": [
        "x=eval(input(\"Enter list\"))\n",
        "print(x)"
      ],
      "metadata": {
        "colab": {
          "base_uri": "https://localhost:8080/"
        },
        "id": "cZyA152ZxMZe",
        "outputId": "dcbd0af1-9196-4a01-c063-c724e0c613d5"
      },
      "execution_count": 2,
      "outputs": [
        {
          "output_type": "stream",
          "name": "stdout",
          "text": [
            "Enter list5,4,6,8,9,2\n",
            "(5, 4, 6, 8, 9, 2)\n"
          ]
        }
      ]
    },
    {
      "cell_type": "code",
      "source": [
        "# with x() function\n",
        "# we need to delete 'x' variable defined in above cell\n",
        "x=(1,5,8,4)\n",
        "del x\n",
        "l=x(range(0,10))\n",
        "print(l)\n"
      ],
      "metadata": {
        "colab": {
          "base_uri": "https://localhost:8080/",
          "height": 217
        },
        "id": "xyrBGbMmxeFj",
        "outputId": "edf3e672-0853-4c77-f426-40a76ae08712"
      },
      "execution_count": 21,
      "outputs": [
        {
          "output_type": "error",
          "ename": "NameError",
          "evalue": "ignored",
          "traceback": [
            "\u001b[0;31m---------------------------------------------------------------------------\u001b[0m",
            "\u001b[0;31mNameError\u001b[0m                                 Traceback (most recent call last)",
            "\u001b[0;32m<ipython-input-21-7e76bdb00ee9>\u001b[0m in \u001b[0;36m<module>\u001b[0;34m()\u001b[0m\n\u001b[1;32m      3\u001b[0m \u001b[0mx\u001b[0m\u001b[0;34m=\u001b[0m\u001b[0;34m(\u001b[0m\u001b[0;36m1\u001b[0m\u001b[0;34m,\u001b[0m\u001b[0;36m5\u001b[0m\u001b[0;34m,\u001b[0m\u001b[0;36m8\u001b[0m\u001b[0;34m,\u001b[0m\u001b[0;36m4\u001b[0m\u001b[0;34m)\u001b[0m\u001b[0;34m\u001b[0m\u001b[0;34m\u001b[0m\u001b[0m\n\u001b[1;32m      4\u001b[0m \u001b[0;32mdel\u001b[0m \u001b[0mx\u001b[0m\u001b[0;34m\u001b[0m\u001b[0;34m\u001b[0m\u001b[0m\n\u001b[0;32m----> 5\u001b[0;31m \u001b[0ml\u001b[0m\u001b[0;34m=\u001b[0m\u001b[0mx\u001b[0m\u001b[0;34m(\u001b[0m\u001b[0mrange\u001b[0m\u001b[0;34m(\u001b[0m\u001b[0;36m0\u001b[0m\u001b[0;34m,\u001b[0m\u001b[0;36m10\u001b[0m\u001b[0;34m)\u001b[0m\u001b[0;34m)\u001b[0m\u001b[0;34m\u001b[0m\u001b[0;34m\u001b[0m\u001b[0m\n\u001b[0m\u001b[1;32m      6\u001b[0m \u001b[0mprint\u001b[0m\u001b[0;34m(\u001b[0m\u001b[0ml\u001b[0m\u001b[0;34m)\u001b[0m\u001b[0;34m\u001b[0m\u001b[0;34m\u001b[0m\u001b[0m\n",
            "\u001b[0;31mNameError\u001b[0m: name 'x' is not defined"
          ]
        }
      ]
    },
    {
      "cell_type": "code",
      "source": [
        "# With split() Function:\n",
        "s=\"Learning Python is very very easy!!!\"\n",
        "l=s.split()\n",
        "print(l)\n",
        "type(l)"
      ],
      "metadata": {
        "colab": {
          "base_uri": "https://localhost:8080/"
        },
        "id": "YnkdhBSjHod0",
        "outputId": "95b74250-db3a-4c99-ef32-f60dd2f7c6e5"
      },
      "execution_count": 22,
      "outputs": [
        {
          "output_type": "stream",
          "name": "stdout",
          "text": [
            "['Learning', 'Python', 'is', 'very', 'very', 'easy!!!']\n"
          ]
        },
        {
          "output_type": "execute_result",
          "data": {
            "text/plain": [
              "list"
            ]
          },
          "metadata": {},
          "execution_count": 22
        }
      ]
    },
    {
      "cell_type": "markdown",
      "source": [
        "#Accessing Elements of List:\n",
        "We can access elements of the list either by using index or by using slice operator(:)\n",
        "\n",
        "By using Index:\n",
        "List follows zero based index. ie index of first element is zero."
      ],
      "metadata": {
        "id": "jpwlxl1yHuJg"
      }
    },
    {
      "cell_type": "code",
      "source": [
        "l = [1,2,3,4,5]\n",
        "l[4] #providing index"
      ],
      "metadata": {
        "colab": {
          "base_uri": "https://localhost:8080/"
        },
        "id": "m7-EoDb7H5aA",
        "outputId": "e46c509b-2cb7-4883-80aa-cc694386bef8"
      },
      "execution_count": 23,
      "outputs": [
        {
          "output_type": "execute_result",
          "data": {
            "text/plain": [
              "5"
            ]
          },
          "metadata": {},
          "execution_count": 23
        }
      ]
    },
    {
      "cell_type": "code",
      "source": [
        "l=[\"python\",\"java\",\"c\",\"spark\"]\n",
        "l[2]"
      ],
      "metadata": {
        "colab": {
          "base_uri": "https://localhost:8080/",
          "height": 35
        },
        "id": "JZgEXvXYH_hY",
        "outputId": "4ed64e07-b9b3-459d-e15c-f87b4ab7c1b1"
      },
      "execution_count": 24,
      "outputs": [
        {
          "output_type": "execute_result",
          "data": {
            "text/plain": [
              "'c'"
            ],
            "application/vnd.google.colaboratory.intrinsic+json": {
              "type": "string"
            }
          },
          "metadata": {},
          "execution_count": 24
        }
      ]
    },
    {
      "cell_type": "code",
      "source": [
        "l[3]"
      ],
      "metadata": {
        "colab": {
          "base_uri": "https://localhost:8080/",
          "height": 35
        },
        "id": "8QbOZCbZICjf",
        "outputId": "ee371305-54b9-4e16-a93e-eefa305570d2"
      },
      "execution_count": 27,
      "outputs": [
        {
          "output_type": "execute_result",
          "data": {
            "text/plain": [
              "'spark'"
            ],
            "application/vnd.google.colaboratory.intrinsic+json": {
              "type": "string"
            }
          },
          "metadata": {},
          "execution_count": 27
        }
      ]
    },
    {
      "cell_type": "markdown",
      "source": [
        "By using Slice Operator:\n",
        "Syntax: list2 = list1[start:stop:step]"
      ],
      "metadata": {
        "id": "Pxps_HsEIQIa"
      }
    },
    {
      "cell_type": "code",
      "source": [
        "n=[1,2,3,4,5,6,7,8,9,10]\n",
        "print(n[3:8])"
      ],
      "metadata": {
        "colab": {
          "base_uri": "https://localhost:8080/"
        },
        "id": "ainWHTXZITkb",
        "outputId": "6d2524cf-9cd9-4a66-9bb2-80a1078bc4fe"
      },
      "execution_count": 28,
      "outputs": [
        {
          "output_type": "stream",
          "name": "stdout",
          "text": [
            "[4, 5, 6, 7, 8]\n"
          ]
        }
      ]
    },
    {
      "cell_type": "markdown",
      "source": [
        "#List vs Mutability:\n",
        "Once we creates a List object, we can modify its content. Hence List objects are mutable."
      ],
      "metadata": {
        "id": "C9I_iZ0NId5i"
      }
    },
    {
      "cell_type": "code",
      "source": [
        "n=[10,20,30,40]\n",
        "print(n)\n",
        "n[1]=777\n",
        "print(n)"
      ],
      "metadata": {
        "colab": {
          "base_uri": "https://localhost:8080/"
        },
        "id": "nl16KmpnIRO-",
        "outputId": "3188c437-5a2c-4f64-9442-eb4c06a65092"
      },
      "execution_count": 29,
      "outputs": [
        {
          "output_type": "stream",
          "name": "stdout",
          "text": [
            "[10, 20, 30, 40]\n",
            "[10, 777, 30, 40]\n"
          ]
        }
      ]
    },
    {
      "cell_type": "markdown",
      "source": [
        "#Traversing the Elements of List:\n",
        "The sequential access of each element in the list is called traversal."
      ],
      "metadata": {
        "id": "0sErX19xIugl"
      }
    },
    {
      "cell_type": "code",
      "source": [
        "# 1)By using while Loop:\n",
        "n=[0,1,2,3,4,5,6,7,8,9,10]\n",
        "i=0\n",
        "while i < len(n):\n",
        "  print(n[i])\n",
        "  i=i+1"
      ],
      "metadata": {
        "colab": {
          "base_uri": "https://localhost:8080/"
        },
        "id": "57MYbXs6Ix8L",
        "outputId": "63c48b66-568b-4f26-b0bd-5769d6972661"
      },
      "execution_count": 30,
      "outputs": [
        {
          "output_type": "stream",
          "name": "stdout",
          "text": [
            "0\n",
            "1\n",
            "2\n",
            "3\n",
            "4\n",
            "5\n",
            "6\n",
            "7\n",
            "8\n",
            "9\n",
            "10\n"
          ]
        }
      ]
    },
    {
      "cell_type": "code",
      "source": [
        "# 2)By using for Loop:\n",
        "n=[0,1,2,3,4,5,6,7,8,9,10]\n",
        "for x in n:\n",
        " print(x)"
      ],
      "metadata": {
        "colab": {
          "base_uri": "https://localhost:8080/"
        },
        "id": "rc47HBLSJUJU",
        "outputId": "0800f812-a09e-45ae-d136-775ddd985314"
      },
      "execution_count": 35,
      "outputs": [
        {
          "output_type": "stream",
          "name": "stdout",
          "text": [
            "0\n",
            "1\n",
            "2\n",
            "3\n",
            "4\n",
            "5\n",
            "6\n",
            "7\n",
            "8\n",
            "9\n",
            "10\n"
          ]
        }
      ]
    },
    {
      "cell_type": "code",
      "source": [
        "# 3)To display Elements by Index wise:\n",
        "l=[\"A\",\"B\",\"C\"]\n",
        "x=len(l)\n",
        "for i in range(x):\n",
        "  print(l[i],\"is available at positive index: \",i,\"and at negative index: \",i-x)"
      ],
      "metadata": {
        "colab": {
          "base_uri": "https://localhost:8080/"
        },
        "id": "QBKEeq01Jot6",
        "outputId": "9b325116-cd30-453f-de36-ca7fb18ad042"
      },
      "execution_count": 36,
      "outputs": [
        {
          "output_type": "stream",
          "name": "stdout",
          "text": [
            "A is available at positive index:  0 and at negative index:  -3\n",
            "B is available at positive index:  1 and at negative index:  -2\n",
            "C is available at positive index:  2 and at negative index:  -1\n"
          ]
        }
      ]
    },
    {
      "cell_type": "markdown",
      "source": [
        "#Important Functions of List:\n",
        "I. To get Information about List:"
      ],
      "metadata": {
        "id": "bM3wYavHJwhN"
      }
    },
    {
      "cell_type": "code",
      "source": [
        "#1) len(): Returns the number of elements present in the list\n",
        "n=[10,20,30,40]\n",
        "print(len(n))"
      ],
      "metadata": {
        "colab": {
          "base_uri": "https://localhost:8080/"
        },
        "id": "7vHcGud6J0Jx",
        "outputId": "6cb75dd4-9a77-467a-f6fa-fb08583488da"
      },
      "execution_count": 37,
      "outputs": [
        {
          "output_type": "stream",
          "name": "stdout",
          "text": [
            "4\n"
          ]
        }
      ]
    },
    {
      "cell_type": "code",
      "source": [
        "#2) count(): It returns the number of occurrences of specified item in the list\n",
        "n=[1,2,2,2,2,3,3]\n",
        "print(n.count(1))\n",
        "print(n.count(2))\n",
        "print(n.count(3))"
      ],
      "metadata": {
        "colab": {
          "base_uri": "https://localhost:8080/"
        },
        "id": "TYxp9k4ZJ5Qz",
        "outputId": "31551fea-f044-45e0-a93d-c32ed292788c"
      },
      "execution_count": 38,
      "outputs": [
        {
          "output_type": "stream",
          "name": "stdout",
          "text": [
            "1\n",
            "4\n",
            "2\n"
          ]
        }
      ]
    },
    {
      "cell_type": "code",
      "source": [
        "n=[1,2,2,2,2,3,3]\n",
        "n.count(1)"
      ],
      "metadata": {
        "colab": {
          "base_uri": "https://localhost:8080/"
        },
        "id": "1GS_h2KoJ940",
        "outputId": "03fd391b-73e4-4cc2-94fa-a7729febe0fc"
      },
      "execution_count": 39,
      "outputs": [
        {
          "output_type": "execute_result",
          "data": {
            "text/plain": [
              "1"
            ]
          },
          "metadata": {},
          "execution_count": 39
        }
      ]
    },
    {
      "cell_type": "code",
      "source": [
        "n=[1,2,2,2,2,3,3]\n",
        "n.count(2)"
      ],
      "metadata": {
        "colab": {
          "base_uri": "https://localhost:8080/"
        },
        "id": "mTS81kIRKB1z",
        "outputId": "988e73f3-4117-40bb-f06e-e2bbc016a8b9"
      },
      "execution_count": 40,
      "outputs": [
        {
          "output_type": "execute_result",
          "data": {
            "text/plain": [
              "4"
            ]
          },
          "metadata": {},
          "execution_count": 40
        }
      ]
    },
    {
      "cell_type": "code",
      "source": [
        "#3) index(): Returns the index of first occurrence of the specified item.\n",
        "n=[1,2,2,2,2,3,3]\n",
        "print(n.index(1))"
      ],
      "metadata": {
        "colab": {
          "base_uri": "https://localhost:8080/"
        },
        "id": "u7DL47vZKFGe",
        "outputId": "1601f72d-b580-431d-b4e7-601e5e8945d7"
      },
      "execution_count": 41,
      "outputs": [
        {
          "output_type": "stream",
          "name": "stdout",
          "text": [
            "0\n"
          ]
        }
      ]
    },
    {
      "cell_type": "code",
      "source": [
        "n=[1,2,2,2,2,3,3]\n",
        "print(n.index(3))"
      ],
      "metadata": {
        "colab": {
          "base_uri": "https://localhost:8080/"
        },
        "id": "tG6IWM4wKHlf",
        "outputId": "fcaa63f5-8913-4443-cade-19e58ccadca8"
      },
      "execution_count": 42,
      "outputs": [
        {
          "output_type": "stream",
          "name": "stdout",
          "text": [
            "5\n"
          ]
        }
      ]
    },
    {
      "cell_type": "code",
      "source": [
        "n=[1,2,2,2,2,3,3]\n",
        "n.index(2)"
      ],
      "metadata": {
        "colab": {
          "base_uri": "https://localhost:8080/"
        },
        "id": "1ai9HXYcKK71",
        "outputId": "6f080f26-ecb7-41bf-8cf1-42ba05a26585"
      },
      "execution_count": 43,
      "outputs": [
        {
          "output_type": "execute_result",
          "data": {
            "text/plain": [
              "1"
            ]
          },
          "metadata": {},
          "execution_count": 43
        }
      ]
    },
    {
      "cell_type": "markdown",
      "source": [
        "II. Manipulating Elements of List:"
      ],
      "metadata": {
        "id": "tShKspk1KROk"
      }
    },
    {
      "cell_type": "code",
      "source": [
        "#1) append() Function: add item at the end of the list\n",
        "list=[]\n",
        "list.append(\"A\")\n",
        "list.append(\"B\")\n",
        "list.append(\"C\")\n",
        "print(list)"
      ],
      "metadata": {
        "colab": {
          "base_uri": "https://localhost:8080/"
        },
        "id": "cW294C1ZKR1v",
        "outputId": "c364db9e-c814-4ad0-a8d5-23ee4313ee7f"
      },
      "execution_count": 44,
      "outputs": [
        {
          "output_type": "stream",
          "name": "stdout",
          "text": [
            "['A', 'B', 'C']\n"
          ]
        }
      ]
    },
    {
      "cell_type": "code",
      "source": [
        "# E.g To add all the elements to list upto 100 which are divisible by 10 --> simple --> complex\n",
        "list1=[]\n",
        "for i in range(101):\n",
        "  if i%10==0:\n",
        "    list1.append(i)\n",
        "print(list1)"
      ],
      "metadata": {
        "colab": {
          "base_uri": "https://localhost:8080/"
        },
        "id": "rUs60Md-KWcD",
        "outputId": "441c9f10-469f-4d74-a01b-17bacb58f3b9"
      },
      "execution_count": 45,
      "outputs": [
        {
          "output_type": "stream",
          "name": "stdout",
          "text": [
            "[0, 10, 20, 30, 40, 50, 60, 70, 80, 90, 100]\n"
          ]
        }
      ]
    },
    {
      "cell_type": "code",
      "source": [
        "#2) Insert Function: to insert item at specified index position\n",
        "n=[1,2,3,4,5]\n",
        "n.insert(1,888)\n",
        "print(n)"
      ],
      "metadata": {
        "colab": {
          "base_uri": "https://localhost:8080/"
        },
        "id": "g4WTBbaYKb_o",
        "outputId": "93ff5463-d2f9-4841-ffbd-52c8cc614e68"
      },
      "execution_count": 48,
      "outputs": [
        {
          "output_type": "stream",
          "name": "stdout",
          "text": [
            "[1, 888, 2, 3, 4, 5]\n"
          ]
        }
      ]
    },
    {
      "cell_type": "code",
      "source": [
        "n=[1,2,3,4,5]\n",
        "n.insert(5,888)\n",
        "print(n)"
      ],
      "metadata": {
        "colab": {
          "base_uri": "https://localhost:8080/"
        },
        "id": "mm_CrmVFK3Ti",
        "outputId": "5908c526-e48f-4a4e-bc3a-e3b7c0158b37"
      },
      "execution_count": 49,
      "outputs": [
        {
          "output_type": "stream",
          "name": "stdout",
          "text": [
            "[1, 2, 3, 4, 5, 888]\n"
          ]
        }
      ]
    },
    {
      "cell_type": "code",
      "source": [
        "n=[1,2,3,4,5]\n",
        "n.insert(6,888)\n",
        "print(n)"
      ],
      "metadata": {
        "colab": {
          "base_uri": "https://localhost:8080/"
        },
        "id": "hh0RPy5tK7Iy",
        "outputId": "437cdf8f-b147-4ba1-ba4b-2568ccc870bc"
      },
      "execution_count": 50,
      "outputs": [
        {
          "output_type": "stream",
          "name": "stdout",
          "text": [
            "[1, 2, 3, 4, 5, 888]\n"
          ]
        }
      ]
    },
    {
      "cell_type": "markdown",
      "source": [
        "**Note: If the specified index is greater than max index then element will be inserted at lastposition. If the specified index is smaller than min index then element will be inserted at first position**"
      ],
      "metadata": {
        "id": "49QYRWKeLCXU"
      }
    },
    {
      "cell_type": "code",
      "source": [
        "#3)extend() Function: To add all items of one list to another list\n",
        "\n",
        "order1=[\"Chicken\",\"Mutton\",\"Fish\"]\n",
        "order2=[\"RC\",\"KF\",\"FO\"]\n",
        "order1.extend(order2)\n",
        "print(order1)"
      ],
      "metadata": {
        "colab": {
          "base_uri": "https://localhost:8080/"
        },
        "id": "F8YzYsqdLG3D",
        "outputId": "71c76aa3-6fd2-4490-826e-d58ac725b458"
      },
      "execution_count": 51,
      "outputs": [
        {
          "output_type": "stream",
          "name": "stdout",
          "text": [
            "['Chicken', 'Mutton', 'Fish', 'RC', 'KF', 'FO']\n"
          ]
        }
      ]
    },
    {
      "cell_type": "code",
      "source": [
        "#3)extend() Function: To add all items of one list to another list\n",
        "\n",
        "order1=[\"Chicken\",\"Mutton\",\"Fish\"]\n",
        "order2=[\"RC\",\"KF\",\"FO\"]\n",
        "order2.extend(order1)\n",
        "print(order2)"
      ],
      "metadata": {
        "colab": {
          "base_uri": "https://localhost:8080/"
        },
        "id": "jakD4At5LL-T",
        "outputId": "af8c1ac6-ff4a-44d5-9c93-b883768f560c"
      },
      "execution_count": 53,
      "outputs": [
        {
          "output_type": "stream",
          "name": "stdout",
          "text": [
            "['RC', 'KF', 'FO', 'Chicken', 'Mutton', 'Fish']\n"
          ]
        }
      ]
    },
    {
      "cell_type": "code",
      "source": [
        "#4) remove() function:  We can use this function to remove specified item from the list.If the item present\n",
        " # multiple times then only first occurrence will be removed.\n",
        "n=[10,20,10,30]\n",
        "n.remove(10)\n",
        "print(n)"
      ],
      "metadata": {
        "colab": {
          "base_uri": "https://localhost:8080/"
        },
        "id": "nSjchXNGLUxE",
        "outputId": "0869f45d-b3ba-4364-d4c6-fb1ea87f7aa6"
      },
      "execution_count": 54,
      "outputs": [
        {
          "output_type": "stream",
          "name": "stdout",
          "text": [
            "[20, 10, 30]\n"
          ]
        }
      ]
    },
    {
      "cell_type": "code",
      "source": [
        "# 5) pop()Function:  It removes and returns the last element of the list\n",
        "\n",
        "n=[10,20,30,40]\n",
        "print(n.pop())\n",
        "print(n)"
      ],
      "metadata": {
        "colab": {
          "base_uri": "https://localhost:8080/"
        },
        "id": "Ax43EeXhLatM",
        "outputId": "bdf41402-1746-4749-e216-80e5e8ec5fbd"
      },
      "execution_count": 56,
      "outputs": [
        {
          "output_type": "stream",
          "name": "stdout",
          "text": [
            "40\n",
            "[10, 20, 30]\n"
          ]
        }
      ]
    },
    {
      "cell_type": "code",
      "source": [
        "n = [10,20,30,40,50,60]\n",
        "print(n.pop(3))\n",
        "print(n)"
      ],
      "metadata": {
        "colab": {
          "base_uri": "https://localhost:8080/"
        },
        "id": "txLQg3PjLi5T",
        "outputId": "a9368a92-1b18-4fb9-acd9-cefdd681cd81"
      },
      "execution_count": 59,
      "outputs": [
        {
          "output_type": "stream",
          "name": "stdout",
          "text": [
            "40\n",
            "[10, 20, 30, 50, 60]\n"
          ]
        }
      ]
    },
    {
      "cell_type": "markdown",
      "source": [
        "**III) Ordering Elements of List:**\n",
        "reverse(): We can use to reverse() order of elements of list."
      ],
      "metadata": {
        "id": "ZrkN9D0ZLyo-"
      }
    },
    {
      "cell_type": "code",
      "source": [
        "n=[10,20,30,40]\n",
        "n.reverse()\n",
        "print(n)"
      ],
      "metadata": {
        "colab": {
          "base_uri": "https://localhost:8080/"
        },
        "id": "SI5vbe1tLzXF",
        "outputId": "e59fe8dd-0222-4ac5-a9eb-afdb2dd8d4e7"
      },
      "execution_count": 60,
      "outputs": [
        {
          "output_type": "stream",
          "name": "stdout",
          "text": [
            "[40, 30, 20, 10]\n"
          ]
        }
      ]
    },
    {
      "cell_type": "markdown",
      "source": [
        "#**2.sort():**\n",
        "In list by default insertion order is preserved.\n",
        "\n",
        "If want to sort the elements of list according to default natural sorting order then we should go for sort() method.\n",
        "\n",
        "For numbers --> Default Natural sorting Order is Ascending Order\n",
        "\n",
        "For Strings-->Default Natural sorting order is Alphabetical Order"
      ],
      "metadata": {
        "id": "0r6N7Z8GMACs"
      }
    },
    {
      "cell_type": "code",
      "source": [
        "n=[20,5,15,10,0]\n",
        "n.sort()\n",
        "print(n)"
      ],
      "metadata": {
        "colab": {
          "base_uri": "https://localhost:8080/"
        },
        "id": "QZE5z6EEMH4t",
        "outputId": "e41d82d5-d93d-436f-f171-c0daa1d13c6d"
      },
      "execution_count": 61,
      "outputs": [
        {
          "output_type": "stream",
          "name": "stdout",
          "text": [
            "[0, 5, 10, 15, 20]\n"
          ]
        }
      ]
    },
    {
      "cell_type": "code",
      "source": [
        "s=[\"Dog\",\"dog\",\"banana\",\"Banana\",\"Cat\",\"Apple\"]\n",
        "s.sort()\n",
        "print(s)"
      ],
      "metadata": {
        "colab": {
          "base_uri": "https://localhost:8080/"
        },
        "id": "XeqbzA3KMKv8",
        "outputId": "f5e0a44e-b5f9-4393-abf2-aa370a107858"
      },
      "execution_count": 65,
      "outputs": [
        {
          "output_type": "stream",
          "name": "stdout",
          "text": [
            "['Apple', 'Banana', 'Cat', 'Dog', 'banana', 'dog']\n"
          ]
        }
      ]
    },
    {
      "cell_type": "markdown",
      "source": [
        "To Sort in Reverse of Default Natural Sorting Order:\n",
        "\n",
        "We can sort according to reverse of default natural sorting order by using reverse=True argument."
      ],
      "metadata": {
        "id": "NCIWS_d7Mem-"
      }
    },
    {
      "cell_type": "code",
      "source": [
        "n=[40,10,30,20]\n",
        "n.sort()\n",
        "print(n)\n",
        "n.sort(reverse=True)\n",
        "print(n)\n",
        "n.sort(reverse=False)\n",
        "print(n)"
      ],
      "metadata": {
        "colab": {
          "base_uri": "https://localhost:8080/"
        },
        "id": "0ON4VTqTMfXf",
        "outputId": "37b1db5a-ef04-43ed-9417-dbb8beef0054"
      },
      "execution_count": 66,
      "outputs": [
        {
          "output_type": "stream",
          "name": "stdout",
          "text": [
            "[10, 20, 30, 40]\n",
            "[40, 30, 20, 10]\n",
            "[10, 20, 30, 40]\n"
          ]
        }
      ]
    },
    {
      "cell_type": "markdown",
      "source": [
        "#Aliasing and Cloning of List Objects:\n",
        "The process of giving another reference variable to the existing list is called aliasing."
      ],
      "metadata": {
        "id": "1ySac1eyMkMk"
      }
    },
    {
      "cell_type": "code",
      "source": [
        "x=[10,20,30,40]\n",
        "    \n",
        "y=x\n",
        "print(id(x)) \n",
        "print(id(y))"
      ],
      "metadata": {
        "colab": {
          "base_uri": "https://localhost:8080/"
        },
        "id": "4zwQlt0MMn3I",
        "outputId": "4e350eed-05b0-4484-fc47-4557c98bb6e0"
      },
      "execution_count": 67,
      "outputs": [
        {
          "output_type": "stream",
          "name": "stdout",
          "text": [
            "140510719406640\n",
            "140510719406640\n"
          ]
        }
      ]
    },
    {
      "cell_type": "markdown",
      "source": [
        "The process of creating exactly duplicate independent object is called cloning.\n",
        "\n",
        "We can implement cloning by using slice operator or by using copy() function."
      ],
      "metadata": {
        "id": "CjDr-oQrNdAW"
      }
    },
    {
      "cell_type": "code",
      "source": [
        "# Cloning by using slicing operator\n",
        "\n",
        "x=[10,20,30,40]\n",
        "y=x[:]\n",
        "y[1]=777\n",
        "print(x)\n",
        "print(y)"
      ],
      "metadata": {
        "colab": {
          "base_uri": "https://localhost:8080/"
        },
        "id": "pkQU7DrfNd1Y",
        "outputId": "9dded09c-09e8-4286-fb9d-898f19e88035"
      },
      "execution_count": 68,
      "outputs": [
        {
          "output_type": "stream",
          "name": "stdout",
          "text": [
            "[10, 20, 30, 40]\n",
            "[10, 777, 30, 40]\n"
          ]
        }
      ]
    },
    {
      "cell_type": "markdown",
      "source": [
        "#Using Mathematical Operators for List Objects\n",
        "Concatenation Operator (+):\n",
        "\n",
        "We can use + to concatenate 2 lists into a single list."
      ],
      "metadata": {
        "id": "idslt3poNmoF"
      }
    },
    {
      "cell_type": "code",
      "source": [
        "a=[10,20,30]\n",
        "b=[40,50,60]\n",
        "c=a+b\n",
        "print(c)"
      ],
      "metadata": {
        "colab": {
          "base_uri": "https://localhost:8080/"
        },
        "id": "BWPTXRzANrK9",
        "outputId": "de00fae4-a4ac-4554-d4fa-19a507323f8e"
      },
      "execution_count": 69,
      "outputs": [
        {
          "output_type": "stream",
          "name": "stdout",
          "text": [
            "[10, 20, 30, 40, 50, 60]\n"
          ]
        }
      ]
    },
    {
      "cell_type": "markdown",
      "source": [
        "Repetition Operator (*):\n",
        "\n",
        "We can use repetition operator * to repeat elements of list specified number of times."
      ],
      "metadata": {
        "id": "UmZlgnvwNtu_"
      }
    },
    {
      "cell_type": "code",
      "source": [
        "x=[10,20,30]\n",
        "y=x*3\n",
        "print(y)"
      ],
      "metadata": {
        "colab": {
          "base_uri": "https://localhost:8080/"
        },
        "id": "9VeUx0nDNuRq",
        "outputId": "4e4e0c9a-23e7-4535-a455-15f527b28cd8"
      },
      "execution_count": 70,
      "outputs": [
        {
          "output_type": "stream",
          "name": "stdout",
          "text": [
            "[10, 20, 30, 10, 20, 30, 10, 20, 30]\n"
          ]
        }
      ]
    },
    {
      "cell_type": "markdown",
      "source": [
        "Comparing List Objects:\n",
        "\n",
        "We can use comparison operators for List objects."
      ],
      "metadata": {
        "id": "PEWPYtASNxqJ"
      }
    },
    {
      "cell_type": "code",
      "source": [
        "x=[\"Dog\",\"Cat\",\"Rat\"]\n",
        "y=[\"Dog\",\"Cat\",\"Rat\"]\n",
        "z=[\"DOG\",\"CAT\",\"RAT\"]\n",
        "print(x == y)\n",
        "print(x == z)\n",
        "print(x != z)"
      ],
      "metadata": {
        "colab": {
          "base_uri": "https://localhost:8080/"
        },
        "id": "n5ZIxnnQNyVg",
        "outputId": "714a2ca1-6a5b-4bb4-9d18-0946e9cff5e1"
      },
      "execution_count": 71,
      "outputs": [
        {
          "output_type": "stream",
          "name": "stdout",
          "text": [
            "True\n",
            "False\n",
            "True\n"
          ]
        }
      ]
    },
    {
      "cell_type": "code",
      "source": [
        "x=[50,20,30]\n",
        "y=[40,50,60,100,200]\n",
        "print(x>y)\n",
        "print(x>=y)\n",
        "print(x<y)\n",
        "print(x<=y)"
      ],
      "metadata": {
        "colab": {
          "base_uri": "https://localhost:8080/"
        },
        "id": "hwwsJH-sN1_A",
        "outputId": "799f6f5d-977d-4ba9-85f8-24eb2bddfd90"
      },
      "execution_count": 72,
      "outputs": [
        {
          "output_type": "stream",
          "name": "stdout",
          "text": [
            "True\n",
            "True\n",
            "False\n",
            "False\n"
          ]
        }
      ]
    },
    {
      "cell_type": "markdown",
      "source": [
        "**Membership Operators:**\n",
        "\n",
        "We can check whether element is a member of the list or not by using memebership operators.\n",
        "\n",
        "1) in Operator\n",
        "\n",
        "2) not in Operator"
      ],
      "metadata": {
        "id": "01bkH1qbN4Bo"
      }
    },
    {
      "cell_type": "code",
      "source": [
        "n=[10,20,30,40]\n",
        "print(10 in n)\n",
        "print(10 not in n)\n",
        "print(50in n)"
      ],
      "metadata": {
        "colab": {
          "base_uri": "https://localhost:8080/"
        },
        "id": "Jed-72F8N7t4",
        "outputId": "ccaf1700-e8d2-4a65-84f0-7ce065c24b92"
      },
      "execution_count": 73,
      "outputs": [
        {
          "output_type": "stream",
          "name": "stdout",
          "text": [
            "True\n",
            "False\n",
            "False\n"
          ]
        }
      ]
    },
    {
      "cell_type": "markdown",
      "source": [
        "**clear() function:**\n",
        "--> To remove all elements of list"
      ],
      "metadata": {
        "id": "zsQkbtqpOA6z"
      }
    },
    {
      "cell_type": "code",
      "source": [
        "n=[10,20,30,40]\n",
        "print(n)\n",
        "n.clear()\n",
        "print(n)"
      ],
      "metadata": {
        "colab": {
          "base_uri": "https://localhost:8080/"
        },
        "id": "sLrmx7XsN5PA",
        "outputId": "dfca9d4a-6db0-40fe-bfd5-2d4e4918d427"
      },
      "execution_count": 74,
      "outputs": [
        {
          "output_type": "stream",
          "name": "stdout",
          "text": [
            "[10, 20, 30, 40]\n",
            "[]\n"
          ]
        }
      ]
    },
    {
      "cell_type": "markdown",
      "source": [
        "#Nested Lists:\n",
        "Sometimes we can take one list inside another list. Such type of lists are called nested"
      ],
      "metadata": {
        "id": "MRiax8-KOIdf"
      }
    },
    {
      "cell_type": "code",
      "source": [
        "n=[10,20,[30,40]]\n",
        "print(n)\n",
        "print(n[0])\n",
        "print(n[2])\n",
        "print(n[2][0])\n",
        "print(n[2][1])"
      ],
      "metadata": {
        "colab": {
          "base_uri": "https://localhost:8080/"
        },
        "id": "UnmvYylgOL3k",
        "outputId": "41620ef9-c2b4-4b93-c738-fbd588f84d6d"
      },
      "execution_count": 75,
      "outputs": [
        {
          "output_type": "stream",
          "name": "stdout",
          "text": [
            "[10, 20, [30, 40]]\n",
            "10\n",
            "[30, 40]\n",
            "30\n",
            "40\n"
          ]
        }
      ]
    },
    {
      "cell_type": "code",
      "source": [
        "#Nested List as Matrix:\n",
        " # In Python we can represent matrix by using nested lists.\n",
        "n=[[10,20,30],[40,50,60],[70,80,90]]\n",
        "print(n)\n",
        "print(\"ElementsbyRowwise:\")\n",
        "for r in n:\n",
        "   print(r)\n",
        "print(\"ElementsbyMatrixstyle:\")\n",
        "for i in range(len(n)):\n",
        "  for j in range(len(n[i])):\n",
        "     print(n[i][j],end=' ')\n",
        "  print()"
      ],
      "metadata": {
        "colab": {
          "base_uri": "https://localhost:8080/"
        },
        "id": "fQd3Xau4OOU0",
        "outputId": "abeb760c-c72c-4694-becf-210a666a9ac4"
      },
      "execution_count": 76,
      "outputs": [
        {
          "output_type": "stream",
          "name": "stdout",
          "text": [
            "[[10, 20, 30], [40, 50, 60], [70, 80, 90]]\n",
            "ElementsbyRowwise:\n",
            "[10, 20, 30]\n",
            "[40, 50, 60]\n",
            "[70, 80, 90]\n",
            "ElementsbyMatrixstyle:\n",
            "10 20 30 \n",
            "40 50 60 \n",
            "70 80 90 \n"
          ]
        }
      ]
    },
    {
      "cell_type": "markdown",
      "source": [
        "#List Comprehensions:\n",
        "It is very easy and compact way of creating list objects from any iterable objects (Like List, Tuple, Dictionary, Range etc) based on some condition.\n",
        "\n",
        "Syntax: list = [expression for item in list if condition]"
      ],
      "metadata": {
        "id": "saou5syIOZuM"
      }
    },
    {
      "cell_type": "code",
      "source": [
        "s=[x*x for x in range(1,11)]\n",
        "print(s)"
      ],
      "metadata": {
        "colab": {
          "base_uri": "https://localhost:8080/"
        },
        "id": "mm7sQg_9OcwC",
        "outputId": "9f85bd73-cb26-4521-8187-92dc0429380f"
      },
      "execution_count": 77,
      "outputs": [
        {
          "output_type": "stream",
          "name": "stdout",
          "text": [
            "[1, 4, 9, 16, 25, 36, 49, 64, 81, 100]\n"
          ]
        }
      ]
    },
    {
      "cell_type": "code",
      "source": [
        "m=[x for x in s if x%2==0]\n",
        "print(m)"
      ],
      "metadata": {
        "colab": {
          "base_uri": "https://localhost:8080/"
        },
        "id": "Zs5CEeg7Orkg",
        "outputId": "9350dacb-f7e6-4aff-9e88-5af307ec8cf3"
      },
      "execution_count": 78,
      "outputs": [
        {
          "output_type": "stream",
          "name": "stdout",
          "text": [
            "[4, 16, 36, 64, 100]\n"
          ]
        }
      ]
    },
    {
      "cell_type": "code",
      "source": [
        "words=[\"Balaiah\",\"Nag\",\"Venkatesh\",\"Chiranjeevi\"]\n",
        "l=[w[0] for w in words]\n",
        "print(l)"
      ],
      "metadata": {
        "colab": {
          "base_uri": "https://localhost:8080/"
        },
        "id": "67-4Q0fZOxmM",
        "outputId": "a590e9d7-ddfb-468f-a626-5a0eb20a9804"
      },
      "execution_count": 79,
      "outputs": [
        {
          "output_type": "stream",
          "name": "stdout",
          "text": [
            "['B', 'N', 'V', 'C']\n"
          ]
        }
      ]
    },
    {
      "cell_type": "code",
      "source": [
        "# Task: find the element from list1 which are not in list2\n",
        "num1=[10,20,80,50,30,40]\n",
        "num2=[30,40,50,60]\n",
        "num3=[i for i in num1 if i not in num2]\n",
        "print(num3)"
      ],
      "metadata": {
        "colab": {
          "base_uri": "https://localhost:8080/"
        },
        "id": "2gTtF69cO58k",
        "outputId": "72122b6e-4d8b-43e3-ff38-f1b31641f37c"
      },
      "execution_count": 83,
      "outputs": [
        {
          "output_type": "stream",
          "name": "stdout",
          "text": [
            "[10, 20, 80]\n"
          ]
        }
      ]
    }
  ]
}