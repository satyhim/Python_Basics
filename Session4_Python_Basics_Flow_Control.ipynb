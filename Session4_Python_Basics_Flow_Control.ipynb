{
  "nbformat": 4,
  "nbformat_minor": 0,
  "metadata": {
    "colab": {
      "name": "Untitled7.ipynb",
      "provenance": [],
      "collapsed_sections": [],
      "authorship_tag": "ABX9TyO6ep2aTZ7duMTuANgfNBV0",
      "include_colab_link": true
    },
    "kernelspec": {
      "name": "python3",
      "display_name": "Python 3"
    },
    "language_info": {
      "name": "python"
    }
  },
  "cells": [
    {
      "cell_type": "markdown",
      "metadata": {
        "id": "view-in-github",
        "colab_type": "text"
      },
      "source": [
        "<a href=\"https://colab.research.google.com/github/satyhim/Python_Basics/blob/main/Session4_Python_Basics_Flow_Control.ipynb\" target=\"_parent\"><img src=\"https://colab.research.google.com/assets/colab-badge.svg\" alt=\"Open In Colab\"/></a>"
      ]
    },
    {
      "cell_type": "markdown",
      "source": [
        "# Python Basics : \n",
        "Session#4 : ***Flow Control***"
      ],
      "metadata": {
        "id": "eNNhrt4qrfA9"
      }
    },
    {
      "cell_type": "markdown",
      "source": [
        "#Control Flow :  \n",
        "\n",
        "1.  *** Conditional Statements ***\n",
        "\n",
        "*   if\n",
        "*   if-elif\n",
        "*   if-elif-else\n",
        "\n",
        "2.  *** Transfer Statements ***\n",
        "\n",
        "*   break\n",
        "*   continue\n",
        "*   pass\n",
        "\n",
        "3.  *** Iterative Statements ***\n",
        "\n",
        "*   for\n",
        "*   while\n",
        "\n",
        "\n",
        "\n",
        "\n",
        "\n",
        "\n"
      ],
      "metadata": {
        "id": "rAwSoA60s_wW"
      }
    },
    {
      "cell_type": "markdown",
      "source": [
        "\n",
        "***Conditional Statements***\n",
        "\n",
        "1) ***if*** = If condition is true then statements will be executed.\n",
        "\n",
        "\n"
      ],
      "metadata": {
        "id": "7K0Bfkvvs_7v"
      }
    },
    {
      "cell_type": "code",
      "source": [
        "name=input(\"EnterName:\")\n",
        "if name==\"shivansh\":\n",
        "  print(\"Hello Shiv\")\n",
        "  print(\"How are you!!!!\")\n",
        "\n"
      ],
      "metadata": {
        "colab": {
          "base_uri": "https://localhost:8080/"
        },
        "id": "wXNhmlXzvHFN",
        "outputId": "52a152d0-2bd9-4806-eb26-a9a34a16ebac"
      },
      "execution_count": 2,
      "outputs": [
        {
          "output_type": "stream",
          "name": "stdout",
          "text": [
            "EnterName:shivansh\n",
            "Hello Shiv\n",
            "How are you!!!!\n"
          ]
        }
      ]
    },
    {
      "cell_type": "markdown",
      "source": [
        "*# Else part is always optional. Hence the following are various possible syntaxes.*"
      ],
      "metadata": {
        "id": "v8D_cmtv2RGU"
      }
    },
    {
      "cell_type": "markdown",
      "source": [
        "*# Write a Program to find Biggest of given 2 Numbers from the Commad Prompt?*"
      ],
      "metadata": {
        "id": "BBrkzEcJ2d1r"
      }
    },
    {
      "cell_type": "code",
      "source": [
        "n1=int(input(\"EnterFirstNumber:\"))\n",
        "n2=int(input(\"EnterSecondNumber:\"))\n",
        "if n1>n2:\n",
        "  print(\"Biggest Number is:\",n1)\n",
        "else: \n",
        "  print(\"Biggest Number is:\",n2)"
      ],
      "metadata": {
        "colab": {
          "base_uri": "https://localhost:8080/"
        },
        "id": "wQKk7cCi2nnr",
        "outputId": "278c82c3-68f7-400b-836c-26b3a7bc8822"
      },
      "execution_count": 7,
      "outputs": [
        {
          "output_type": "stream",
          "name": "stdout",
          "text": [
            "EnterFirstNumber:20\n",
            "EnterSecondNumber:10\n",
            "Biggest Number is: 20\n"
          ]
        }
      ]
    },
    {
      "cell_type": "markdown",
      "source": [
        "# #**Homework:-**"
      ],
      "metadata": {
        "id": "biZe4UuG4Qde"
      }
    },
    {
      "cell_type": "markdown",
      "source": [
        "1) Write a Program to find Biggest of given 3 Numbers from the Commad Prompt?"
      ],
      "metadata": {
        "id": "-_X1WLrL4Zd9"
      }
    },
    {
      "cell_type": "code",
      "source": [
        "a1=int(input(\"EnterFirstNumber:\"))\n",
        "a2=int(input(\"EnterSecondNumber:\"))\n",
        "a3=int(input(\"EnterThirdNumber:\"))\n",
        "if a1>a2:\n",
        "  print(\"Biggest Number is:\",a1)\n",
        "elif (a2>a1) and (a2>a3):\n",
        "    print(\"Biggest Number is:\",a2)\n",
        "else:\n",
        " print(\"Biggest Number is:\",a3)\n",
        "\n",
        "\n",
        "\n"
      ],
      "metadata": {
        "colab": {
          "base_uri": "https://localhost:8080/"
        },
        "id": "JJeBPk914UBf",
        "outputId": "f394db5c-8345-436c-a31b-23d30d50c386"
      },
      "execution_count": 15,
      "outputs": [
        {
          "output_type": "stream",
          "name": "stdout",
          "text": [
            "EnterFirstNumber:10\n",
            "EnterSecondNumber:20\n",
            "EnterThirdNumber:30\n",
            "Biggest Number is: 30\n"
          ]
        }
      ]
    },
    {
      "cell_type": "markdown",
      "source": [
        "2) Write a program to find smallest of given 2 numbers?\n",
        "\n",
        "3) Write a program to find smallest of given 3 numbers?\n",
        "\n",
        "4) Write a program to check whether the given number is even or odd?"
      ],
      "metadata": {
        "id": "_E91xZWwCM5B"
      }
    },
    {
      "cell_type": "code",
      "source": [
        "# Eg: To print odd numbers in the range 0 to 20\n",
        "for i in range(20):\n",
        "  if i%2==0:\n",
        "    continue\n",
        "  print(i)"
      ],
      "metadata": {
        "colab": {
          "base_uri": "https://localhost:8080/"
        },
        "id": "Rb5t6H87COj4",
        "outputId": "5fff4e98-cf61-4ac1-84e5-5905a8791c79"
      },
      "execution_count": 16,
      "outputs": [
        {
          "output_type": "stream",
          "name": "stdout",
          "text": [
            "1\n",
            "3\n",
            "5\n",
            "7\n",
            "9\n",
            "11\n",
            "13\n",
            "15\n",
            "17\n",
            "19\n"
          ]
        }
      ]
    },
    {
      "cell_type": "markdown",
      "source": [
        "#2) Iterative Statements:"
      ],
      "metadata": {
        "id": "468hTQlpCckv"
      }
    },
    {
      "cell_type": "markdown",
      "source": [
        "֍ ֍If we want to execute a group of statements multiple times then we should go for Iterative statements.\n",
        "\n",
        "Python supports 2 types of iterative statements.\n",
        "\n",
        "for loop\n",
        "\n",
        "while loop\n",
        "\n",
        "֍ for loop:\n",
        "\n",
        "If we want to execute some action for every element present in some sequence (it may be string or collection) then we should go for for loop.\n",
        "\n",
        "Syntax:\n",
        "\n",
        "for x in sequence:\n",
        "\n",
        "Body\n",
        "\n",
        "Where sequence can be string or any collection.\n",
        "\n",
        "Body will be executed for every element present in the sequence."
      ],
      "metadata": {
        "id": "dka2ZKpOCitn"
      }
    },
    {
      "cell_type": "code",
      "source": [
        "# To print characters present in the given string\n",
        "s=\"Himayatnagar\"\n",
        "for x in s:\n",
        "  print(x)"
      ],
      "metadata": {
        "colab": {
          "base_uri": "https://localhost:8080/"
        },
        "id": "IOE80eIqCktH",
        "outputId": "fb6e2803-d457-469d-d741-660dcf2f5daa"
      },
      "execution_count": 17,
      "outputs": [
        {
          "output_type": "stream",
          "name": "stdout",
          "text": [
            "H\n",
            "i\n",
            "m\n",
            "a\n",
            "y\n",
            "a\n",
            "t\n",
            "n\n",
            "a\n",
            "g\n",
            "a\n",
            "r\n"
          ]
        }
      ]
    },
    {
      "cell_type": "code",
      "source": [
        "# To print Satish 10 times\n",
        "for x in range(10):\n",
        "   print(\"Satish\")"
      ],
      "metadata": {
        "colab": {
          "base_uri": "https://localhost:8080/"
        },
        "id": "zFzUbF1_Cs6q",
        "outputId": "33efd7f4-1a15-4b38-977c-ad8631319102"
      },
      "execution_count": 18,
      "outputs": [
        {
          "output_type": "stream",
          "name": "stdout",
          "text": [
            "Satish\n",
            "Satish\n",
            "Satish\n",
            "Satish\n",
            "Satish\n",
            "Satish\n",
            "Satish\n",
            "Satish\n",
            "Satish\n",
            "Satish\n"
          ]
        }
      ]
    },
    {
      "cell_type": "code",
      "source": [
        "# To display odd numbers from 10 to 50\n",
        "for x in range(51):\n",
        "  if (x%2!=0):\n",
        "    print(x)"
      ],
      "metadata": {
        "colab": {
          "base_uri": "https://localhost:8080/"
        },
        "id": "47J0mMw8CsxX",
        "outputId": "3742f105-83b2-439f-ec69-e7d42f295da7"
      },
      "execution_count": 19,
      "outputs": [
        {
          "output_type": "stream",
          "name": "stdout",
          "text": [
            "1\n",
            "3\n",
            "5\n",
            "7\n",
            "9\n",
            "11\n",
            "13\n",
            "15\n",
            "17\n",
            "19\n",
            "21\n",
            "23\n",
            "25\n",
            "27\n",
            "29\n",
            "31\n",
            "33\n",
            "35\n",
            "37\n",
            "39\n",
            "41\n",
            "43\n",
            "45\n",
            "47\n",
            "49\n"
          ]
        }
      ]
    },
    {
      "cell_type": "code",
      "source": [
        "# To display numbers from 25 to 10 in descending order\n",
        "for x in range(25,10,-1):\n",
        " print(x)"
      ],
      "metadata": {
        "colab": {
          "base_uri": "https://localhost:8080/"
        },
        "id": "MeD4V4O8C_U5",
        "outputId": "f666d91a-ee2e-4515-90ed-7fd799211238"
      },
      "execution_count": 20,
      "outputs": [
        {
          "output_type": "stream",
          "name": "stdout",
          "text": [
            "25\n",
            "24\n",
            "23\n",
            "22\n",
            "21\n",
            "20\n",
            "19\n",
            "18\n",
            "17\n",
            "16\n",
            "15\n",
            "14\n",
            "13\n",
            "12\n",
            "11\n"
          ]
        }
      ]
    },
    {
      "cell_type": "code",
      "source": [
        "# To print sum of numbers presenst inside list\n",
        "list=eval(input(\"EnterList:\"))\n",
        "sum=0;\n",
        "for x in list:\n",
        " sum=sum+x;\n",
        "print(\"The Sum=\",sum)"
      ],
      "metadata": {
        "colab": {
          "base_uri": "https://localhost:8080/"
        },
        "id": "TP0BQ-h4DQRA",
        "outputId": "c9428818-fbbb-4dbd-f8bd-c3eba3fdcb04"
      },
      "execution_count": 22,
      "outputs": [
        {
          "output_type": "stream",
          "name": "stdout",
          "text": [
            "EnterList:10,20,20,30,40\n",
            "The Sum= 120\n"
          ]
        }
      ]
    },
    {
      "cell_type": "markdown",
      "source": [
        "#2) While Loop\n",
        "If we want to execute a group of statements iteratively until some condition become false,then we should go for while loop."
      ],
      "metadata": {
        "id": "2ia5vlDXDcKh"
      }
    },
    {
      "cell_type": "code",
      "source": [
        "# To print numbers from 2 to 15 by using while loop\n",
        "\n",
        "x=2\n",
        "while x<=15:\n",
        " print(x)\n",
        " x=x+1"
      ],
      "metadata": {
        "colab": {
          "base_uri": "https://localhost:8080/"
        },
        "id": "C7w_EATEDihJ",
        "outputId": "c4081c03-301f-4193-fd94-f0c5fa6a2203"
      },
      "execution_count": 24,
      "outputs": [
        {
          "output_type": "stream",
          "name": "stdout",
          "text": [
            "2\n",
            "3\n",
            "4\n",
            "5\n",
            "6\n",
            "7\n",
            "8\n",
            "9\n",
            "10\n",
            "11\n",
            "12\n",
            "13\n",
            "14\n",
            "15\n"
          ]
        }
      ]
    },
    {
      "cell_type": "code",
      "source": [
        "# To display the sum of first n numbers\n",
        "\n",
        "n=int(input(\"Enternumber:\"))\n",
        "sum=0\n",
        "i=1\n",
        "while i<=n:\n",
        "  sum=sum+i\n",
        "  i=i+1\n",
        "print(\"The sum of first\",n,\"numbers is:\",sum)"
      ],
      "metadata": {
        "colab": {
          "base_uri": "https://localhost:8080/"
        },
        "id": "ztLcQ84tDxgR",
        "outputId": "747d22b5-8c2e-4c02-a1d6-34a800d4444f"
      },
      "execution_count": 26,
      "outputs": [
        {
          "output_type": "stream",
          "name": "stdout",
          "text": [
            "Enternumber:10\n",
            "The sum of first 10 numbers is: 55\n"
          ]
        }
      ]
    },
    {
      "cell_type": "markdown",
      "source": [
        "#Infinite Loops"
      ],
      "metadata": {
        "id": "wyUnnC4SD_NP"
      }
    },
    {
      "cell_type": "code",
      "source": [
        "i=0;\n",
        "while True:\n",
        "  i=i+1;\n",
        "  print(\"Hello\",i)"
      ],
      "metadata": {
        "id": "n4Lpf7adEBOq"
      },
      "execution_count": null,
      "outputs": []
    },
    {
      "cell_type": "markdown",
      "source": [
        "#Nested Loop"
      ],
      "metadata": {
        "id": "3qw1NpLeECGZ"
      }
    },
    {
      "cell_type": "code",
      "source": [
        "# we can take a loop inside another loop,which are also known as nested loops.\n",
        "for i in range(4):\n",
        "  for j in range(4):\n",
        "    print(\"i=\",i,\" j=\",j)"
      ],
      "metadata": {
        "colab": {
          "base_uri": "https://localhost:8080/"
        },
        "id": "zjSCL9tREGsb",
        "outputId": "9d843d40-b102-4a05-8f61-ec6bcdd3ea64"
      },
      "execution_count": 27,
      "outputs": [
        {
          "output_type": "stream",
          "name": "stdout",
          "text": [
            "i= 0  j= 0\n",
            "i= 0  j= 1\n",
            "i= 0  j= 2\n",
            "i= 0  j= 3\n",
            "i= 1  j= 0\n",
            "i= 1  j= 1\n",
            "i= 1  j= 2\n",
            "i= 1  j= 3\n",
            "i= 2  j= 0\n",
            "i= 2  j= 1\n",
            "i= 2  j= 2\n",
            "i= 2  j= 3\n",
            "i= 3  j= 0\n",
            "i= 3  j= 1\n",
            "i= 3  j= 2\n",
            "i= 3  j= 3\n"
          ]
        }
      ]
    },
    {
      "cell_type": "markdown",
      "source": [
        "#Homework\n",
        "Q) Write a Program to dispaly *'s in Right Angled Triangled Form"
      ],
      "metadata": {
        "id": "9uK_7TVtED9R"
      }
    },
    {
      "cell_type": "code",
      "source": [
        "*\n",
        "\n",
        "**\n",
        "\n",
        "***\n",
        "\n",
        "****\n",
        "\n",
        "*****"
      ],
      "metadata": {
        "id": "-63Eq0tbEPwM"
      },
      "execution_count": null,
      "outputs": []
    },
    {
      "cell_type": "code",
      "source": [
        ""
      ],
      "metadata": {
        "id": "6SiGJGn8ERw5"
      },
      "execution_count": null,
      "outputs": []
    },
    {
      "cell_type": "markdown",
      "source": [
        "#3) Transfer Statements\n",
        "**1) break:**\n",
        "We can use break statement inside loops to break loop execution based on some condition."
      ],
      "metadata": {
        "id": "QYwL0vtdEUnS"
      }
    },
    {
      "cell_type": "code",
      "source": [
        "for i in range(25):\n",
        " if i==19:\n",
        "   print(\"processing is enough..plz break\")\n",
        "   break\n",
        " print(i)"
      ],
      "metadata": {
        "colab": {
          "base_uri": "https://localhost:8080/"
        },
        "id": "QQbIVtZHEauZ",
        "outputId": "c53185ca-1465-458c-f2dd-6bf8da59afcf"
      },
      "execution_count": 29,
      "outputs": [
        {
          "output_type": "stream",
          "name": "stdout",
          "text": [
            "0\n",
            "1\n",
            "2\n",
            "3\n",
            "4\n",
            "5\n",
            "6\n",
            "7\n",
            "8\n",
            "9\n",
            "10\n",
            "11\n",
            "12\n",
            "13\n",
            "14\n",
            "15\n",
            "16\n",
            "17\n",
            "18\n",
            "processing is enough..plz break\n"
          ]
        }
      ]
    },
    {
      "cell_type": "code",
      "source": [
        "cart=[10,20,50,599,600,60,70]\n",
        "for item in cart:\n",
        "  if item>500:\n",
        "    print(\"To place this order insurence must be required\")\n",
        "    break\n",
        "  print(item)"
      ],
      "metadata": {
        "colab": {
          "base_uri": "https://localhost:8080/"
        },
        "id": "BkEUQi2PEkoN",
        "outputId": "c8ad7753-5316-4e73-a903-e5f182528bcd"
      },
      "execution_count": 31,
      "outputs": [
        {
          "output_type": "stream",
          "name": "stdout",
          "text": [
            "10\n",
            "20\n",
            "50\n",
            "To place this order insurence must be required\n"
          ]
        }
      ]
    },
    {
      "cell_type": "markdown",
      "source": [
        "#2) continue\n",
        "We can use continue statement to skip current iteration and continue next iteration."
      ],
      "metadata": {
        "id": "DmgTTdb0Euu6"
      }
    },
    {
      "cell_type": "code",
      "source": [
        "# Eg: To print odd numbers in the range 0 to 30\n",
        "for i in range(30):\n",
        "  if i%2==0:\n",
        "    continue\n",
        "  print(i)"
      ],
      "metadata": {
        "colab": {
          "base_uri": "https://localhost:8080/"
        },
        "id": "PILjOEgKExsS",
        "outputId": "7d0188a9-4f46-43d1-cc57-103aa31e01c8"
      },
      "execution_count": 32,
      "outputs": [
        {
          "output_type": "stream",
          "name": "stdout",
          "text": [
            "1\n",
            "3\n",
            "5\n",
            "7\n",
            "9\n",
            "11\n",
            "13\n",
            "15\n",
            "17\n",
            "19\n",
            "21\n",
            "23\n",
            "25\n",
            "27\n",
            "29\n"
          ]
        }
      ]
    },
    {
      "cell_type": "code",
      "source": [
        "cart=[10,20,500,800,700,50,60]\n",
        "for item in cart:\n",
        "  if item>=500:\n",
        "    print(\"We cannot process this item :\",item)\n",
        "    continue\n",
        "  print(item)"
      ],
      "metadata": {
        "colab": {
          "base_uri": "https://localhost:8080/"
        },
        "id": "JqcirayGE6Gq",
        "outputId": "447964f8-113d-4533-858e-859f2e3e3d96"
      },
      "execution_count": 33,
      "outputs": [
        {
          "output_type": "stream",
          "name": "stdout",
          "text": [
            "10\n",
            "20\n",
            "We cannot process this item : 500\n",
            "We cannot process this item : 800\n",
            "We cannot process this item : 700\n",
            "50\n",
            "60\n"
          ]
        }
      ]
    },
    {
      "cell_type": "code",
      "source": [
        "numbers=[10,20,0,5,0,30]\n",
        "for n in numbers:\n",
        "  if n==0:\n",
        "    print(\"Hey how we can divide with zero..just skipping\")\n",
        "    continue\n",
        "  print(\"100/{} = {}\".format(n,100/n))"
      ],
      "metadata": {
        "colab": {
          "base_uri": "https://localhost:8080/"
        },
        "id": "BEDzVEP_FAvq",
        "outputId": "b969ec64-f8d4-4800-8e1d-3445cb38dd45"
      },
      "execution_count": 34,
      "outputs": [
        {
          "output_type": "stream",
          "name": "stdout",
          "text": [
            "100/10 = 10.0\n",
            "100/20 = 5.0\n",
            "Hey how we can divide with zero..just skipping\n",
            "100/5 = 20.0\n",
            "Hey how we can divide with zero..just skipping\n",
            "100/30 = 3.3333333333333335\n"
          ]
        }
      ]
    },
    {
      "cell_type": "markdown",
      "source": [
        "#Loops With else block\n",
        "Inside loop execution, if break statement not executed, then only else part will be executed.\n",
        "\n",
        "\"else\" means loop without break"
      ],
      "metadata": {
        "id": "GXKk5cGpFVzF"
      }
    },
    {
      "cell_type": "code",
      "source": [
        "cart=[1,2,3,4,5]\n",
        "for item in cart:\n",
        "  if item>=4:\n",
        "     print(\"We cannot process this order\")\n",
        "     break\n",
        "  print(item)\n",
        "else:\n",
        "  print(\"Congrats ...all items processed successfully\")"
      ],
      "metadata": {
        "colab": {
          "base_uri": "https://localhost:8080/"
        },
        "id": "WyjmheBBFZBD",
        "outputId": "2db2ce7a-e7e5-4eeb-9b8f-daf141a5e820"
      },
      "execution_count": 35,
      "outputs": [
        {
          "output_type": "stream",
          "name": "stdout",
          "text": [
            "1\n",
            "2\n",
            "3\n",
            "We cannot process this order\n"
          ]
        }
      ]
    },
    {
      "cell_type": "code",
      "source": [
        "cart=[1,2,3,4,5]\n",
        "for item in cart:\n",
        "  if item>=6:\n",
        "     print(\"We cannot process this order\")\n",
        "     break\n",
        "  print(item)\n",
        "else:\n",
        "  print(\"Congrats ...all items processed successfully\")"
      ],
      "metadata": {
        "colab": {
          "base_uri": "https://localhost:8080/"
        },
        "id": "kcIXei1OFVJr",
        "outputId": "4a37cb29-3e55-4999-c766-0591de98faf0"
      },
      "execution_count": 36,
      "outputs": [
        {
          "output_type": "stream",
          "name": "stdout",
          "text": [
            "1\n",
            "2\n",
            "3\n",
            "4\n",
            "5\n",
            "Congrats ...all items processed successfully\n"
          ]
        }
      ]
    },
    {
      "cell_type": "markdown",
      "source": [
        "**Homework**\n",
        "Q) What is the difference between for loop and while loop in Python?\n",
        "\n",
        "We can use loops to repeat code execution.\n",
        "\n",
        "Repeat code for every item in sequence --> for loop\n",
        "\n",
        "Repeat code as long as condition is true --> while loop\n",
        "\n",
        "Q)How to exit from the loop?\n",
        "\n",
        "-->By using break statement.\n",
        "\n",
        "Q) How to skip some iterations inside loop? --> By using continue statement.\n",
        "\n",
        "Q) When else part will be executed wrt loops?\n",
        "\n",
        "-->If loop executed without break."
      ],
      "metadata": {
        "id": "TfQR7sgsFrob"
      }
    },
    {
      "cell_type": "markdown",
      "source": [
        "#3) pass statement:\n",
        "pass is a keyword in python.\n",
        "\n",
        "In our programming syntactically if block is required which won't do anything then we can define that empty block with pass keyword.\n",
        "\n",
        "--> It is an empty statement.\n",
        "\n",
        "-->It is a null statement.\n",
        "\n",
        "--> It will not do anything.\n",
        "\n",
        "Sometimes in the parent class we have to declare a function with empty body and child class responsible to provide proper implementation. Such type of empty body we can define by using pass keyword."
      ],
      "metadata": {
        "id": "ptIeiuEUFydb"
      }
    },
    {
      "cell_type": "code",
      "source": [
        "for i in range(50):\n",
        "  if i%5==0:\n",
        "    print(i)\n",
        "  else:\n",
        "    pass"
      ],
      "metadata": {
        "colab": {
          "base_uri": "https://localhost:8080/"
        },
        "id": "uln4_ffpFqne",
        "outputId": "257b3b40-1f54-48b2-821f-3427d1c94b9a"
      },
      "execution_count": 39,
      "outputs": [
        {
          "output_type": "stream",
          "name": "stdout",
          "text": [
            "0\n",
            "5\n",
            "10\n",
            "15\n",
            "20\n",
            "25\n",
            "30\n",
            "35\n",
            "40\n",
            "45\n"
          ]
        }
      ]
    }
  ]
}